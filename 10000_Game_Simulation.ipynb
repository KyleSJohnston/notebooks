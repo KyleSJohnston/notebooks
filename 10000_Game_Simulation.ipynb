{
 "cells": [
  {
   "cell_type": "markdown",
   "metadata": {},
   "source": [
    "Problem adapted from @thomas_mock: https://twitter.com/thomas_mock/status/1213219168658640896"
   ]
  },
  {
   "cell_type": "code",
   "execution_count": 45,
   "metadata": {},
   "outputs": [
    {
     "data": {
      "text/plain": [
       "score (generic function with 5 methods)"
      ]
     },
     "execution_count": 45,
     "metadata": {},
     "output_type": "execute_result"
    }
   ],
   "source": [
    "# Create scoring function\n",
    "\n",
    "function score(die::Int)\n",
    "    if die == 1\n",
    "        return 100\n",
    "    elseif die == 5\n",
    "        return 50\n",
    "    end\n",
    "    return 0\n",
    "end\n",
    "\n",
    "function score(dice::Vararg{Int, 2})\n",
    "    return 0\n",
    "end\n",
    "\n",
    "function score(dice::Vararg{Int, 3})\n",
    "    value = unique(dice)\n",
    "    if length(value) == 1\n",
    "        return value[1] == 1 ? 1000 : 100 * value[1]\n",
    "    else\n",
    "        return 0\n",
    "    end\n",
    "end\n",
    "\n",
    "function score(dice::Vararg{Int, 4})\n",
    "    value = unique(dice)\n",
    "    if length(value) == 1\n",
    "        return value == 1 ? 5000 : 200 * value\n",
    "    else\n",
    "        return 0\n",
    "    end\n",
    "end\n",
    "\n",
    "function score(dice::Vararg{Int, 5})\n",
    "    value = unique(dice)\n",
    "    if length(value) == 1\n",
    "        return value == 1 ? 10000 : 300 * value\n",
    "    else\n",
    "        straight = sort(collect(dice))\n",
    "        if straight == collect(1:5) || straight == collect(2:6)\n",
    "            return 1000\n",
    "        else\n",
    "            return 0\n",
    "        end\n",
    "    end\n",
    "end"
   ]
  },
  {
   "cell_type": "code",
   "execution_count": 8,
   "metadata": {},
   "outputs": [
    {
     "data": {
      "text/html": [
       "# 5 methods for generic function <b>score</b>:<ul><li> score(dice::<b>Vararg{Int64,5}</b>) in Main at In[7]:35</li> <li> score(dice::<b>Vararg{Int64,4}</b>) in Main at In[7]:26</li> <li> score(dice::<b>Vararg{Int64,2}</b>) in Main at In[7]:13</li> <li> score(dice::<b>Vararg{Int64,3}</b>) in Main at In[7]:17</li> <li> score(die::<b>Int64</b>) in Main at In[7]:4</li> </ul>"
      ],
      "text/plain": [
       "# 5 methods for generic function \"score\":\n",
       "[1] score(dice::Vararg{Int64,5}) in Main at In[7]:35\n",
       "[2] score(dice::Vararg{Int64,4}) in Main at In[7]:26\n",
       "[3] score(dice::Vararg{Int64,2}) in Main at In[7]:13\n",
       "[4] score(dice::Vararg{Int64,3}) in Main at In[7]:17\n",
       "[5] score(die::Int64) in Main at In[7]:4"
      ]
     },
     "execution_count": 8,
     "metadata": {},
     "output_type": "execute_result"
    }
   ],
   "source": [
    "methods(score)"
   ]
  },
  {
   "cell_type": "code",
   "execution_count": 9,
   "metadata": {},
   "outputs": [
    {
     "data": {
      "text/plain": [
       "1050"
      ]
     },
     "execution_count": 9,
     "metadata": {},
     "output_type": "execute_result"
    }
   ],
   "source": [
    "score(1, 1, 1) + score(5)  # expect 1050"
   ]
  },
  {
   "cell_type": "code",
   "execution_count": 56,
   "metadata": {},
   "outputs": [
    {
     "data": {
      "text/plain": [
       "possiblescores (generic function with 1 method)"
      ]
     },
     "execution_count": 56,
     "metadata": {},
     "output_type": "execute_result"
    }
   ],
   "source": [
    "import IterTools\n",
    "\n",
    "function possiblescores(roll::Array{Int,1})\n",
    "    length(roll) == 5 || error(\"Expected five dice but got $(length(roll))\")\n",
    "    roll = sort(roll)\n",
    "    results = Dict()\n",
    "    for n in 1:length(roll)\n",
    "        for subset in IterTools.subsets(roll, n)\n",
    "            key = tuple(subset...)\n",
    "            if !haskey(results, key)\n",
    "                results[key] = score(subset...)\n",
    "            end\n",
    "        end\n",
    "    end\n",
    "    rtn = Dict()\n",
    "    for (k, v) in pairs(results)\n",
    "        if v > 0\n",
    "            rtn[k] = v\n",
    "        end\n",
    "    end\n",
    "    return rtn\n",
    "end"
   ]
  },
  {
   "cell_type": "code",
   "execution_count": 35,
   "metadata": {},
   "outputs": [
    {
     "data": {
      "text/plain": [
       "5-element Array{Int64,1}:\n",
       " 3\n",
       " 5\n",
       " 2\n",
       " 1\n",
       " 1"
      ]
     },
     "execution_count": 35,
     "metadata": {},
     "output_type": "execute_result"
    }
   ],
   "source": [
    "example = rand(1:6, 5)"
   ]
  },
  {
   "cell_type": "code",
   "execution_count": 57,
   "metadata": {},
   "outputs": [
    {
     "data": {
      "text/plain": [
       "Dict{Any,Any} with 2 entries:\n",
       "  (5,) => 50\n",
       "  (1,) => 100"
      ]
     },
     "execution_count": 57,
     "metadata": {},
     "output_type": "execute_result"
    }
   ],
   "source": [
    "possiblescores(example)"
   ]
  },
  {
   "cell_type": "code",
   "execution_count": null,
   "metadata": {},
   "outputs": [],
   "source": [
    "function diceinroll(dice, roll)\n",
    "    indices = collect(1:length(roll))\n",
    "    for die in dice\n",
    "        viewindex, = indexin(die, view(roll, indices))\n",
    "        if viewindex is Nothing\n",
    "            error(\"unable to find all dice in roll\")\n",
    "        else\n",
    "            push!(indices, parentindices(view(roll, indices))[1][viewindex])\n",
    "        end\n",
    "    end\n",
    "    return indices\n",
    "end\n",
    "\n",
    "function alternatives(roll, validscores)\n",
    "    # validscores = possiblescores(roll)\n",
    "    for (dice, score) in pairs(validscores)\n",
    "        try\n",
    "            indices = diceinroll(dice, roll)\n",
    "        catch ErrorException\n",
    "            continue\n",
    "        end\n",
    "        \n",
    "    end\n",
    "    \n",
    "            \n",
    "        indices = collect(1:length(roll))\n",
    "        for die in dice\n",
    "            viewindex, = indexin(die, view(roll, indices))\n",
    "            if viewindex is Nothing\n",
    "                break\n",
    "            else\n",
    "                push!(indices, parentindices(view(roll, indices))[1][viewindex])\n",
    "            end\n",
    "            if die in view(roll, indices)\n",
    "                # add index w/in parent\n",
    "                push!(indices, \n",
    "        end\n",
    "        indices = [ ]\n",
    "    end\n",
    "    # try each and report on all options\n",
    "    return rtn\n",
    "end"
   ]
  },
  {
   "cell_type": "code",
   "execution_count": null,
   "metadata": {},
   "outputs": [],
   "source": []
  },
  {
   "cell_type": "code",
   "execution_count": null,
   "metadata": {},
   "outputs": [],
   "source": []
  },
  {
   "cell_type": "code",
   "execution_count": null,
   "metadata": {},
   "outputs": [],
   "source": []
  },
  {
   "cell_type": "code",
   "execution_count": 94,
   "metadata": {},
   "outputs": [
    {
     "data": {
      "text/plain": [
       "oddsok (generic function with 1 method)"
      ]
     },
     "execution_count": 94,
     "metadata": {},
     "output_type": "execute_result"
    }
   ],
   "source": [
    "function oddsok(number)\n",
    "    number % 2 == 1 || error(\"Expected an odd number, got $number\")\n",
    "    return number\n",
    "end"
   ]
  },
  {
   "cell_type": "code",
   "execution_count": 96,
   "metadata": {},
   "outputs": [
    {
     "name": "stdout",
     "output_type": "stream",
     "text": [
      "1\n"
     ]
    }
   ],
   "source": [
    "let mynum = 1\n",
    "    println(mynum)\n",
    "end"
   ]
  },
  {
   "cell_type": "code",
   "execution_count": 95,
   "metadata": {},
   "outputs": [
    {
     "ename": "UndefVarError",
     "evalue": "UndefVarError: num not defined",
     "output_type": "error",
     "traceback": [
      "UndefVarError: num not defined",
      "",
      "Stacktrace:",
      " [1] top-level scope at In[95]:6"
     ]
    }
   ],
   "source": [
    "let mynum = 1\n",
    "    num = try oddsok(mynum) catch e\n",
    "        if !isa(e, ErrorException)\n",
    "            rethrow()\n",
    "        end\n",
    "    end\n",
    "        \n",
    "        catch e\n",
    "    end\n",
    "    print(num)\n",
    "end;"
   ]
  },
  {
   "cell_type": "code",
   "execution_count": 58,
   "metadata": {},
   "outputs": [
    {
     "data": {
      "text/plain": [
       "5-element Array{Int64,1}:\n",
       " 1\n",
       " 2\n",
       " 3\n",
       " 4\n",
       " 5"
      ]
     },
     "execution_count": 58,
     "metadata": {},
     "output_type": "execute_result"
    }
   ],
   "source": [
    "x = collect(1:5)"
   ]
  },
  {
   "cell_type": "code",
   "execution_count": 80,
   "metadata": {},
   "outputs": [
    {
     "data": {
      "text/plain": [
       "0-dimensional Array{Union{Nothing, Int64},0}:\n",
       "1"
      ]
     },
     "execution_count": 80,
     "metadata": {},
     "output_type": "execute_result"
    }
   ],
   "source": [
    "indexin(2, view(view(x, [1, 2, 5]), [2, 3]))"
   ]
  },
  {
   "cell_type": "code",
   "execution_count": 81,
   "metadata": {},
   "outputs": [
    {
     "data": {
      "text/plain": [
       "1"
      ]
     },
     "execution_count": 81,
     "metadata": {},
     "output_type": "execute_result"
    }
   ],
   "source": [
    "z, = indexin(2, view(view(x, [1, 2, 5]), [2, 3]))\n",
    "z"
   ]
  },
  {
   "cell_type": "code",
   "execution_count": 84,
   "metadata": {},
   "outputs": [
    {
     "data": {
      "text/plain": [
       "2"
      ]
     },
     "execution_count": 84,
     "metadata": {},
     "output_type": "execute_result"
    }
   ],
   "source": [
    "parentindices(view(view(x, [1, 2, 5]), [2, 3]))[1][z]"
   ]
  },
  {
   "cell_type": "code",
   "execution_count": 77,
   "metadata": {},
   "outputs": [
    {
     "data": {
      "text/plain": [
       "0-dimensional Array{Union{Nothing, Int64},0}:\n",
       "2"
      ]
     },
     "execution_count": 77,
     "metadata": {},
     "output_type": "execute_result"
    }
   ],
   "source": [
    "indexin(2, x)"
   ]
  },
  {
   "cell_type": "code",
   "execution_count": 71,
   "metadata": {},
   "outputs": [
    {
     "data": {
      "text/plain": [
       "3-element Array{Int64,1}:\n",
       " 3\n",
       " 4\n",
       " 5"
      ]
     },
     "execution_count": 71,
     "metadata": {},
     "output_type": "execute_result"
    }
   ],
   "source": [
    "symdiff(x, [1, 2])"
   ]
  },
  {
   "cell_type": "code",
   "execution_count": null,
   "metadata": {},
   "outputs": [],
   "source": [
    "[1, 2, 3, 5] == collect(1:5)"
   ]
  },
  {
   "cell_type": "code",
   "execution_count": null,
   "metadata": {},
   "outputs": [],
   "source": [
    "sort(y)"
   ]
  },
  {
   "cell_type": "code",
   "execution_count": null,
   "metadata": {},
   "outputs": [],
   "source": [
    "for x in y\n",
    "    println(x)\n",
    "end"
   ]
  },
  {
   "cell_type": "code",
   "execution_count": null,
   "metadata": {},
   "outputs": [],
   "source": [
    "0 == 1 == 2"
   ]
  },
  {
   "cell_type": "code",
   "execution_count": null,
   "metadata": {},
   "outputs": [],
   "source": [
    "1 == 1 ? 400 : 0"
   ]
  },
  {
   "cell_type": "code",
   "execution_count": 47,
   "metadata": {},
   "outputs": [
    {
     "data": {
      "text/plain": [
       "500"
      ]
     },
     "execution_count": 47,
     "metadata": {},
     "output_type": "execute_result"
    }
   ],
   "source": [
    "exampledict = Dict()\n",
    "key = [1, 2]\n",
    "exampledict[key...] = 500"
   ]
  },
  {
   "cell_type": "code",
   "execution_count": 49,
   "metadata": {},
   "outputs": [
    {
     "data": {
      "text/plain": [
       "true"
      ]
     },
     "execution_count": 49,
     "metadata": {},
     "output_type": "execute_result"
    }
   ],
   "source": [
    "haskey(exampledict, tuple(key...))"
   ]
  },
  {
   "cell_type": "code",
   "execution_count": 24,
   "metadata": {},
   "outputs": [
    {
     "data": {
      "text/plain": [
       "Dict{Any,Any} with 1 entry:\n",
       "  (1, 2) => 500"
      ]
     },
     "execution_count": 24,
     "metadata": {},
     "output_type": "execute_result"
    }
   ],
   "source": [
    "exampledict"
   ]
  }
 ],
 "metadata": {
  "kernelspec": {
   "display_name": "Julia 1.3.0",
   "language": "julia",
   "name": "julia-1.3"
  },
  "language_info": {
   "file_extension": ".jl",
   "mimetype": "application/julia",
   "name": "julia",
   "version": "1.3.0"
  }
 },
 "nbformat": 4,
 "nbformat_minor": 2
}
