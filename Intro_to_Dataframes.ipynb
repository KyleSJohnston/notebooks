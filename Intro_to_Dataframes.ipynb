{
 "cells": [
  {
   "cell_type": "markdown",
   "metadata": {},
   "source": [
    "Notebook derived from: https://en.wikibooks.org/wiki/Introducing_Julia/DataFrames"
   ]
  },
  {
   "cell_type": "code",
   "execution_count": 1,
   "metadata": {},
   "outputs": [
    {
     "name": "stderr",
     "output_type": "stream",
     "text": [
      "┌ Info: Recompiling stale cache file /home/kyle/.julia/compiled/v1.1/DataFrames/AR9oZ.ji for DataFrames [a93c6f00-e57d-5684-b7b6-d8193f3e46c0]\n",
      "└ @ Base loading.jl:1184\n"
     ]
    }
   ],
   "source": [
    "using DataFrames"
   ]
  },
  {
   "cell_type": "markdown",
   "metadata": {},
   "source": [
    "### Loading Data into DataFrames"
   ]
  },
  {
   "cell_type": "code",
   "execution_count": 2,
   "metadata": {},
   "outputs": [],
   "source": [
    "anscombe = DataFrame(\n",
    " [10  10  10  8   8.04   9.14  7.46   6.58;    \n",
    "  8   8   8   8   6.95   8.14  6.77   5.76;   \n",
    "  13  13  13  8   7.58   8.74  12.74  7.71;   \n",
    "  9   9   9   8   8.81   8.77  7.11   8.84;   \n",
    "  11  11  11  8   8.33   9.26  7.81   8.47;   \n",
    "  14  14  14  8   9.96   8.1   8.84   7.04;   \n",
    "  6   6   6   8   7.24   6.13  6.08   5.25;   \n",
    "  4   4   4   19  4.26   3.1   5.39   12.5;   \n",
    "  12  12  12  8   10.84  9.13  8.15   5.56;   \n",
    "  7   7   7   8   4.82   7.26  6.42   7.91;   \n",
    "  5   5   5   8   5.68   4.74  5.73   6.89]); "
   ]
  },
  {
   "cell_type": "code",
   "execution_count": 3,
   "metadata": {},
   "outputs": [
    {
     "data": {
      "text/html": [
       "<table class=\"data-frame\"><thead><tr><th></th><th>X1</th><th>X2</th><th>X3</th><th>X4</th><th>Y1</th><th>Y2</th><th>Y3</th><th>Y4</th></tr><tr><th></th><th>Float64</th><th>Float64</th><th>Float64</th><th>Float64</th><th>Float64</th><th>Float64</th><th>Float64</th><th>Float64</th></tr></thead><tbody><p>11 rows × 8 columns</p><tr><th>1</th><td>10.0</td><td>10.0</td><td>10.0</td><td>8.0</td><td>8.04</td><td>9.14</td><td>7.46</td><td>6.58</td></tr><tr><th>2</th><td>8.0</td><td>8.0</td><td>8.0</td><td>8.0</td><td>6.95</td><td>8.14</td><td>6.77</td><td>5.76</td></tr><tr><th>3</th><td>13.0</td><td>13.0</td><td>13.0</td><td>8.0</td><td>7.58</td><td>8.74</td><td>12.74</td><td>7.71</td></tr><tr><th>4</th><td>9.0</td><td>9.0</td><td>9.0</td><td>8.0</td><td>8.81</td><td>8.77</td><td>7.11</td><td>8.84</td></tr><tr><th>5</th><td>11.0</td><td>11.0</td><td>11.0</td><td>8.0</td><td>8.33</td><td>9.26</td><td>7.81</td><td>8.47</td></tr><tr><th>6</th><td>14.0</td><td>14.0</td><td>14.0</td><td>8.0</td><td>9.96</td><td>8.1</td><td>8.84</td><td>7.04</td></tr><tr><th>7</th><td>6.0</td><td>6.0</td><td>6.0</td><td>8.0</td><td>7.24</td><td>6.13</td><td>6.08</td><td>5.25</td></tr><tr><th>8</th><td>4.0</td><td>4.0</td><td>4.0</td><td>19.0</td><td>4.26</td><td>3.1</td><td>5.39</td><td>12.5</td></tr><tr><th>9</th><td>12.0</td><td>12.0</td><td>12.0</td><td>8.0</td><td>10.84</td><td>9.13</td><td>8.15</td><td>5.56</td></tr><tr><th>10</th><td>7.0</td><td>7.0</td><td>7.0</td><td>8.0</td><td>4.82</td><td>7.26</td><td>6.42</td><td>7.91</td></tr><tr><th>11</th><td>5.0</td><td>5.0</td><td>5.0</td><td>8.0</td><td>5.68</td><td>4.74</td><td>5.73</td><td>6.89</td></tr></tbody></table>"
      ],
      "text/latex": [
       "\\begin{tabular}{r|cccccccc}\n",
       "\t& X1 & X2 & X3 & X4 & Y1 & Y2 & Y3 & Y4\\\\\n",
       "\t\\hline\n",
       "\t& Float64 & Float64 & Float64 & Float64 & Float64 & Float64 & Float64 & Float64\\\\\n",
       "\t\\hline\n",
       "\t1 & 10.0 & 10.0 & 10.0 & 8.0 & 8.04 & 9.14 & 7.46 & 6.58 \\\\\n",
       "\t2 & 8.0 & 8.0 & 8.0 & 8.0 & 6.95 & 8.14 & 6.77 & 5.76 \\\\\n",
       "\t3 & 13.0 & 13.0 & 13.0 & 8.0 & 7.58 & 8.74 & 12.74 & 7.71 \\\\\n",
       "\t4 & 9.0 & 9.0 & 9.0 & 8.0 & 8.81 & 8.77 & 7.11 & 8.84 \\\\\n",
       "\t5 & 11.0 & 11.0 & 11.0 & 8.0 & 8.33 & 9.26 & 7.81 & 8.47 \\\\\n",
       "\t6 & 14.0 & 14.0 & 14.0 & 8.0 & 9.96 & 8.1 & 8.84 & 7.04 \\\\\n",
       "\t7 & 6.0 & 6.0 & 6.0 & 8.0 & 7.24 & 6.13 & 6.08 & 5.25 \\\\\n",
       "\t8 & 4.0 & 4.0 & 4.0 & 19.0 & 4.26 & 3.1 & 5.39 & 12.5 \\\\\n",
       "\t9 & 12.0 & 12.0 & 12.0 & 8.0 & 10.84 & 9.13 & 8.15 & 5.56 \\\\\n",
       "\t10 & 7.0 & 7.0 & 7.0 & 8.0 & 4.82 & 7.26 & 6.42 & 7.91 \\\\\n",
       "\t11 & 5.0 & 5.0 & 5.0 & 8.0 & 5.68 & 4.74 & 5.73 & 6.89 \\\\\n",
       "\\end{tabular}\n"
      ],
      "text/plain": [
       "11×8 DataFrame. Omitted printing of 1 columns\n",
       "│ Row │ X1      │ X2      │ X3      │ X4      │ Y1      │ Y2      │ Y3      │\n",
       "│     │ \u001b[90mFloat64\u001b[39m │ \u001b[90mFloat64\u001b[39m │ \u001b[90mFloat64\u001b[39m │ \u001b[90mFloat64\u001b[39m │ \u001b[90mFloat64\u001b[39m │ \u001b[90mFloat64\u001b[39m │ \u001b[90mFloat64\u001b[39m │\n",
       "├─────┼─────────┼─────────┼─────────┼─────────┼─────────┼─────────┼─────────┤\n",
       "│ 1   │ 10.0    │ 10.0    │ 10.0    │ 8.0     │ 8.04    │ 9.14    │ 7.46    │\n",
       "│ 2   │ 8.0     │ 8.0     │ 8.0     │ 8.0     │ 6.95    │ 8.14    │ 6.77    │\n",
       "│ 3   │ 13.0    │ 13.0    │ 13.0    │ 8.0     │ 7.58    │ 8.74    │ 12.74   │\n",
       "│ 4   │ 9.0     │ 9.0     │ 9.0     │ 8.0     │ 8.81    │ 8.77    │ 7.11    │\n",
       "│ 5   │ 11.0    │ 11.0    │ 11.0    │ 8.0     │ 8.33    │ 9.26    │ 7.81    │\n",
       "│ 6   │ 14.0    │ 14.0    │ 14.0    │ 8.0     │ 9.96    │ 8.1     │ 8.84    │\n",
       "│ 7   │ 6.0     │ 6.0     │ 6.0     │ 8.0     │ 7.24    │ 6.13    │ 6.08    │\n",
       "│ 8   │ 4.0     │ 4.0     │ 4.0     │ 19.0    │ 4.26    │ 3.1     │ 5.39    │\n",
       "│ 9   │ 12.0    │ 12.0    │ 12.0    │ 8.0     │ 10.84   │ 9.13    │ 8.15    │\n",
       "│ 10  │ 7.0     │ 7.0     │ 7.0     │ 8.0     │ 4.82    │ 7.26    │ 6.42    │\n",
       "│ 11  │ 5.0     │ 5.0     │ 5.0     │ 8.0     │ 5.68    │ 4.74    │ 5.73    │"
      ]
     },
     "execution_count": 3,
     "metadata": {},
     "output_type": "execute_result"
    }
   ],
   "source": [
    "names!(anscombe, [Symbol.(:X, 1:4); Symbol.(:Y, 1:4)])"
   ]
  },
  {
   "cell_type": "code",
   "execution_count": 14,
   "metadata": {},
   "outputs": [
    {
     "name": "stderr",
     "output_type": "stream",
     "text": [
      "┌ Info: Precompiling RDatasets [ce6b1742-4840-55fa-b093-852dadbb1d8b]\n",
      "└ @ Base loading.jl:1186\n"
     ]
    }
   ],
   "source": [
    "using RDatasets"
   ]
  },
  {
   "cell_type": "code",
   "execution_count": 15,
   "metadata": {},
   "outputs": [
    {
     "data": {
      "text/html": [
       "<table class=\"data-frame\"><thead><tr><th></th><th>X1</th><th>X2</th><th>X3</th><th>X4</th><th>Y1</th><th>Y2</th><th>Y3</th><th>Y4</th></tr><tr><th></th><th>Int64</th><th>Int64</th><th>Int64</th><th>Int64</th><th>Float64</th><th>Float64</th><th>Float64</th><th>Float64</th></tr></thead><tbody><p>11 rows × 8 columns</p><tr><th>1</th><td>10</td><td>10</td><td>10</td><td>8</td><td>8.04</td><td>9.14</td><td>7.46</td><td>6.58</td></tr><tr><th>2</th><td>8</td><td>8</td><td>8</td><td>8</td><td>6.95</td><td>8.14</td><td>6.77</td><td>5.76</td></tr><tr><th>3</th><td>13</td><td>13</td><td>13</td><td>8</td><td>7.58</td><td>8.74</td><td>12.74</td><td>7.71</td></tr><tr><th>4</th><td>9</td><td>9</td><td>9</td><td>8</td><td>8.81</td><td>8.77</td><td>7.11</td><td>8.84</td></tr><tr><th>5</th><td>11</td><td>11</td><td>11</td><td>8</td><td>8.33</td><td>9.26</td><td>7.81</td><td>8.47</td></tr><tr><th>6</th><td>14</td><td>14</td><td>14</td><td>8</td><td>9.96</td><td>8.1</td><td>8.84</td><td>7.04</td></tr><tr><th>7</th><td>6</td><td>6</td><td>6</td><td>8</td><td>7.24</td><td>6.13</td><td>6.08</td><td>5.25</td></tr><tr><th>8</th><td>4</td><td>4</td><td>4</td><td>19</td><td>4.26</td><td>3.1</td><td>5.39</td><td>12.5</td></tr><tr><th>9</th><td>12</td><td>12</td><td>12</td><td>8</td><td>10.84</td><td>9.13</td><td>8.15</td><td>5.56</td></tr><tr><th>10</th><td>7</td><td>7</td><td>7</td><td>8</td><td>4.82</td><td>7.26</td><td>6.42</td><td>7.91</td></tr><tr><th>11</th><td>5</td><td>5</td><td>5</td><td>8</td><td>5.68</td><td>4.74</td><td>5.73</td><td>6.89</td></tr></tbody></table>"
      ],
      "text/latex": [
       "\\begin{tabular}{r|cccccccc}\n",
       "\t& X1 & X2 & X3 & X4 & Y1 & Y2 & Y3 & Y4\\\\\n",
       "\t\\hline\n",
       "\t& Int64 & Int64 & Int64 & Int64 & Float64 & Float64 & Float64 & Float64\\\\\n",
       "\t\\hline\n",
       "\t1 & 10 & 10 & 10 & 8 & 8.04 & 9.14 & 7.46 & 6.58 \\\\\n",
       "\t2 & 8 & 8 & 8 & 8 & 6.95 & 8.14 & 6.77 & 5.76 \\\\\n",
       "\t3 & 13 & 13 & 13 & 8 & 7.58 & 8.74 & 12.74 & 7.71 \\\\\n",
       "\t4 & 9 & 9 & 9 & 8 & 8.81 & 8.77 & 7.11 & 8.84 \\\\\n",
       "\t5 & 11 & 11 & 11 & 8 & 8.33 & 9.26 & 7.81 & 8.47 \\\\\n",
       "\t6 & 14 & 14 & 14 & 8 & 9.96 & 8.1 & 8.84 & 7.04 \\\\\n",
       "\t7 & 6 & 6 & 6 & 8 & 7.24 & 6.13 & 6.08 & 5.25 \\\\\n",
       "\t8 & 4 & 4 & 4 & 19 & 4.26 & 3.1 & 5.39 & 12.5 \\\\\n",
       "\t9 & 12 & 12 & 12 & 8 & 10.84 & 9.13 & 8.15 & 5.56 \\\\\n",
       "\t10 & 7 & 7 & 7 & 8 & 4.82 & 7.26 & 6.42 & 7.91 \\\\\n",
       "\t11 & 5 & 5 & 5 & 8 & 5.68 & 4.74 & 5.73 & 6.89 \\\\\n",
       "\\end{tabular}\n"
      ],
      "text/plain": [
       "11×8 DataFrame\n",
       "│ Row │ X1    │ X2    │ X3    │ X4    │ Y1      │ Y2      │ Y3      │ Y4      │\n",
       "│     │ \u001b[90mInt64\u001b[39m │ \u001b[90mInt64\u001b[39m │ \u001b[90mInt64\u001b[39m │ \u001b[90mInt64\u001b[39m │ \u001b[90mFloat64\u001b[39m │ \u001b[90mFloat64\u001b[39m │ \u001b[90mFloat64\u001b[39m │ \u001b[90mFloat64\u001b[39m │\n",
       "├─────┼───────┼───────┼───────┼───────┼─────────┼─────────┼─────────┼─────────┤\n",
       "│ 1   │ 10    │ 10    │ 10    │ 8     │ 8.04    │ 9.14    │ 7.46    │ 6.58    │\n",
       "│ 2   │ 8     │ 8     │ 8     │ 8     │ 6.95    │ 8.14    │ 6.77    │ 5.76    │\n",
       "│ 3   │ 13    │ 13    │ 13    │ 8     │ 7.58    │ 8.74    │ 12.74   │ 7.71    │\n",
       "│ 4   │ 9     │ 9     │ 9     │ 8     │ 8.81    │ 8.77    │ 7.11    │ 8.84    │\n",
       "│ 5   │ 11    │ 11    │ 11    │ 8     │ 8.33    │ 9.26    │ 7.81    │ 8.47    │\n",
       "│ 6   │ 14    │ 14    │ 14    │ 8     │ 9.96    │ 8.1     │ 8.84    │ 7.04    │\n",
       "│ 7   │ 6     │ 6     │ 6     │ 8     │ 7.24    │ 6.13    │ 6.08    │ 5.25    │\n",
       "│ 8   │ 4     │ 4     │ 4     │ 19    │ 4.26    │ 3.1     │ 5.39    │ 12.5    │\n",
       "│ 9   │ 12    │ 12    │ 12    │ 8     │ 10.84   │ 9.13    │ 8.15    │ 5.56    │\n",
       "│ 10  │ 7     │ 7     │ 7     │ 8     │ 4.82    │ 7.26    │ 6.42    │ 7.91    │\n",
       "│ 11  │ 5     │ 5     │ 5     │ 8     │ 5.68    │ 4.74    │ 5.73    │ 6.89    │"
      ]
     },
     "execution_count": 15,
     "metadata": {},
     "output_type": "execute_result"
    }
   ],
   "source": [
    "anscombe = dataset(\"datasets\", \"anscombe\")"
   ]
  },
  {
   "cell_type": "code",
   "execution_count": 4,
   "metadata": {},
   "outputs": [
    {
     "data": {
      "text/html": [
       "<table class=\"data-frame\"><thead><tr><th></th><th>A</th><th>B</th></tr><tr><th></th><th>Int64</th><th>Int64</th></tr></thead><tbody><p>6 rows × 2 columns</p><tr><th>1</th><td>1</td><td>100</td></tr><tr><th>2</th><td>2</td><td>101</td></tr><tr><th>3</th><td>3</td><td>102</td></tr><tr><th>4</th><td>4</td><td>103</td></tr><tr><th>5</th><td>5</td><td>104</td></tr><tr><th>6</th><td>6</td><td>105</td></tr></tbody></table>"
      ],
      "text/latex": [
       "\\begin{tabular}{r|cc}\n",
       "\t& A & B\\\\\n",
       "\t\\hline\n",
       "\t& Int64 & Int64\\\\\n",
       "\t\\hline\n",
       "\t1 & 1 & 100 \\\\\n",
       "\t2 & 2 & 101 \\\\\n",
       "\t3 & 3 & 102 \\\\\n",
       "\t4 & 4 & 103 \\\\\n",
       "\t5 & 5 & 104 \\\\\n",
       "\t6 & 6 & 105 \\\\\n",
       "\\end{tabular}\n"
      ],
      "text/plain": [
       "6×2 DataFrame\n",
       "│ Row │ A     │ B     │\n",
       "│     │ \u001b[90mInt64\u001b[39m │ \u001b[90mInt64\u001b[39m │\n",
       "├─────┼───────┼───────┤\n",
       "│ 1   │ 1     │ 100   │\n",
       "│ 2   │ 2     │ 101   │\n",
       "│ 3   │ 3     │ 102   │\n",
       "│ 4   │ 4     │ 103   │\n",
       "│ 5   │ 5     │ 104   │\n",
       "│ 6   │ 6     │ 105   │"
      ]
     },
     "execution_count": 4,
     "metadata": {},
     "output_type": "execute_result"
    }
   ],
   "source": [
    "df = DataFrame(\n",
    "    A=1:6,\n",
    "    B=100:105\n",
    ")"
   ]
  },
  {
   "cell_type": "code",
   "execution_count": 5,
   "metadata": {},
   "outputs": [
    {
     "data": {
      "text/html": [
       "<table class=\"data-frame\"><thead><tr><th></th><th>Name</th><th>Width</th><th>Height</th><th>Mass</th><th>Volume</th></tr><tr><th></th><th>String</th><th>Float64</th><th>Float64</th><th>Float64</th><th>Float64</th></tr></thead><tbody><p>0 rows × 5 columns</p></tbody></table>"
      ],
      "text/latex": [
       "\\begin{tabular}{r|ccccc}\n",
       "\t& Name & Width & Height & Mass & Volume\\\\\n",
       "\t\\hline\n",
       "\t& String & Float64 & Float64 & Float64 & Float64\\\\\n",
       "\t\\hline\n",
       "\\end{tabular}\n"
      ],
      "text/plain": [
       "0×5 DataFrame\n"
      ]
     },
     "execution_count": 5,
     "metadata": {},
     "output_type": "execute_result"
    }
   ],
   "source": [
    "df = DataFrame(\n",
    "    Name=String[], \n",
    "    Width=Float64[], \n",
    "    Height=Float64[], \n",
    "    Mass=Float64[], \n",
    "    Volume=Float64[]\n",
    ")"
   ]
  },
  {
   "cell_type": "code",
   "execution_count": 6,
   "metadata": {},
   "outputs": [
    {
     "data": {
      "text/html": [
       "<table class=\"data-frame\"><thead><tr><th></th><th>Name</th><th>Width</th><th>Height</th><th>Mass</th><th>Volume</th></tr><tr><th></th><th>String</th><th>Float64</th><th>Float64</th><th>Float64</th><th>Float64</th></tr></thead><tbody><p>1 rows × 5 columns</p><tr><th>1</th><td>Test</td><td>1.0</td><td>10.0</td><td>3.0</td><td>5.0</td></tr></tbody></table>"
      ],
      "text/latex": [
       "\\begin{tabular}{r|ccccc}\n",
       "\t& Name & Width & Height & Mass & Volume\\\\\n",
       "\t\\hline\n",
       "\t& String & Float64 & Float64 & Float64 & Float64\\\\\n",
       "\t\\hline\n",
       "\t1 & Test & 1.0 & 10.0 & 3.0 & 5.0 \\\\\n",
       "\\end{tabular}\n"
      ],
      "text/plain": [
       "1×5 DataFrame\n",
       "│ Row │ Name   │ Width   │ Height  │ Mass    │ Volume  │\n",
       "│     │ \u001b[90mString\u001b[39m │ \u001b[90mFloat64\u001b[39m │ \u001b[90mFloat64\u001b[39m │ \u001b[90mFloat64\u001b[39m │ \u001b[90mFloat64\u001b[39m │\n",
       "├─────┼────────┼─────────┼─────────┼─────────┼─────────┤\n",
       "│ 1   │ Test   │ 1.0     │ 10.0    │ 3.0     │ 5.0     │"
      ]
     },
     "execution_count": 6,
     "metadata": {},
     "output_type": "execute_result"
    }
   ],
   "source": [
    "df = vcat(df, DataFrame(Name=\"Test\", Width=1.0, Height=10.0, Mass=3.0, Volume=5.0))"
   ]
  },
  {
   "cell_type": "markdown",
   "metadata": {},
   "source": [
    "### Basics"
   ]
  },
  {
   "cell_type": "code",
   "execution_count": 16,
   "metadata": {},
   "outputs": [
    {
     "data": {
      "text/plain": [
       "DataFrame"
      ]
     },
     "execution_count": 16,
     "metadata": {},
     "output_type": "execute_result"
    }
   ],
   "source": [
    "typeof(anscombe)"
   ]
  },
  {
   "cell_type": "code",
   "execution_count": 17,
   "metadata": {},
   "outputs": [
    {
     "data": {
      "text/plain": [
       "8-element Array{Symbol,1}:\n",
       " :X1\n",
       " :X2\n",
       " :X3\n",
       " :X4\n",
       " :Y1\n",
       " :Y2\n",
       " :Y3\n",
       " :Y4"
      ]
     },
     "execution_count": 17,
     "metadata": {},
     "output_type": "execute_result"
    }
   ],
   "source": [
    "names(anscombe)"
   ]
  },
  {
   "cell_type": "code",
   "execution_count": 18,
   "metadata": {},
   "outputs": [
    {
     "data": {
      "text/plain": [
       "(11, 8)"
      ]
     },
     "execution_count": 18,
     "metadata": {},
     "output_type": "execute_result"
    }
   ],
   "source": [
    "size(anscombe)"
   ]
  },
  {
   "cell_type": "code",
   "execution_count": 19,
   "metadata": {},
   "outputs": [
    {
     "data": {
      "text/html": [
       "<table class=\"data-frame\"><thead><tr><th></th><th>variable</th><th>mean</th><th>min</th><th>median</th><th>max</th><th>nunique</th><th>nmissing</th><th>eltype</th></tr><tr><th></th><th>Symbol</th><th>Float64</th><th>Real</th><th>Float64</th><th>Real</th><th>Nothing</th><th>Nothing</th><th>DataType</th></tr></thead><tbody><p>8 rows × 8 columns</p><tr><th>1</th><td>X1</td><td>9.0</td><td>4</td><td>9.0</td><td>14</td><td></td><td></td><td>Int64</td></tr><tr><th>2</th><td>X2</td><td>9.0</td><td>4</td><td>9.0</td><td>14</td><td></td><td></td><td>Int64</td></tr><tr><th>3</th><td>X3</td><td>9.0</td><td>4</td><td>9.0</td><td>14</td><td></td><td></td><td>Int64</td></tr><tr><th>4</th><td>X4</td><td>9.0</td><td>8</td><td>8.0</td><td>19</td><td></td><td></td><td>Int64</td></tr><tr><th>5</th><td>Y1</td><td>7.50091</td><td>4.26</td><td>7.58</td><td>10.84</td><td></td><td></td><td>Float64</td></tr><tr><th>6</th><td>Y2</td><td>7.50091</td><td>3.1</td><td>8.14</td><td>9.26</td><td></td><td></td><td>Float64</td></tr><tr><th>7</th><td>Y3</td><td>7.5</td><td>5.39</td><td>7.11</td><td>12.74</td><td></td><td></td><td>Float64</td></tr><tr><th>8</th><td>Y4</td><td>7.50091</td><td>5.25</td><td>7.04</td><td>12.5</td><td></td><td></td><td>Float64</td></tr></tbody></table>"
      ],
      "text/latex": [
       "\\begin{tabular}{r|cccccccc}\n",
       "\t& variable & mean & min & median & max & nunique & nmissing & eltype\\\\\n",
       "\t\\hline\n",
       "\t& Symbol & Float64 & Real & Float64 & Real & Nothing & Nothing & DataType\\\\\n",
       "\t\\hline\n",
       "\t1 & X1 & 9.0 & 4 & 9.0 & 14 &  &  & Int64 \\\\\n",
       "\t2 & X2 & 9.0 & 4 & 9.0 & 14 &  &  & Int64 \\\\\n",
       "\t3 & X3 & 9.0 & 4 & 9.0 & 14 &  &  & Int64 \\\\\n",
       "\t4 & X4 & 9.0 & 8 & 8.0 & 19 &  &  & Int64 \\\\\n",
       "\t5 & Y1 & 7.50091 & 4.26 & 7.58 & 10.84 &  &  & Float64 \\\\\n",
       "\t6 & Y2 & 7.50091 & 3.1 & 8.14 & 9.26 &  &  & Float64 \\\\\n",
       "\t7 & Y3 & 7.5 & 5.39 & 7.11 & 12.74 &  &  & Float64 \\\\\n",
       "\t8 & Y4 & 7.50091 & 5.25 & 7.04 & 12.5 &  &  & Float64 \\\\\n",
       "\\end{tabular}\n"
      ],
      "text/plain": [
       "8×8 DataFrame. Omitted printing of 1 columns\n",
       "│ Row │ variable │ mean    │ min  │ median  │ max   │ nunique │ nmissing │\n",
       "│     │ \u001b[90mSymbol\u001b[39m   │ \u001b[90mFloat64\u001b[39m │ \u001b[90mReal\u001b[39m │ \u001b[90mFloat64\u001b[39m │ \u001b[90mReal\u001b[39m  │ \u001b[90mNothing\u001b[39m │ \u001b[90mNothing\u001b[39m  │\n",
       "├─────┼──────────┼─────────┼──────┼─────────┼───────┼─────────┼──────────┤\n",
       "│ 1   │ X1       │ 9.0     │ 4    │ 9.0     │ 14    │         │          │\n",
       "│ 2   │ X2       │ 9.0     │ 4    │ 9.0     │ 14    │         │          │\n",
       "│ 3   │ X3       │ 9.0     │ 4    │ 9.0     │ 14    │         │          │\n",
       "│ 4   │ X4       │ 9.0     │ 8    │ 8.0     │ 19    │         │          │\n",
       "│ 5   │ Y1       │ 7.50091 │ 4.26 │ 7.58    │ 10.84 │         │          │\n",
       "│ 6   │ Y2       │ 7.50091 │ 3.1  │ 8.14    │ 9.26  │         │          │\n",
       "│ 7   │ Y3       │ 7.5     │ 5.39 │ 7.11    │ 12.74 │         │          │\n",
       "│ 8   │ Y4       │ 7.50091 │ 5.25 │ 7.04    │ 12.5  │         │          │"
      ]
     },
     "execution_count": 19,
     "metadata": {},
     "output_type": "execute_result"
    }
   ],
   "source": [
    "describe(anscombe)"
   ]
  },
  {
   "cell_type": "code",
   "execution_count": 20,
   "metadata": {},
   "outputs": [
    {
     "data": {
      "text/plain": [
       "11-element Array{Float64,1}:\n",
       " 9.14\n",
       " 8.14\n",
       " 8.74\n",
       " 8.77\n",
       " 9.26\n",
       " 8.1 \n",
       " 6.13\n",
       " 3.1 \n",
       " 9.13\n",
       " 7.26\n",
       " 4.74"
      ]
     },
     "execution_count": 20,
     "metadata": {},
     "output_type": "execute_result"
    }
   ],
   "source": [
    "anscombe.Y2"
   ]
  },
  {
   "cell_type": "code",
   "execution_count": 21,
   "metadata": {},
   "outputs": [
    {
     "data": {
      "text/plain": [
       "11-element Array{Float64,1}:\n",
       " 9.14\n",
       " 8.14\n",
       " 8.74\n",
       " 8.77\n",
       " 9.26\n",
       " 8.1 \n",
       " 6.13\n",
       " 3.1 \n",
       " 9.13\n",
       " 7.26\n",
       " 4.74"
      ]
     },
     "execution_count": 21,
     "metadata": {},
     "output_type": "execute_result"
    }
   ],
   "source": [
    "anscombe[:, 6]"
   ]
  },
  {
   "cell_type": "code",
   "execution_count": 22,
   "metadata": {},
   "outputs": [
    {
     "data": {
      "text/html": [
       "<table class=\"data-frame\"><thead><tr><th></th><th>X1</th><th>X2</th><th>X3</th><th>Y1</th><th>Y4</th></tr><tr><th></th><th>Int64</th><th>Int64</th><th>Int64</th><th>Float64</th><th>Float64</th></tr></thead><tbody><p>11 rows × 5 columns</p><tr><th>1</th><td>10</td><td>10</td><td>10</td><td>8.04</td><td>6.58</td></tr><tr><th>2</th><td>8</td><td>8</td><td>8</td><td>6.95</td><td>5.76</td></tr><tr><th>3</th><td>13</td><td>13</td><td>13</td><td>7.58</td><td>7.71</td></tr><tr><th>4</th><td>9</td><td>9</td><td>9</td><td>8.81</td><td>8.84</td></tr><tr><th>5</th><td>11</td><td>11</td><td>11</td><td>8.33</td><td>8.47</td></tr><tr><th>6</th><td>14</td><td>14</td><td>14</td><td>9.96</td><td>7.04</td></tr><tr><th>7</th><td>6</td><td>6</td><td>6</td><td>7.24</td><td>5.25</td></tr><tr><th>8</th><td>4</td><td>4</td><td>4</td><td>4.26</td><td>12.5</td></tr><tr><th>9</th><td>12</td><td>12</td><td>12</td><td>10.84</td><td>5.56</td></tr><tr><th>10</th><td>7</td><td>7</td><td>7</td><td>4.82</td><td>7.91</td></tr><tr><th>11</th><td>5</td><td>5</td><td>5</td><td>5.68</td><td>6.89</td></tr></tbody></table>"
      ],
      "text/latex": [
       "\\begin{tabular}{r|ccccc}\n",
       "\t& X1 & X2 & X3 & Y1 & Y4\\\\\n",
       "\t\\hline\n",
       "\t& Int64 & Int64 & Int64 & Float64 & Float64\\\\\n",
       "\t\\hline\n",
       "\t1 & 10 & 10 & 10 & 8.04 & 6.58 \\\\\n",
       "\t2 & 8 & 8 & 8 & 6.95 & 5.76 \\\\\n",
       "\t3 & 13 & 13 & 13 & 7.58 & 7.71 \\\\\n",
       "\t4 & 9 & 9 & 9 & 8.81 & 8.84 \\\\\n",
       "\t5 & 11 & 11 & 11 & 8.33 & 8.47 \\\\\n",
       "\t6 & 14 & 14 & 14 & 9.96 & 7.04 \\\\\n",
       "\t7 & 6 & 6 & 6 & 7.24 & 5.25 \\\\\n",
       "\t8 & 4 & 4 & 4 & 4.26 & 12.5 \\\\\n",
       "\t9 & 12 & 12 & 12 & 10.84 & 5.56 \\\\\n",
       "\t10 & 7 & 7 & 7 & 4.82 & 7.91 \\\\\n",
       "\t11 & 5 & 5 & 5 & 5.68 & 6.89 \\\\\n",
       "\\end{tabular}\n"
      ],
      "text/plain": [
       "11×5 DataFrame\n",
       "│ Row │ X1    │ X2    │ X3    │ Y1      │ Y4      │\n",
       "│     │ \u001b[90mInt64\u001b[39m │ \u001b[90mInt64\u001b[39m │ \u001b[90mInt64\u001b[39m │ \u001b[90mFloat64\u001b[39m │ \u001b[90mFloat64\u001b[39m │\n",
       "├─────┼───────┼───────┼───────┼─────────┼─────────┤\n",
       "│ 1   │ 10    │ 10    │ 10    │ 8.04    │ 6.58    │\n",
       "│ 2   │ 8     │ 8     │ 8     │ 6.95    │ 5.76    │\n",
       "│ 3   │ 13    │ 13    │ 13    │ 7.58    │ 7.71    │\n",
       "│ 4   │ 9     │ 9     │ 9     │ 8.81    │ 8.84    │\n",
       "│ 5   │ 11    │ 11    │ 11    │ 8.33    │ 8.47    │\n",
       "│ 6   │ 14    │ 14    │ 14    │ 9.96    │ 7.04    │\n",
       "│ 7   │ 6     │ 6     │ 6     │ 7.24    │ 5.25    │\n",
       "│ 8   │ 4     │ 4     │ 4     │ 4.26    │ 12.5    │\n",
       "│ 9   │ 12    │ 12    │ 12    │ 10.84   │ 5.56    │\n",
       "│ 10  │ 7     │ 7     │ 7     │ 4.82    │ 7.91    │\n",
       "│ 11  │ 5     │ 5     │ 5     │ 5.68    │ 6.89    │"
      ]
     },
     "execution_count": 22,
     "metadata": {},
     "output_type": "execute_result"
    }
   ],
   "source": [
    "anscombe[:, [1,2,3,5,8]]"
   ]
  },
  {
   "cell_type": "code",
   "execution_count": 23,
   "metadata": {},
   "outputs": [
    {
     "data": {
      "text/html": [
       "<table class=\"data-frame\"><thead><tr><th></th><th>X1</th><th>Y1</th></tr><tr><th></th><th>Int64</th><th>Float64</th></tr></thead><tbody><p>11 rows × 2 columns</p><tr><th>1</th><td>10</td><td>8.04</td></tr><tr><th>2</th><td>8</td><td>6.95</td></tr><tr><th>3</th><td>13</td><td>7.58</td></tr><tr><th>4</th><td>9</td><td>8.81</td></tr><tr><th>5</th><td>11</td><td>8.33</td></tr><tr><th>6</th><td>14</td><td>9.96</td></tr><tr><th>7</th><td>6</td><td>7.24</td></tr><tr><th>8</th><td>4</td><td>4.26</td></tr><tr><th>9</th><td>12</td><td>10.84</td></tr><tr><th>10</th><td>7</td><td>4.82</td></tr><tr><th>11</th><td>5</td><td>5.68</td></tr></tbody></table>"
      ],
      "text/latex": [
       "\\begin{tabular}{r|cc}\n",
       "\t& X1 & Y1\\\\\n",
       "\t\\hline\n",
       "\t& Int64 & Float64\\\\\n",
       "\t\\hline\n",
       "\t1 & 10 & 8.04 \\\\\n",
       "\t2 & 8 & 6.95 \\\\\n",
       "\t3 & 13 & 7.58 \\\\\n",
       "\t4 & 9 & 8.81 \\\\\n",
       "\t5 & 11 & 8.33 \\\\\n",
       "\t6 & 14 & 9.96 \\\\\n",
       "\t7 & 6 & 7.24 \\\\\n",
       "\t8 & 4 & 4.26 \\\\\n",
       "\t9 & 12 & 10.84 \\\\\n",
       "\t10 & 7 & 4.82 \\\\\n",
       "\t11 & 5 & 5.68 \\\\\n",
       "\\end{tabular}\n"
      ],
      "text/plain": [
       "11×2 DataFrame\n",
       "│ Row │ X1    │ Y1      │\n",
       "│     │ \u001b[90mInt64\u001b[39m │ \u001b[90mFloat64\u001b[39m │\n",
       "├─────┼───────┼─────────┤\n",
       "│ 1   │ 10    │ 8.04    │\n",
       "│ 2   │ 8     │ 6.95    │\n",
       "│ 3   │ 13    │ 7.58    │\n",
       "│ 4   │ 9     │ 8.81    │\n",
       "│ 5   │ 11    │ 8.33    │\n",
       "│ 6   │ 14    │ 9.96    │\n",
       "│ 7   │ 6     │ 7.24    │\n",
       "│ 8   │ 4     │ 4.26    │\n",
       "│ 9   │ 12    │ 10.84   │\n",
       "│ 10  │ 7     │ 4.82    │\n",
       "│ 11  │ 5     │ 5.68    │"
      ]
     },
     "execution_count": 23,
     "metadata": {},
     "output_type": "execute_result"
    }
   ],
   "source": [
    "anscombe[:, [:X1, :Y1]]"
   ]
  },
  {
   "cell_type": "code",
   "execution_count": 24,
   "metadata": {},
   "outputs": [
    {
     "data": {
      "text/html": [
       "<table class=\"data-frame\"><thead><tr><th></th><th>X2</th><th>Y2</th></tr><tr><th></th><th>Int64</th><th>Float64</th></tr></thead><tbody><p>11 rows × 2 columns</p><tr><th>1</th><td>10</td><td>9.14</td></tr><tr><th>2</th><td>8</td><td>8.14</td></tr><tr><th>3</th><td>13</td><td>8.74</td></tr><tr><th>4</th><td>9</td><td>8.77</td></tr><tr><th>5</th><td>11</td><td>9.26</td></tr><tr><th>6</th><td>14</td><td>8.1</td></tr><tr><th>7</th><td>6</td><td>6.13</td></tr><tr><th>8</th><td>4</td><td>3.1</td></tr><tr><th>9</th><td>12</td><td>9.13</td></tr><tr><th>10</th><td>7</td><td>7.26</td></tr><tr><th>11</th><td>5</td><td>4.74</td></tr></tbody></table>"
      ],
      "text/latex": [
       "\\begin{tabular}{r|cc}\n",
       "\t& X2 & Y2\\\\\n",
       "\t\\hline\n",
       "\t& Int64 & Float64\\\\\n",
       "\t\\hline\n",
       "\t1 & 10 & 9.14 \\\\\n",
       "\t2 & 8 & 8.14 \\\\\n",
       "\t3 & 13 & 8.74 \\\\\n",
       "\t4 & 9 & 8.77 \\\\\n",
       "\t5 & 11 & 9.26 \\\\\n",
       "\t6 & 14 & 8.1 \\\\\n",
       "\t7 & 6 & 6.13 \\\\\n",
       "\t8 & 4 & 3.1 \\\\\n",
       "\t9 & 12 & 9.13 \\\\\n",
       "\t10 & 7 & 7.26 \\\\\n",
       "\t11 & 5 & 4.74 \\\\\n",
       "\\end{tabular}\n"
      ],
      "text/plain": [
       "11×2 DataFrame\n",
       "│ Row │ X2    │ Y2      │\n",
       "│     │ \u001b[90mInt64\u001b[39m │ \u001b[90mFloat64\u001b[39m │\n",
       "├─────┼───────┼─────────┤\n",
       "│ 1   │ 10    │ 9.14    │\n",
       "│ 2   │ 8     │ 8.14    │\n",
       "│ 3   │ 13    │ 8.74    │\n",
       "│ 4   │ 9     │ 8.77    │\n",
       "│ 5   │ 11    │ 9.26    │\n",
       "│ 6   │ 14    │ 8.1     │\n",
       "│ 7   │ 6     │ 6.13    │\n",
       "│ 8   │ 4     │ 3.1     │\n",
       "│ 9   │ 12    │ 9.13    │\n",
       "│ 10  │ 7     │ 7.26    │\n",
       "│ 11  │ 5     │ 4.74    │"
      ]
     },
     "execution_count": 24,
     "metadata": {},
     "output_type": "execute_result"
    }
   ],
   "source": [
    "anscombe[:, r\".2\"]"
   ]
  },
  {
   "cell_type": "code",
   "execution_count": 25,
   "metadata": {},
   "outputs": [
    {
     "data": {
      "text/html": [
       "<table class=\"data-frame\"><thead><tr><th></th><th>X3</th><th>Y1</th></tr><tr><th></th><th>Int64</th><th>Float64</th></tr></thead><tbody><p>11 rows × 2 columns</p><tr><th>1</th><td>10</td><td>8.04</td></tr><tr><th>2</th><td>8</td><td>6.95</td></tr><tr><th>3</th><td>13</td><td>7.58</td></tr><tr><th>4</th><td>9</td><td>8.81</td></tr><tr><th>5</th><td>11</td><td>8.33</td></tr><tr><th>6</th><td>14</td><td>9.96</td></tr><tr><th>7</th><td>6</td><td>7.24</td></tr><tr><th>8</th><td>4</td><td>4.26</td></tr><tr><th>9</th><td>12</td><td>10.84</td></tr><tr><th>10</th><td>7</td><td>4.82</td></tr><tr><th>11</th><td>5</td><td>5.68</td></tr></tbody></table>"
      ],
      "text/latex": [
       "\\begin{tabular}{r|cc}\n",
       "\t& X3 & Y1\\\\\n",
       "\t\\hline\n",
       "\t& Int64 & Float64\\\\\n",
       "\t\\hline\n",
       "\t1 & 10 & 8.04 \\\\\n",
       "\t2 & 8 & 6.95 \\\\\n",
       "\t3 & 13 & 7.58 \\\\\n",
       "\t4 & 9 & 8.81 \\\\\n",
       "\t5 & 11 & 8.33 \\\\\n",
       "\t6 & 14 & 9.96 \\\\\n",
       "\t7 & 6 & 7.24 \\\\\n",
       "\t8 & 4 & 4.26 \\\\\n",
       "\t9 & 12 & 10.84 \\\\\n",
       "\t10 & 7 & 4.82 \\\\\n",
       "\t11 & 5 & 5.68 \\\\\n",
       "\\end{tabular}\n"
      ],
      "text/plain": [
       "11×2 DataFrame\n",
       "│ Row │ X3    │ Y1      │\n",
       "│     │ \u001b[90mInt64\u001b[39m │ \u001b[90mFloat64\u001b[39m │\n",
       "├─────┼───────┼─────────┤\n",
       "│ 1   │ 10    │ 8.04    │\n",
       "│ 2   │ 8     │ 6.95    │\n",
       "│ 3   │ 13    │ 7.58    │\n",
       "│ 4   │ 9     │ 8.81    │\n",
       "│ 5   │ 11    │ 8.33    │\n",
       "│ 6   │ 14    │ 9.96    │\n",
       "│ 7   │ 6     │ 7.24    │\n",
       "│ 8   │ 4     │ 4.26    │\n",
       "│ 9   │ 12    │ 10.84   │\n",
       "│ 10  │ 7     │ 4.82    │\n",
       "│ 11  │ 5     │ 5.68    │"
      ]
     },
     "execution_count": 25,
     "metadata": {},
     "output_type": "execute_result"
    }
   ],
   "source": [
    "anscombe[:, [Symbol(\"X3\"), Symbol(\"Y1\")]]"
   ]
  },
  {
   "cell_type": "code",
   "execution_count": 31,
   "metadata": {},
   "outputs": [
    {
     "data": {
      "text/html": [
       "<table class=\"data-frame\"><thead><tr><th></th><th>X1</th><th>X2</th><th>X3</th><th>X4</th><th>Y1</th><th>Y2</th><th>Y3</th><th>Y4</th></tr><tr><th></th><th>Int64</th><th>Int64</th><th>Int64</th><th>Int64</th><th>Float64</th><th>Float64</th><th>Float64</th><th>Float64</th></tr></thead><tbody><p>7 rows × 8 columns</p><tr><th>1</th><td>10</td><td>10</td><td>10</td><td>8</td><td>8.04</td><td>9.14</td><td>7.46</td><td>6.58</td></tr><tr><th>2</th><td>13</td><td>13</td><td>13</td><td>8</td><td>7.58</td><td>8.74</td><td>12.74</td><td>7.71</td></tr><tr><th>3</th><td>9</td><td>9</td><td>9</td><td>8</td><td>8.81</td><td>8.77</td><td>7.11</td><td>8.84</td></tr><tr><th>4</th><td>11</td><td>11</td><td>11</td><td>8</td><td>8.33</td><td>9.26</td><td>7.81</td><td>8.47</td></tr><tr><th>5</th><td>14</td><td>14</td><td>14</td><td>8</td><td>9.96</td><td>8.1</td><td>8.84</td><td>7.04</td></tr><tr><th>6</th><td>6</td><td>6</td><td>6</td><td>8</td><td>7.24</td><td>6.13</td><td>6.08</td><td>5.25</td></tr><tr><th>7</th><td>12</td><td>12</td><td>12</td><td>8</td><td>10.84</td><td>9.13</td><td>8.15</td><td>5.56</td></tr></tbody></table>"
      ],
      "text/latex": [
       "\\begin{tabular}{r|cccccccc}\n",
       "\t& X1 & X2 & X3 & X4 & Y1 & Y2 & Y3 & Y4\\\\\n",
       "\t\\hline\n",
       "\t& Int64 & Int64 & Int64 & Int64 & Float64 & Float64 & Float64 & Float64\\\\\n",
       "\t\\hline\n",
       "\t1 & 10 & 10 & 10 & 8 & 8.04 & 9.14 & 7.46 & 6.58 \\\\\n",
       "\t2 & 13 & 13 & 13 & 8 & 7.58 & 8.74 & 12.74 & 7.71 \\\\\n",
       "\t3 & 9 & 9 & 9 & 8 & 8.81 & 8.77 & 7.11 & 8.84 \\\\\n",
       "\t4 & 11 & 11 & 11 & 8 & 8.33 & 9.26 & 7.81 & 8.47 \\\\\n",
       "\t5 & 14 & 14 & 14 & 8 & 9.96 & 8.1 & 8.84 & 7.04 \\\\\n",
       "\t6 & 6 & 6 & 6 & 8 & 7.24 & 6.13 & 6.08 & 5.25 \\\\\n",
       "\t7 & 12 & 12 & 12 & 8 & 10.84 & 9.13 & 8.15 & 5.56 \\\\\n",
       "\\end{tabular}\n"
      ],
      "text/plain": [
       "7×8 DataFrame\n",
       "│ Row │ X1    │ X2    │ X3    │ X4    │ Y1      │ Y2      │ Y3      │ Y4      │\n",
       "│     │ \u001b[90mInt64\u001b[39m │ \u001b[90mInt64\u001b[39m │ \u001b[90mInt64\u001b[39m │ \u001b[90mInt64\u001b[39m │ \u001b[90mFloat64\u001b[39m │ \u001b[90mFloat64\u001b[39m │ \u001b[90mFloat64\u001b[39m │ \u001b[90mFloat64\u001b[39m │\n",
       "├─────┼───────┼───────┼───────┼───────┼─────────┼─────────┼─────────┼─────────┤\n",
       "│ 1   │ 10    │ 10    │ 10    │ 8     │ 8.04    │ 9.14    │ 7.46    │ 6.58    │\n",
       "│ 2   │ 13    │ 13    │ 13    │ 8     │ 7.58    │ 8.74    │ 12.74   │ 7.71    │\n",
       "│ 3   │ 9     │ 9     │ 9     │ 8     │ 8.81    │ 8.77    │ 7.11    │ 8.84    │\n",
       "│ 4   │ 11    │ 11    │ 11    │ 8     │ 8.33    │ 9.26    │ 7.81    │ 8.47    │\n",
       "│ 5   │ 14    │ 14    │ 14    │ 8     │ 9.96    │ 8.1     │ 8.84    │ 7.04    │\n",
       "│ 6   │ 6     │ 6     │ 6     │ 8     │ 7.24    │ 6.13    │ 6.08    │ 5.25    │\n",
       "│ 7   │ 12    │ 12    │ 12    │ 8     │ 10.84   │ 9.13    │ 8.15    │ 5.56    │"
      ]
     },
     "execution_count": 31,
     "metadata": {},
     "output_type": "execute_result"
    }
   ],
   "source": [
    "anscombe[anscombe.Y1 .> 7.0, :]"
   ]
  },
  {
   "cell_type": "code",
   "execution_count": 32,
   "metadata": {},
   "outputs": [
    {
     "data": {
      "text/html": [
       "<table class=\"data-frame\"><thead><tr><th></th><th>X1</th><th>X2</th><th>X3</th><th>X4</th><th>Y1</th><th>Y2</th><th>Y3</th><th>Y4</th></tr><tr><th></th><th>Int64</th><th>Int64</th><th>Int64</th><th>Int64</th><th>Float64</th><th>Float64</th><th>Float64</th><th>Float64</th></tr></thead><tbody><p>6 rows × 8 columns</p><tr><th>1</th><td>9</td><td>9</td><td>9</td><td>8</td><td>8.81</td><td>8.77</td><td>7.11</td><td>8.84</td></tr><tr><th>2</th><td>14</td><td>14</td><td>14</td><td>8</td><td>9.96</td><td>8.1</td><td>8.84</td><td>7.04</td></tr><tr><th>3</th><td>6</td><td>6</td><td>6</td><td>8</td><td>7.24</td><td>6.13</td><td>6.08</td><td>5.25</td></tr><tr><th>4</th><td>4</td><td>4</td><td>4</td><td>19</td><td>4.26</td><td>3.1</td><td>5.39</td><td>12.5</td></tr><tr><th>5</th><td>12</td><td>12</td><td>12</td><td>8</td><td>10.84</td><td>9.13</td><td>8.15</td><td>5.56</td></tr><tr><th>6</th><td>5</td><td>5</td><td>5</td><td>8</td><td>5.68</td><td>4.74</td><td>5.73</td><td>6.89</td></tr></tbody></table>"
      ],
      "text/latex": [
       "\\begin{tabular}{r|cccccccc}\n",
       "\t& X1 & X2 & X3 & X4 & Y1 & Y2 & Y3 & Y4\\\\\n",
       "\t\\hline\n",
       "\t& Int64 & Int64 & Int64 & Int64 & Float64 & Float64 & Float64 & Float64\\\\\n",
       "\t\\hline\n",
       "\t1 & 9 & 9 & 9 & 8 & 8.81 & 8.77 & 7.11 & 8.84 \\\\\n",
       "\t2 & 14 & 14 & 14 & 8 & 9.96 & 8.1 & 8.84 & 7.04 \\\\\n",
       "\t3 & 6 & 6 & 6 & 8 & 7.24 & 6.13 & 6.08 & 5.25 \\\\\n",
       "\t4 & 4 & 4 & 4 & 19 & 4.26 & 3.1 & 5.39 & 12.5 \\\\\n",
       "\t5 & 12 & 12 & 12 & 8 & 10.84 & 9.13 & 8.15 & 5.56 \\\\\n",
       "\t6 & 5 & 5 & 5 & 8 & 5.68 & 4.74 & 5.73 & 6.89 \\\\\n",
       "\\end{tabular}\n"
      ],
      "text/plain": [
       "6×8 DataFrame\n",
       "│ Row │ X1    │ X2    │ X3    │ X4    │ Y1      │ Y2      │ Y3      │ Y4      │\n",
       "│     │ \u001b[90mInt64\u001b[39m │ \u001b[90mInt64\u001b[39m │ \u001b[90mInt64\u001b[39m │ \u001b[90mInt64\u001b[39m │ \u001b[90mFloat64\u001b[39m │ \u001b[90mFloat64\u001b[39m │ \u001b[90mFloat64\u001b[39m │ \u001b[90mFloat64\u001b[39m │\n",
       "├─────┼───────┼───────┼───────┼───────┼─────────┼─────────┼─────────┼─────────┤\n",
       "│ 1   │ 9     │ 9     │ 9     │ 8     │ 8.81    │ 8.77    │ 7.11    │ 8.84    │\n",
       "│ 2   │ 14    │ 14    │ 14    │ 8     │ 9.96    │ 8.1     │ 8.84    │ 7.04    │\n",
       "│ 3   │ 6     │ 6     │ 6     │ 8     │ 7.24    │ 6.13    │ 6.08    │ 5.25    │\n",
       "│ 4   │ 4     │ 4     │ 4     │ 19    │ 4.26    │ 3.1     │ 5.39    │ 12.5    │\n",
       "│ 5   │ 12    │ 12    │ 12    │ 8     │ 10.84   │ 9.13    │ 8.15    │ 5.56    │\n",
       "│ 6   │ 5     │ 5     │ 5     │ 8     │ 5.68    │ 4.74    │ 5.73    │ 6.89    │"
      ]
     },
     "execution_count": 32,
     "metadata": {},
     "output_type": "execute_result"
    }
   ],
   "source": [
    "anscombe[anscombe.Y1 .> anscombe.Y2, :]"
   ]
  },
  {
   "cell_type": "code",
   "execution_count": 33,
   "metadata": {},
   "outputs": [
    {
     "data": {
      "text/html": [
       "<table class=\"data-frame\"><thead><tr><th></th><th>X1</th><th>X2</th><th>X3</th><th>X4</th><th>Y1</th><th>Y2</th><th>Y3</th><th>Y4</th></tr><tr><th></th><th>Int64</th><th>Int64</th><th>Int64</th><th>Int64</th><th>Float64</th><th>Float64</th><th>Float64</th><th>Float64</th></tr></thead><tbody><p>7 rows × 8 columns</p><tr><th>1</th><td>10</td><td>10</td><td>10</td><td>8</td><td>8.04</td><td>9.14</td><td>7.46</td><td>6.58</td></tr><tr><th>2</th><td>13</td><td>13</td><td>13</td><td>8</td><td>7.58</td><td>8.74</td><td>12.74</td><td>7.71</td></tr><tr><th>3</th><td>9</td><td>9</td><td>9</td><td>8</td><td>8.81</td><td>8.77</td><td>7.11</td><td>8.84</td></tr><tr><th>4</th><td>11</td><td>11</td><td>11</td><td>8</td><td>8.33</td><td>9.26</td><td>7.81</td><td>8.47</td></tr><tr><th>5</th><td>14</td><td>14</td><td>14</td><td>8</td><td>9.96</td><td>8.1</td><td>8.84</td><td>7.04</td></tr><tr><th>6</th><td>6</td><td>6</td><td>6</td><td>8</td><td>7.24</td><td>6.13</td><td>6.08</td><td>5.25</td></tr><tr><th>7</th><td>12</td><td>12</td><td>12</td><td>8</td><td>10.84</td><td>9.13</td><td>8.15</td><td>5.56</td></tr></tbody></table>"
      ],
      "text/latex": [
       "\\begin{tabular}{r|cccccccc}\n",
       "\t& X1 & X2 & X3 & X4 & Y1 & Y2 & Y3 & Y4\\\\\n",
       "\t\\hline\n",
       "\t& Int64 & Int64 & Int64 & Int64 & Float64 & Float64 & Float64 & Float64\\\\\n",
       "\t\\hline\n",
       "\t1 & 10 & 10 & 10 & 8 & 8.04 & 9.14 & 7.46 & 6.58 \\\\\n",
       "\t2 & 13 & 13 & 13 & 8 & 7.58 & 8.74 & 12.74 & 7.71 \\\\\n",
       "\t3 & 9 & 9 & 9 & 8 & 8.81 & 8.77 & 7.11 & 8.84 \\\\\n",
       "\t4 & 11 & 11 & 11 & 8 & 8.33 & 9.26 & 7.81 & 8.47 \\\\\n",
       "\t5 & 14 & 14 & 14 & 8 & 9.96 & 8.1 & 8.84 & 7.04 \\\\\n",
       "\t6 & 6 & 6 & 6 & 8 & 7.24 & 6.13 & 6.08 & 5.25 \\\\\n",
       "\t7 & 12 & 12 & 12 & 8 & 10.84 & 9.13 & 8.15 & 5.56 \\\\\n",
       "\\end{tabular}\n"
      ],
      "text/plain": [
       "7×8 DataFrame\n",
       "│ Row │ X1    │ X2    │ X3    │ X4    │ Y1      │ Y2      │ Y3      │ Y4      │\n",
       "│     │ \u001b[90mInt64\u001b[39m │ \u001b[90mInt64\u001b[39m │ \u001b[90mInt64\u001b[39m │ \u001b[90mInt64\u001b[39m │ \u001b[90mFloat64\u001b[39m │ \u001b[90mFloat64\u001b[39m │ \u001b[90mFloat64\u001b[39m │ \u001b[90mFloat64\u001b[39m │\n",
       "├─────┼───────┼───────┼───────┼───────┼─────────┼─────────┼─────────┼─────────┤\n",
       "│ 1   │ 10    │ 10    │ 10    │ 8     │ 8.04    │ 9.14    │ 7.46    │ 6.58    │\n",
       "│ 2   │ 13    │ 13    │ 13    │ 8     │ 7.58    │ 8.74    │ 12.74   │ 7.71    │\n",
       "│ 3   │ 9     │ 9     │ 9     │ 8     │ 8.81    │ 8.77    │ 7.11    │ 8.84    │\n",
       "│ 4   │ 11    │ 11    │ 11    │ 8     │ 8.33    │ 9.26    │ 7.81    │ 8.47    │\n",
       "│ 5   │ 14    │ 14    │ 14    │ 8     │ 9.96    │ 8.1     │ 8.84    │ 7.04    │\n",
       "│ 6   │ 6     │ 6     │ 6     │ 8     │ 7.24    │ 6.13    │ 6.08    │ 5.25    │\n",
       "│ 7   │ 12    │ 12    │ 12    │ 8     │ 10.84   │ 9.13    │ 8.15    │ 5.56    │"
      ]
     },
     "execution_count": 33,
     "metadata": {},
     "output_type": "execute_result"
    }
   ],
   "source": [
    "filter(row -> row.Y1 > 7.0, anscombe)"
   ]
  },
  {
   "cell_type": "code",
   "execution_count": 34,
   "metadata": {},
   "outputs": [
    {
     "data": {
      "text/html": [
       "<table class=\"data-frame\"><thead><tr><th></th><th>X1</th><th>X2</th><th>X3</th><th>X4</th><th>Y1</th><th>Y2</th><th>Y3</th><th>Y4</th></tr><tr><th></th><th>Int64</th><th>Int64</th><th>Int64</th><th>Int64</th><th>Float64</th><th>Float64</th><th>Float64</th><th>Float64</th></tr></thead><tbody><p>2 rows × 8 columns</p><tr><th>1</th><td>6</td><td>6</td><td>6</td><td>8</td><td>7.24</td><td>6.13</td><td>6.08</td><td>5.25</td></tr><tr><th>2</th><td>5</td><td>5</td><td>5</td><td>8</td><td>5.68</td><td>4.74</td><td>5.73</td><td>6.89</td></tr></tbody></table>"
      ],
      "text/latex": [
       "\\begin{tabular}{r|cccccccc}\n",
       "\t& X1 & X2 & X3 & X4 & Y1 & Y2 & Y3 & Y4\\\\\n",
       "\t\\hline\n",
       "\t& Int64 & Int64 & Int64 & Int64 & Float64 & Float64 & Float64 & Float64\\\\\n",
       "\t\\hline\n",
       "\t1 & 6 & 6 & 6 & 8 & 7.24 & 6.13 & 6.08 & 5.25 \\\\\n",
       "\t2 & 5 & 5 & 5 & 8 & 5.68 & 4.74 & 5.73 & 6.89 \\\\\n",
       "\\end{tabular}\n"
      ],
      "text/plain": [
       "2×8 DataFrame\n",
       "│ Row │ X1    │ X2    │ X3    │ X4    │ Y1      │ Y2      │ Y3      │ Y4      │\n",
       "│     │ \u001b[90mInt64\u001b[39m │ \u001b[90mInt64\u001b[39m │ \u001b[90mInt64\u001b[39m │ \u001b[90mInt64\u001b[39m │ \u001b[90mFloat64\u001b[39m │ \u001b[90mFloat64\u001b[39m │ \u001b[90mFloat64\u001b[39m │ \u001b[90mFloat64\u001b[39m │\n",
       "├─────┼───────┼───────┼───────┼───────┼─────────┼─────────┼─────────┼─────────┤\n",
       "│ 1   │ 6     │ 6     │ 6     │ 8     │ 7.24    │ 6.13    │ 6.08    │ 5.25    │\n",
       "│ 2   │ 5     │ 5     │ 5     │ 8     │ 5.68    │ 4.74    │ 5.73    │ 6.89    │"
      ]
     },
     "execution_count": 34,
     "metadata": {},
     "output_type": "execute_result"
    }
   ],
   "source": [
    "anscombe[(anscombe.Y1 .> 5.0) .& (anscombe.Y2 .< 7.0), :]"
   ]
  },
  {
   "cell_type": "markdown",
   "metadata": {},
   "source": [
    "### Applying Functions to Columns and Rows"
   ]
  },
  {
   "cell_type": "code",
   "execution_count": 35,
   "metadata": {},
   "outputs": [],
   "source": [
    "using Statistics"
   ]
  },
  {
   "cell_type": "code",
   "execution_count": 36,
   "metadata": {},
   "outputs": [
    {
     "data": {
      "text/plain": [
       "9.0"
      ]
     },
     "execution_count": 36,
     "metadata": {},
     "output_type": "execute_result"
    }
   ],
   "source": [
    "mean(anscombe.X2)"
   ]
  },
  {
   "cell_type": "code",
   "execution_count": 37,
   "metadata": {},
   "outputs": [
    {
     "data": {
      "text/plain": [
       "8-element Array{Float64,1}:\n",
       " 9.0              \n",
       " 9.0              \n",
       " 9.0              \n",
       " 9.0              \n",
       " 7.500909090909093\n",
       " 7.500909090909091\n",
       " 7.500000000000001\n",
       " 7.50090909090909 "
      ]
     },
     "execution_count": 37,
     "metadata": {},
     "output_type": "execute_result"
    }
   ],
   "source": [
    "[mean(col) for col in eachcol(anscombe)]"
   ]
  },
  {
   "cell_type": "code",
   "execution_count": 38,
   "metadata": {},
   "outputs": [
    {
     "data": {
      "text/plain": [
       "8-element Array{Float64,1}:\n",
       " 9.0              \n",
       " 9.0              \n",
       " 9.0              \n",
       " 9.0              \n",
       " 7.500909090909093\n",
       " 7.500909090909091\n",
       " 7.500000000000001\n",
       " 7.50090909090909 "
      ]
     },
     "execution_count": 38,
     "metadata": {},
     "output_type": "execute_result"
    }
   ],
   "source": [
    "mean.(eachcol(anscombe))"
   ]
  },
  {
   "cell_type": "markdown",
   "metadata": {},
   "source": [
    "### Plotting Anscombe's Quartet"
   ]
  },
  {
   "cell_type": "code",
   "execution_count": 39,
   "metadata": {},
   "outputs": [
    {
     "data": {
      "text/html": [
       "<table class=\"data-frame\"><thead><tr><th></th><th>variable</th><th>mean</th><th>std</th><th>min</th><th>median</th></tr><tr><th></th><th>Symbol</th><th>Float64</th><th>Float64</th><th>Real</th><th>Float64</th></tr></thead><tbody><p>8 rows × 5 columns</p><tr><th>1</th><td>X1</td><td>9.0</td><td>3.31662</td><td>4</td><td>9.0</td></tr><tr><th>2</th><td>X2</td><td>9.0</td><td>3.31662</td><td>4</td><td>9.0</td></tr><tr><th>3</th><td>X3</td><td>9.0</td><td>3.31662</td><td>4</td><td>9.0</td></tr><tr><th>4</th><td>X4</td><td>9.0</td><td>3.31662</td><td>8</td><td>8.0</td></tr><tr><th>5</th><td>Y1</td><td>7.50091</td><td>2.03157</td><td>4.26</td><td>7.58</td></tr><tr><th>6</th><td>Y2</td><td>7.50091</td><td>2.03166</td><td>3.1</td><td>8.14</td></tr><tr><th>7</th><td>Y3</td><td>7.5</td><td>2.03042</td><td>5.39</td><td>7.11</td></tr><tr><th>8</th><td>Y4</td><td>7.50091</td><td>2.03058</td><td>5.25</td><td>7.04</td></tr></tbody></table>"
      ],
      "text/latex": [
       "\\begin{tabular}{r|ccccc}\n",
       "\t& variable & mean & std & min & median\\\\\n",
       "\t\\hline\n",
       "\t& Symbol & Float64 & Float64 & Real & Float64\\\\\n",
       "\t\\hline\n",
       "\t1 & X1 & 9.0 & 3.31662 & 4 & 9.0 \\\\\n",
       "\t2 & X2 & 9.0 & 3.31662 & 4 & 9.0 \\\\\n",
       "\t3 & X3 & 9.0 & 3.31662 & 4 & 9.0 \\\\\n",
       "\t4 & X4 & 9.0 & 3.31662 & 8 & 8.0 \\\\\n",
       "\t5 & Y1 & 7.50091 & 2.03157 & 4.26 & 7.58 \\\\\n",
       "\t6 & Y2 & 7.50091 & 2.03166 & 3.1 & 8.14 \\\\\n",
       "\t7 & Y3 & 7.5 & 2.03042 & 5.39 & 7.11 \\\\\n",
       "\t8 & Y4 & 7.50091 & 2.03058 & 5.25 & 7.04 \\\\\n",
       "\\end{tabular}\n"
      ],
      "text/plain": [
       "8×5 DataFrame\n",
       "│ Row │ variable │ mean    │ std     │ min  │ median  │\n",
       "│     │ \u001b[90mSymbol\u001b[39m   │ \u001b[90mFloat64\u001b[39m │ \u001b[90mFloat64\u001b[39m │ \u001b[90mReal\u001b[39m │ \u001b[90mFloat64\u001b[39m │\n",
       "├─────┼──────────┼─────────┼─────────┼──────┼─────────┤\n",
       "│ 1   │ X1       │ 9.0     │ 3.31662 │ 4    │ 9.0     │\n",
       "│ 2   │ X2       │ 9.0     │ 3.31662 │ 4    │ 9.0     │\n",
       "│ 3   │ X3       │ 9.0     │ 3.31662 │ 4    │ 9.0     │\n",
       "│ 4   │ X4       │ 9.0     │ 3.31662 │ 8    │ 8.0     │\n",
       "│ 5   │ Y1       │ 7.50091 │ 2.03157 │ 4.26 │ 7.58    │\n",
       "│ 6   │ Y2       │ 7.50091 │ 2.03166 │ 3.1  │ 8.14    │\n",
       "│ 7   │ Y3       │ 7.5     │ 2.03042 │ 5.39 │ 7.11    │\n",
       "│ 8   │ Y4       │ 7.50091 │ 2.03058 │ 5.25 │ 7.04    │"
      ]
     },
     "execution_count": 39,
     "metadata": {},
     "output_type": "execute_result"
    }
   ],
   "source": [
    "describe(anscombe, :mean, :std, :min, :median)"
   ]
  },
  {
   "cell_type": "code",
   "execution_count": 40,
   "metadata": {},
   "outputs": [
    {
     "data": {
      "text/plain": [
       "4-element Array{DataFrame,1}:\n",
       " 2×4 DataFrame\n",
       "│ Row │ variable │ mean    │ std     │ median  │\n",
       "│     │ \u001b[90mSymbol\u001b[39m   │ \u001b[90mFloat64\u001b[39m │ \u001b[90mFloat64\u001b[39m │ \u001b[90mFloat64\u001b[39m │\n",
       "├─────┼──────────┼─────────┼─────────┼─────────┤\n",
       "│ 1   │ X1       │ 9.0     │ 3.31662 │ 9.0     │\n",
       "│ 2   │ Y1       │ 7.50091 │ 2.03157 │ 7.58    │\n",
       " 2×4 DataFrame\n",
       "│ Row │ variable │ mean    │ std     │ median  │\n",
       "│     │ \u001b[90mSymbol\u001b[39m   │ \u001b[90mFloat64\u001b[39m │ \u001b[90mFloat64\u001b[39m │ \u001b[90mFloat64\u001b[39m │\n",
       "├─────┼──────────┼─────────┼─────────┼─────────┤\n",
       "│ 1   │ X2       │ 9.0     │ 3.31662 │ 9.0     │\n",
       "│ 2   │ Y2       │ 7.50091 │ 2.03166 │ 8.14    │\n",
       " 2×4 DataFrame\n",
       "│ Row │ variable │ mean    │ std     │ median  │\n",
       "│     │ \u001b[90mSymbol\u001b[39m   │ \u001b[90mFloat64\u001b[39m │ \u001b[90mFloat64\u001b[39m │ \u001b[90mFloat64\u001b[39m │\n",
       "├─────┼──────────┼─────────┼─────────┼─────────┤\n",
       "│ 1   │ X3       │ 9.0     │ 3.31662 │ 9.0     │\n",
       "│ 2   │ Y3       │ 7.5     │ 2.03042 │ 7.11    │\n",
       " 2×4 DataFrame\n",
       "│ Row │ variable │ mean    │ std     │ median  │\n",
       "│     │ \u001b[90mSymbol\u001b[39m   │ \u001b[90mFloat64\u001b[39m │ \u001b[90mFloat64\u001b[39m │ \u001b[90mFloat64\u001b[39m │\n",
       "├─────┼──────────┼─────────┼─────────┼─────────┤\n",
       "│ 1   │ X4       │ 9.0     │ 3.31662 │ 8.0     │\n",
       "│ 2   │ Y4       │ 7.50091 │ 2.03058 │ 7.04    │"
      ]
     },
     "execution_count": 40,
     "metadata": {},
     "output_type": "execute_result"
    }
   ],
   "source": [
    "[describe(anscombe[:, xy], :mean, :std, :median) for xy in [[:X1, :Y1], [:X2, :Y2], [:X3, :Y3], [:X4, :Y4]]]\n"
   ]
  },
  {
   "cell_type": "code",
   "execution_count": 41,
   "metadata": {},
   "outputs": [
    {
     "data": {
      "text/plain": [
       "4-element Array{Float64,1}:\n",
       " 0.8164205163448398\n",
       " 0.8162365060002429\n",
       " 0.8162867394895982\n",
       " 0.8165214368885028"
      ]
     },
     "execution_count": 41,
     "metadata": {},
     "output_type": "execute_result"
    }
   ],
   "source": [
    "[cor(anscombe[:, first(xy)], anscombe[:, last(xy)]) for xy in [[:X1, :Y1], [:X2, :Y2], [:X3, :Y3], [:X4, :Y4]]]"
   ]
  },
  {
   "cell_type": "code",
   "execution_count": 44,
   "metadata": {},
   "outputs": [
    {
     "name": "stderr",
     "output_type": "stream",
     "text": [
      "┌ Info: Precompiling StatsPlots [f3b207a7-027a-5e70-b257-86293d7955fd]\n",
      "└ @ Base loading.jl:1186\n"
     ]
    }
   ],
   "source": [
    "using StatsPlots"
   ]
  },
  {
   "cell_type": "code",
   "execution_count": 47,
   "metadata": {},
   "outputs": [
    {
     "data": {
      "text/latex": [
       "\\begin{verbatim}\n",
       "`@df d x`\n",
       "\\end{verbatim}\n",
       "Convert every symbol in the expression \\texttt{x} with the respective column in \\texttt{d} if it exists.\n",
       "\n",
       "If you want to avoid replacing the symbol, escape it with \\texttt{\\^{}}.\n",
       "\n",
       "\\texttt{NA} values are replaced with \\texttt{NaN} for columns of \\texttt{Float64} and \\texttt{\"\"} or \\texttt{Symbol()} for strings and symbols respectively.\n",
       "\n",
       "\\texttt{x} can be either a plot command or a block of plot commands.\n",
       "\n",
       "\\rule{\\textwidth}{1pt}\n",
       "\\begin{verbatim}\n",
       "`@df x`\n",
       "\\end{verbatim}\n",
       "Curried version of \\texttt{@df d x}. Outputs an anonymous function \\texttt{d -> @df d x}.\n",
       "\n"
      ],
      "text/markdown": [
       "```\n",
       "`@df d x`\n",
       "```\n",
       "\n",
       "Convert every symbol in the expression `x` with the respective column in `d` if it exists.\n",
       "\n",
       "If you want to avoid replacing the symbol, escape it with `^`.\n",
       "\n",
       "`NA` values are replaced with `NaN` for columns of `Float64` and `\"\"` or `Symbol()` for strings and symbols respectively.\n",
       "\n",
       "`x` can be either a plot command or a block of plot commands.\n",
       "\n",
       "---\n",
       "\n",
       "```\n",
       "`@df x`\n",
       "```\n",
       "\n",
       "Curried version of `@df d x`. Outputs an anonymous function `d -> @df d x`.\n"
      ],
      "text/plain": [
       "\u001b[36m  `@df d x`\u001b[39m\n",
       "\n",
       "  Convert every symbol in the expression \u001b[36mx\u001b[39m with the respective column in \u001b[36md\u001b[39m if\n",
       "  it exists.\n",
       "\n",
       "  If you want to avoid replacing the symbol, escape it with \u001b[36m^\u001b[39m.\n",
       "\n",
       "  \u001b[36mNA\u001b[39m values are replaced with \u001b[36mNaN\u001b[39m for columns of \u001b[36mFloat64\u001b[39m and \u001b[36m\"\"\u001b[39m or \u001b[36mSymbol()\u001b[39m\n",
       "  for strings and symbols respectively.\n",
       "\n",
       "  \u001b[36mx\u001b[39m can be either a plot command or a block of plot commands.\n",
       "\n",
       "  ────────────────────────────────────────────────────────────────────────────\n",
       "\n",
       "\u001b[36m  `@df x`\u001b[39m\n",
       "\n",
       "  Curried version of \u001b[36m@df d x\u001b[39m. Outputs an anonymous function \u001b[36md -> @df d x\u001b[39m."
      ]
     },
     "execution_count": 47,
     "metadata": {},
     "output_type": "execute_result"
    }
   ],
   "source": [
    "?@df"
   ]
  },
  {
   "cell_type": "code",
   "execution_count": 45,
   "metadata": {},
   "outputs": [
    {
     "data": {
      "image/svg+xml": [
       "<?xml version=\"1.0\" encoding=\"utf-8\"?>\n",
       "<svg xmlns=\"http://www.w3.org/2000/svg\" xmlns:xlink=\"http://www.w3.org/1999/xlink\" width=\"600\" height=\"400\" viewBox=\"0 0 2400 1600\">\n",
       "<defs>\n",
       "  <clipPath id=\"clip1000\">\n",
       "    <rect x=\"0\" y=\"0\" width=\"2400\" height=\"1600\"/>\n",
       "  </clipPath>\n",
       "</defs>\n",
       "<polygon clip-path=\"url(#clip1000)\" points=\"\n",
       "0,1600 2400,1600 2400,0 0,0 \n",
       "  \" fill=\"#ffffff\" fill-rule=\"evenodd\" fill-opacity=\"1\"/>\n",
       "<defs>\n",
       "  <clipPath id=\"clip1001\">\n",
       "    <rect x=\"480\" y=\"0\" width=\"1681\" height=\"1600\"/>\n",
       "  </clipPath>\n",
       "</defs>\n",
       "<polygon clip-path=\"url(#clip1000)\" points=\"\n",
       "140.517,687.475 1152.76,687.475 1152.76,121.675 140.517,121.675 \n",
       "  \" fill=\"#ffffff\" fill-rule=\"evenodd\" fill-opacity=\"1\"/>\n",
       "<defs>\n",
       "  <clipPath id=\"clip1002\">\n",
       "    <rect x=\"140\" y=\"121\" width=\"1013\" height=\"567\"/>\n",
       "  </clipPath>\n",
       "</defs>\n",
       "<polyline clip-path=\"url(#clip1002)\" style=\"stroke:#000000; stroke-width:2; stroke-opacity:0.1; fill:none\" points=\"\n",
       "  309.223,687.475 309.223,121.675 \n",
       "  \"/>\n",
       "<polyline clip-path=\"url(#clip1002)\" style=\"stroke:#000000; stroke-width:2; stroke-opacity:0.1; fill:none\" points=\"\n",
       "  590.401,687.475 590.401,121.675 \n",
       "  \"/>\n",
       "<polyline clip-path=\"url(#clip1002)\" style=\"stroke:#000000; stroke-width:2; stroke-opacity:0.1; fill:none\" points=\"\n",
       "  871.578,687.475 871.578,121.675 \n",
       "  \"/>\n",
       "<polyline clip-path=\"url(#clip1002)\" style=\"stroke:#000000; stroke-width:2; stroke-opacity:0.1; fill:none\" points=\"\n",
       "  1152.76,687.475 1152.76,121.675 \n",
       "  \"/>\n",
       "<polyline clip-path=\"url(#clip1002)\" style=\"stroke:#000000; stroke-width:2; stroke-opacity:0.1; fill:none\" points=\"\n",
       "  140.517,687.475 1152.76,687.475 \n",
       "  \"/>\n",
       "<polyline clip-path=\"url(#clip1002)\" style=\"stroke:#000000; stroke-width:2; stroke-opacity:0.1; fill:none\" points=\"\n",
       "  140.517,593.175 1152.76,593.175 \n",
       "  \"/>\n",
       "<polyline clip-path=\"url(#clip1002)\" style=\"stroke:#000000; stroke-width:2; stroke-opacity:0.1; fill:none\" points=\"\n",
       "  140.517,498.875 1152.76,498.875 \n",
       "  \"/>\n",
       "<polyline clip-path=\"url(#clip1002)\" style=\"stroke:#000000; stroke-width:2; stroke-opacity:0.1; fill:none\" points=\"\n",
       "  140.517,404.575 1152.76,404.575 \n",
       "  \"/>\n",
       "<polyline clip-path=\"url(#clip1002)\" style=\"stroke:#000000; stroke-width:2; stroke-opacity:0.1; fill:none\" points=\"\n",
       "  140.517,310.275 1152.76,310.275 \n",
       "  \"/>\n",
       "<polyline clip-path=\"url(#clip1002)\" style=\"stroke:#000000; stroke-width:2; stroke-opacity:0.1; fill:none\" points=\"\n",
       "  140.517,215.975 1152.76,215.975 \n",
       "  \"/>\n",
       "<polyline clip-path=\"url(#clip1002)\" style=\"stroke:#000000; stroke-width:2; stroke-opacity:0.1; fill:none\" points=\"\n",
       "  140.517,121.675 1152.76,121.675 \n",
       "  \"/>\n",
       "<polyline clip-path=\"url(#clip1000)\" style=\"stroke:#000000; stroke-width:4; stroke-opacity:1; fill:none\" points=\"\n",
       "  140.517,687.475 1152.76,687.475 \n",
       "  \"/>\n",
       "<polyline clip-path=\"url(#clip1000)\" style=\"stroke:#000000; stroke-width:4; stroke-opacity:1; fill:none\" points=\"\n",
       "  140.517,687.475 140.517,121.675 \n",
       "  \"/>\n",
       "<polyline clip-path=\"url(#clip1000)\" style=\"stroke:#000000; stroke-width:4; stroke-opacity:1; fill:none\" points=\"\n",
       "  309.223,687.475 309.223,678.988 \n",
       "  \"/>\n",
       "<polyline clip-path=\"url(#clip1000)\" style=\"stroke:#000000; stroke-width:4; stroke-opacity:1; fill:none\" points=\"\n",
       "  590.401,687.475 590.401,678.988 \n",
       "  \"/>\n",
       "<polyline clip-path=\"url(#clip1000)\" style=\"stroke:#000000; stroke-width:4; stroke-opacity:1; fill:none\" points=\"\n",
       "  871.578,687.475 871.578,678.988 \n",
       "  \"/>\n",
       "<polyline clip-path=\"url(#clip1000)\" style=\"stroke:#000000; stroke-width:4; stroke-opacity:1; fill:none\" points=\"\n",
       "  1152.76,687.475 1152.76,678.988 \n",
       "  \"/>\n",
       "<polyline clip-path=\"url(#clip1000)\" style=\"stroke:#000000; stroke-width:4; stroke-opacity:1; fill:none\" points=\"\n",
       "  140.517,687.475 155.7,687.475 \n",
       "  \"/>\n",
       "<polyline clip-path=\"url(#clip1000)\" style=\"stroke:#000000; stroke-width:4; stroke-opacity:1; fill:none\" points=\"\n",
       "  140.517,593.175 155.7,593.175 \n",
       "  \"/>\n",
       "<polyline clip-path=\"url(#clip1000)\" style=\"stroke:#000000; stroke-width:4; stroke-opacity:1; fill:none\" points=\"\n",
       "  140.517,498.875 155.7,498.875 \n",
       "  \"/>\n",
       "<polyline clip-path=\"url(#clip1000)\" style=\"stroke:#000000; stroke-width:4; stroke-opacity:1; fill:none\" points=\"\n",
       "  140.517,404.575 155.7,404.575 \n",
       "  \"/>\n",
       "<polyline clip-path=\"url(#clip1000)\" style=\"stroke:#000000; stroke-width:4; stroke-opacity:1; fill:none\" points=\"\n",
       "  140.517,310.275 155.7,310.275 \n",
       "  \"/>\n",
       "<polyline clip-path=\"url(#clip1000)\" style=\"stroke:#000000; stroke-width:4; stroke-opacity:1; fill:none\" points=\"\n",
       "  140.517,215.975 155.7,215.975 \n",
       "  \"/>\n",
       "<polyline clip-path=\"url(#clip1000)\" style=\"stroke:#000000; stroke-width:4; stroke-opacity:1; fill:none\" points=\"\n",
       "  140.517,121.675 155.7,121.675 \n",
       "  \"/>\n",
       "<g clip-path=\"url(#clip1000)\">\n",
       "<text style=\"fill:#000000; fill-opacity:1; font-family:Arial,Helvetica Neue,Helvetica,sans-serif; font-size:48px; text-anchor:middle;\" transform=\"rotate(0, 309.223, 741.475)\" x=\"309.223\" y=\"741.475\">5</text>\n",
       "</g>\n",
       "<g clip-path=\"url(#clip1000)\">\n",
       "<text style=\"fill:#000000; fill-opacity:1; font-family:Arial,Helvetica Neue,Helvetica,sans-serif; font-size:48px; text-anchor:middle;\" transform=\"rotate(0, 590.401, 741.475)\" x=\"590.401\" y=\"741.475\">10</text>\n",
       "</g>\n",
       "<g clip-path=\"url(#clip1000)\">\n",
       "<text style=\"fill:#000000; fill-opacity:1; font-family:Arial,Helvetica Neue,Helvetica,sans-serif; font-size:48px; text-anchor:middle;\" transform=\"rotate(0, 871.578, 741.475)\" x=\"871.578\" y=\"741.475\">15</text>\n",
       "</g>\n",
       "<g clip-path=\"url(#clip1000)\">\n",
       "<text style=\"fill:#000000; fill-opacity:1; font-family:Arial,Helvetica Neue,Helvetica,sans-serif; font-size:48px; text-anchor:middle;\" transform=\"rotate(0, 1152.76, 741.475)\" x=\"1152.76\" y=\"741.475\">20</text>\n",
       "</g>\n",
       "<g clip-path=\"url(#clip1000)\">\n",
       "<text style=\"fill:#000000; fill-opacity:1; font-family:Arial,Helvetica Neue,Helvetica,sans-serif; font-size:48px; text-anchor:end;\" transform=\"rotate(0, 116.517, 704.975)\" x=\"116.517\" y=\"704.975\">2</text>\n",
       "</g>\n",
       "<g clip-path=\"url(#clip1000)\">\n",
       "<text style=\"fill:#000000; fill-opacity:1; font-family:Arial,Helvetica Neue,Helvetica,sans-serif; font-size:48px; text-anchor:end;\" transform=\"rotate(0, 116.517, 610.675)\" x=\"116.517\" y=\"610.675\">4</text>\n",
       "</g>\n",
       "<g clip-path=\"url(#clip1000)\">\n",
       "<text style=\"fill:#000000; fill-opacity:1; font-family:Arial,Helvetica Neue,Helvetica,sans-serif; font-size:48px; text-anchor:end;\" transform=\"rotate(0, 116.517, 516.375)\" x=\"116.517\" y=\"516.375\">6</text>\n",
       "</g>\n",
       "<g clip-path=\"url(#clip1000)\">\n",
       "<text style=\"fill:#000000; fill-opacity:1; font-family:Arial,Helvetica Neue,Helvetica,sans-serif; font-size:48px; text-anchor:end;\" transform=\"rotate(0, 116.517, 422.075)\" x=\"116.517\" y=\"422.075\">8</text>\n",
       "</g>\n",
       "<g clip-path=\"url(#clip1000)\">\n",
       "<text style=\"fill:#000000; fill-opacity:1; font-family:Arial,Helvetica Neue,Helvetica,sans-serif; font-size:48px; text-anchor:end;\" transform=\"rotate(0, 116.517, 327.775)\" x=\"116.517\" y=\"327.775\">10</text>\n",
       "</g>\n",
       "<g clip-path=\"url(#clip1000)\">\n",
       "<text style=\"fill:#000000; fill-opacity:1; font-family:Arial,Helvetica Neue,Helvetica,sans-serif; font-size:48px; text-anchor:end;\" transform=\"rotate(0, 116.517, 233.475)\" x=\"116.517\" y=\"233.475\">12</text>\n",
       "</g>\n",
       "<g clip-path=\"url(#clip1000)\">\n",
       "<text style=\"fill:#000000; fill-opacity:1; font-family:Arial,Helvetica Neue,Helvetica,sans-serif; font-size:48px; text-anchor:end;\" transform=\"rotate(0, 116.517, 139.175)\" x=\"116.517\" y=\"139.175\">14</text>\n",
       "</g>\n",
       "<g clip-path=\"url(#clip1000)\">\n",
       "<text style=\"fill:#000000; fill-opacity:1; font-family:Arial,Helvetica Neue,Helvetica,sans-serif; font-size:84px; text-anchor:middle;\" transform=\"rotate(0, 646.636, 73.2)\" x=\"646.636\" y=\"73.2\">X1 vs Y1</text>\n",
       "</g>\n",
       "<circle clip-path=\"url(#clip1002)\" style=\"fill:#000000; stroke:none; fill-opacity:1\" cx=\"590.401\" cy=\"402.689\" r=\"18\"/>\n",
       "<circle clip-path=\"url(#clip1002)\" style=\"fill:#009af9; stroke:none; fill-opacity:1\" cx=\"590.401\" cy=\"402.689\" r=\"14\"/>\n",
       "<circle clip-path=\"url(#clip1002)\" style=\"fill:#000000; stroke:none; fill-opacity:1\" cx=\"477.93\" cy=\"454.082\" r=\"18\"/>\n",
       "<circle clip-path=\"url(#clip1002)\" style=\"fill:#009af9; stroke:none; fill-opacity:1\" cx=\"477.93\" cy=\"454.082\" r=\"14\"/>\n",
       "<circle clip-path=\"url(#clip1002)\" style=\"fill:#000000; stroke:none; fill-opacity:1\" cx=\"759.107\" cy=\"424.378\" r=\"18\"/>\n",
       "<circle clip-path=\"url(#clip1002)\" style=\"fill:#009af9; stroke:none; fill-opacity:1\" cx=\"759.107\" cy=\"424.378\" r=\"14\"/>\n",
       "<circle clip-path=\"url(#clip1002)\" style=\"fill:#000000; stroke:none; fill-opacity:1\" cx=\"534.165\" cy=\"366.383\" r=\"18\"/>\n",
       "<circle clip-path=\"url(#clip1002)\" style=\"fill:#009af9; stroke:none; fill-opacity:1\" cx=\"534.165\" cy=\"366.383\" r=\"14\"/>\n",
       "<circle clip-path=\"url(#clip1002)\" style=\"fill:#000000; stroke:none; fill-opacity:1\" cx=\"646.636\" cy=\"389.015\" r=\"18\"/>\n",
       "<circle clip-path=\"url(#clip1002)\" style=\"fill:#009af9; stroke:none; fill-opacity:1\" cx=\"646.636\" cy=\"389.015\" r=\"14\"/>\n",
       "<circle clip-path=\"url(#clip1002)\" style=\"fill:#000000; stroke:none; fill-opacity:1\" cx=\"815.343\" cy=\"312.161\" r=\"18\"/>\n",
       "<circle clip-path=\"url(#clip1002)\" style=\"fill:#009af9; stroke:none; fill-opacity:1\" cx=\"815.343\" cy=\"312.161\" r=\"14\"/>\n",
       "<circle clip-path=\"url(#clip1002)\" style=\"fill:#000000; stroke:none; fill-opacity:1\" cx=\"365.459\" cy=\"440.409\" r=\"18\"/>\n",
       "<circle clip-path=\"url(#clip1002)\" style=\"fill:#009af9; stroke:none; fill-opacity:1\" cx=\"365.459\" cy=\"440.409\" r=\"14\"/>\n",
       "<circle clip-path=\"url(#clip1002)\" style=\"fill:#000000; stroke:none; fill-opacity:1\" cx=\"252.988\" cy=\"580.916\" r=\"18\"/>\n",
       "<circle clip-path=\"url(#clip1002)\" style=\"fill:#009af9; stroke:none; fill-opacity:1\" cx=\"252.988\" cy=\"580.916\" r=\"14\"/>\n",
       "<circle clip-path=\"url(#clip1002)\" style=\"fill:#000000; stroke:none; fill-opacity:1\" cx=\"702.872\" cy=\"270.669\" r=\"18\"/>\n",
       "<circle clip-path=\"url(#clip1002)\" style=\"fill:#009af9; stroke:none; fill-opacity:1\" cx=\"702.872\" cy=\"270.669\" r=\"14\"/>\n",
       "<circle clip-path=\"url(#clip1002)\" style=\"fill:#000000; stroke:none; fill-opacity:1\" cx=\"421.694\" cy=\"554.512\" r=\"18\"/>\n",
       "<circle clip-path=\"url(#clip1002)\" style=\"fill:#009af9; stroke:none; fill-opacity:1\" cx=\"421.694\" cy=\"554.512\" r=\"14\"/>\n",
       "<circle clip-path=\"url(#clip1002)\" style=\"fill:#000000; stroke:none; fill-opacity:1\" cx=\"309.223\" cy=\"513.963\" r=\"18\"/>\n",
       "<circle clip-path=\"url(#clip1002)\" style=\"fill:#009af9; stroke:none; fill-opacity:1\" cx=\"309.223\" cy=\"513.963\" r=\"14\"/>\n",
       "<polyline clip-path=\"url(#clip1002)\" style=\"stroke:#ff0000; stroke-width:8; stroke-opacity:1; fill:none\" points=\"\n",
       "  252.988,546.003 815.343,310.211 \n",
       "  \"/>\n",
       "<polygon clip-path=\"url(#clip1000)\" points=\"\n",
       "1340.52,687.475 2352.76,687.475 2352.76,121.675 1340.52,121.675 \n",
       "  \" fill=\"#ffffff\" fill-rule=\"evenodd\" fill-opacity=\"1\"/>\n",
       "<defs>\n",
       "  <clipPath id=\"clip1003\">\n",
       "    <rect x=\"1340\" y=\"121\" width=\"1013\" height=\"567\"/>\n",
       "  </clipPath>\n",
       "</defs>\n",
       "<polyline clip-path=\"url(#clip1003)\" style=\"stroke:#000000; stroke-width:2; stroke-opacity:0.1; fill:none\" points=\"\n",
       "  1509.22,687.475 1509.22,121.675 \n",
       "  \"/>\n",
       "<polyline clip-path=\"url(#clip1003)\" style=\"stroke:#000000; stroke-width:2; stroke-opacity:0.1; fill:none\" points=\"\n",
       "  1790.4,687.475 1790.4,121.675 \n",
       "  \"/>\n",
       "<polyline clip-path=\"url(#clip1003)\" style=\"stroke:#000000; stroke-width:2; stroke-opacity:0.1; fill:none\" points=\"\n",
       "  2071.58,687.475 2071.58,121.675 \n",
       "  \"/>\n",
       "<polyline clip-path=\"url(#clip1003)\" style=\"stroke:#000000; stroke-width:2; stroke-opacity:0.1; fill:none\" points=\"\n",
       "  2352.76,687.475 2352.76,121.675 \n",
       "  \"/>\n",
       "<polyline clip-path=\"url(#clip1003)\" style=\"stroke:#000000; stroke-width:2; stroke-opacity:0.1; fill:none\" points=\"\n",
       "  1340.52,687.475 2352.76,687.475 \n",
       "  \"/>\n",
       "<polyline clip-path=\"url(#clip1003)\" style=\"stroke:#000000; stroke-width:2; stroke-opacity:0.1; fill:none\" points=\"\n",
       "  1340.52,593.175 2352.76,593.175 \n",
       "  \"/>\n",
       "<polyline clip-path=\"url(#clip1003)\" style=\"stroke:#000000; stroke-width:2; stroke-opacity:0.1; fill:none\" points=\"\n",
       "  1340.52,498.875 2352.76,498.875 \n",
       "  \"/>\n",
       "<polyline clip-path=\"url(#clip1003)\" style=\"stroke:#000000; stroke-width:2; stroke-opacity:0.1; fill:none\" points=\"\n",
       "  1340.52,404.575 2352.76,404.575 \n",
       "  \"/>\n",
       "<polyline clip-path=\"url(#clip1003)\" style=\"stroke:#000000; stroke-width:2; stroke-opacity:0.1; fill:none\" points=\"\n",
       "  1340.52,310.275 2352.76,310.275 \n",
       "  \"/>\n",
       "<polyline clip-path=\"url(#clip1003)\" style=\"stroke:#000000; stroke-width:2; stroke-opacity:0.1; fill:none\" points=\"\n",
       "  1340.52,215.975 2352.76,215.975 \n",
       "  \"/>\n",
       "<polyline clip-path=\"url(#clip1003)\" style=\"stroke:#000000; stroke-width:2; stroke-opacity:0.1; fill:none\" points=\"\n",
       "  1340.52,121.675 2352.76,121.675 \n",
       "  \"/>\n",
       "<polyline clip-path=\"url(#clip1000)\" style=\"stroke:#000000; stroke-width:4; stroke-opacity:1; fill:none\" points=\"\n",
       "  1340.52,687.475 2352.76,687.475 \n",
       "  \"/>\n",
       "<polyline clip-path=\"url(#clip1000)\" style=\"stroke:#000000; stroke-width:4; stroke-opacity:1; fill:none\" points=\"\n",
       "  1340.52,687.475 1340.52,121.675 \n",
       "  \"/>\n",
       "<polyline clip-path=\"url(#clip1000)\" style=\"stroke:#000000; stroke-width:4; stroke-opacity:1; fill:none\" points=\"\n",
       "  1509.22,687.475 1509.22,678.988 \n",
       "  \"/>\n",
       "<polyline clip-path=\"url(#clip1000)\" style=\"stroke:#000000; stroke-width:4; stroke-opacity:1; fill:none\" points=\"\n",
       "  1790.4,687.475 1790.4,678.988 \n",
       "  \"/>\n",
       "<polyline clip-path=\"url(#clip1000)\" style=\"stroke:#000000; stroke-width:4; stroke-opacity:1; fill:none\" points=\"\n",
       "  2071.58,687.475 2071.58,678.988 \n",
       "  \"/>\n",
       "<polyline clip-path=\"url(#clip1000)\" style=\"stroke:#000000; stroke-width:4; stroke-opacity:1; fill:none\" points=\"\n",
       "  2352.76,687.475 2352.76,678.988 \n",
       "  \"/>\n",
       "<polyline clip-path=\"url(#clip1000)\" style=\"stroke:#000000; stroke-width:4; stroke-opacity:1; fill:none\" points=\"\n",
       "  1340.52,687.475 1355.7,687.475 \n",
       "  \"/>\n",
       "<polyline clip-path=\"url(#clip1000)\" style=\"stroke:#000000; stroke-width:4; stroke-opacity:1; fill:none\" points=\"\n",
       "  1340.52,593.175 1355.7,593.175 \n",
       "  \"/>\n",
       "<polyline clip-path=\"url(#clip1000)\" style=\"stroke:#000000; stroke-width:4; stroke-opacity:1; fill:none\" points=\"\n",
       "  1340.52,498.875 1355.7,498.875 \n",
       "  \"/>\n",
       "<polyline clip-path=\"url(#clip1000)\" style=\"stroke:#000000; stroke-width:4; stroke-opacity:1; fill:none\" points=\"\n",
       "  1340.52,404.575 1355.7,404.575 \n",
       "  \"/>\n",
       "<polyline clip-path=\"url(#clip1000)\" style=\"stroke:#000000; stroke-width:4; stroke-opacity:1; fill:none\" points=\"\n",
       "  1340.52,310.275 1355.7,310.275 \n",
       "  \"/>\n",
       "<polyline clip-path=\"url(#clip1000)\" style=\"stroke:#000000; stroke-width:4; stroke-opacity:1; fill:none\" points=\"\n",
       "  1340.52,215.975 1355.7,215.975 \n",
       "  \"/>\n",
       "<polyline clip-path=\"url(#clip1000)\" style=\"stroke:#000000; stroke-width:4; stroke-opacity:1; fill:none\" points=\"\n",
       "  1340.52,121.675 1355.7,121.675 \n",
       "  \"/>\n",
       "<g clip-path=\"url(#clip1000)\">\n",
       "<text style=\"fill:#000000; fill-opacity:1; font-family:Arial,Helvetica Neue,Helvetica,sans-serif; font-size:48px; text-anchor:middle;\" transform=\"rotate(0, 1509.22, 741.475)\" x=\"1509.22\" y=\"741.475\">5</text>\n",
       "</g>\n",
       "<g clip-path=\"url(#clip1000)\">\n",
       "<text style=\"fill:#000000; fill-opacity:1; font-family:Arial,Helvetica Neue,Helvetica,sans-serif; font-size:48px; text-anchor:middle;\" transform=\"rotate(0, 1790.4, 741.475)\" x=\"1790.4\" y=\"741.475\">10</text>\n",
       "</g>\n",
       "<g clip-path=\"url(#clip1000)\">\n",
       "<text style=\"fill:#000000; fill-opacity:1; font-family:Arial,Helvetica Neue,Helvetica,sans-serif; font-size:48px; text-anchor:middle;\" transform=\"rotate(0, 2071.58, 741.475)\" x=\"2071.58\" y=\"741.475\">15</text>\n",
       "</g>\n",
       "<g clip-path=\"url(#clip1000)\">\n",
       "<text style=\"fill:#000000; fill-opacity:1; font-family:Arial,Helvetica Neue,Helvetica,sans-serif; font-size:48px; text-anchor:middle;\" transform=\"rotate(0, 2352.76, 741.475)\" x=\"2352.76\" y=\"741.475\">20</text>\n",
       "</g>\n",
       "<g clip-path=\"url(#clip1000)\">\n",
       "<text style=\"fill:#000000; fill-opacity:1; font-family:Arial,Helvetica Neue,Helvetica,sans-serif; font-size:48px; text-anchor:end;\" transform=\"rotate(0, 1316.52, 704.975)\" x=\"1316.52\" y=\"704.975\">2</text>\n",
       "</g>\n",
       "<g clip-path=\"url(#clip1000)\">\n",
       "<text style=\"fill:#000000; fill-opacity:1; font-family:Arial,Helvetica Neue,Helvetica,sans-serif; font-size:48px; text-anchor:end;\" transform=\"rotate(0, 1316.52, 610.675)\" x=\"1316.52\" y=\"610.675\">4</text>\n",
       "</g>\n",
       "<g clip-path=\"url(#clip1000)\">\n",
       "<text style=\"fill:#000000; fill-opacity:1; font-family:Arial,Helvetica Neue,Helvetica,sans-serif; font-size:48px; text-anchor:end;\" transform=\"rotate(0, 1316.52, 516.375)\" x=\"1316.52\" y=\"516.375\">6</text>\n",
       "</g>\n",
       "<g clip-path=\"url(#clip1000)\">\n",
       "<text style=\"fill:#000000; fill-opacity:1; font-family:Arial,Helvetica Neue,Helvetica,sans-serif; font-size:48px; text-anchor:end;\" transform=\"rotate(0, 1316.52, 422.075)\" x=\"1316.52\" y=\"422.075\">8</text>\n",
       "</g>\n",
       "<g clip-path=\"url(#clip1000)\">\n",
       "<text style=\"fill:#000000; fill-opacity:1; font-family:Arial,Helvetica Neue,Helvetica,sans-serif; font-size:48px; text-anchor:end;\" transform=\"rotate(0, 1316.52, 327.775)\" x=\"1316.52\" y=\"327.775\">10</text>\n",
       "</g>\n",
       "<g clip-path=\"url(#clip1000)\">\n",
       "<text style=\"fill:#000000; fill-opacity:1; font-family:Arial,Helvetica Neue,Helvetica,sans-serif; font-size:48px; text-anchor:end;\" transform=\"rotate(0, 1316.52, 233.475)\" x=\"1316.52\" y=\"233.475\">12</text>\n",
       "</g>\n",
       "<g clip-path=\"url(#clip1000)\">\n",
       "<text style=\"fill:#000000; fill-opacity:1; font-family:Arial,Helvetica Neue,Helvetica,sans-serif; font-size:48px; text-anchor:end;\" transform=\"rotate(0, 1316.52, 139.175)\" x=\"1316.52\" y=\"139.175\">14</text>\n",
       "</g>\n",
       "<g clip-path=\"url(#clip1000)\">\n",
       "<text style=\"fill:#000000; fill-opacity:1; font-family:Arial,Helvetica Neue,Helvetica,sans-serif; font-size:84px; text-anchor:middle;\" transform=\"rotate(0, 1846.64, 73.2)\" x=\"1846.64\" y=\"73.2\">X2 vs Y2</text>\n",
       "</g>\n",
       "<circle clip-path=\"url(#clip1003)\" style=\"fill:#000000; stroke:none; fill-opacity:1\" cx=\"1790.4\" cy=\"350.824\" r=\"18\"/>\n",
       "<circle clip-path=\"url(#clip1003)\" style=\"fill:#009af9; stroke:none; fill-opacity:1\" cx=\"1790.4\" cy=\"350.824\" r=\"14\"/>\n",
       "<circle clip-path=\"url(#clip1003)\" style=\"fill:#000000; stroke:none; fill-opacity:1\" cx=\"1677.93\" cy=\"397.974\" r=\"18\"/>\n",
       "<circle clip-path=\"url(#clip1003)\" style=\"fill:#009af9; stroke:none; fill-opacity:1\" cx=\"1677.93\" cy=\"397.974\" r=\"14\"/>\n",
       "<circle clip-path=\"url(#clip1003)\" style=\"fill:#000000; stroke:none; fill-opacity:1\" cx=\"1959.11\" cy=\"369.684\" r=\"18\"/>\n",
       "<circle clip-path=\"url(#clip1003)\" style=\"fill:#009af9; stroke:none; fill-opacity:1\" cx=\"1959.11\" cy=\"369.684\" r=\"14\"/>\n",
       "<circle clip-path=\"url(#clip1003)\" style=\"fill:#000000; stroke:none; fill-opacity:1\" cx=\"1734.17\" cy=\"368.269\" r=\"18\"/>\n",
       "<circle clip-path=\"url(#clip1003)\" style=\"fill:#009af9; stroke:none; fill-opacity:1\" cx=\"1734.17\" cy=\"368.269\" r=\"14\"/>\n",
       "<circle clip-path=\"url(#clip1003)\" style=\"fill:#000000; stroke:none; fill-opacity:1\" cx=\"1846.64\" cy=\"345.166\" r=\"18\"/>\n",
       "<circle clip-path=\"url(#clip1003)\" style=\"fill:#009af9; stroke:none; fill-opacity:1\" cx=\"1846.64\" cy=\"345.166\" r=\"14\"/>\n",
       "<circle clip-path=\"url(#clip1003)\" style=\"fill:#000000; stroke:none; fill-opacity:1\" cx=\"2015.34\" cy=\"399.86\" r=\"18\"/>\n",
       "<circle clip-path=\"url(#clip1003)\" style=\"fill:#009af9; stroke:none; fill-opacity:1\" cx=\"2015.34\" cy=\"399.86\" r=\"14\"/>\n",
       "<circle clip-path=\"url(#clip1003)\" style=\"fill:#000000; stroke:none; fill-opacity:1\" cx=\"1565.46\" cy=\"492.745\" r=\"18\"/>\n",
       "<circle clip-path=\"url(#clip1003)\" style=\"fill:#009af9; stroke:none; fill-opacity:1\" cx=\"1565.46\" cy=\"492.745\" r=\"14\"/>\n",
       "<circle clip-path=\"url(#clip1003)\" style=\"fill:#000000; stroke:none; fill-opacity:1\" cx=\"1452.99\" cy=\"635.61\" r=\"18\"/>\n",
       "<circle clip-path=\"url(#clip1003)\" style=\"fill:#009af9; stroke:none; fill-opacity:1\" cx=\"1452.99\" cy=\"635.61\" r=\"14\"/>\n",
       "<circle clip-path=\"url(#clip1003)\" style=\"fill:#000000; stroke:none; fill-opacity:1\" cx=\"1902.87\" cy=\"351.295\" r=\"18\"/>\n",
       "<circle clip-path=\"url(#clip1003)\" style=\"fill:#009af9; stroke:none; fill-opacity:1\" cx=\"1902.87\" cy=\"351.295\" r=\"14\"/>\n",
       "<circle clip-path=\"url(#clip1003)\" style=\"fill:#000000; stroke:none; fill-opacity:1\" cx=\"1621.69\" cy=\"439.466\" r=\"18\"/>\n",
       "<circle clip-path=\"url(#clip1003)\" style=\"fill:#009af9; stroke:none; fill-opacity:1\" cx=\"1621.69\" cy=\"439.466\" r=\"14\"/>\n",
       "<circle clip-path=\"url(#clip1003)\" style=\"fill:#000000; stroke:none; fill-opacity:1\" cx=\"1509.22\" cy=\"558.284\" r=\"18\"/>\n",
       "<circle clip-path=\"url(#clip1003)\" style=\"fill:#009af9; stroke:none; fill-opacity:1\" cx=\"1509.22\" cy=\"558.284\" r=\"14\"/>\n",
       "<polyline clip-path=\"url(#clip1003)\" style=\"stroke:#ff0000; stroke-width:8; stroke-opacity:1; fill:none\" points=\"\n",
       "  1452.99,545.982 2015.34,310.232 \n",
       "  \"/>\n",
       "<polygon clip-path=\"url(#clip1000)\" points=\"\n",
       "140.517,1487.47 1152.76,1487.47 1152.76,921.675 140.517,921.675 \n",
       "  \" fill=\"#ffffff\" fill-rule=\"evenodd\" fill-opacity=\"1\"/>\n",
       "<defs>\n",
       "  <clipPath id=\"clip1004\">\n",
       "    <rect x=\"140\" y=\"921\" width=\"1013\" height=\"567\"/>\n",
       "  </clipPath>\n",
       "</defs>\n",
       "<polyline clip-path=\"url(#clip1004)\" style=\"stroke:#000000; stroke-width:2; stroke-opacity:0.1; fill:none\" points=\"\n",
       "  309.223,1487.47 309.223,921.675 \n",
       "  \"/>\n",
       "<polyline clip-path=\"url(#clip1004)\" style=\"stroke:#000000; stroke-width:2; stroke-opacity:0.1; fill:none\" points=\"\n",
       "  590.401,1487.47 590.401,921.675 \n",
       "  \"/>\n",
       "<polyline clip-path=\"url(#clip1004)\" style=\"stroke:#000000; stroke-width:2; stroke-opacity:0.1; fill:none\" points=\"\n",
       "  871.578,1487.47 871.578,921.675 \n",
       "  \"/>\n",
       "<polyline clip-path=\"url(#clip1004)\" style=\"stroke:#000000; stroke-width:2; stroke-opacity:0.1; fill:none\" points=\"\n",
       "  1152.76,1487.47 1152.76,921.675 \n",
       "  \"/>\n",
       "<polyline clip-path=\"url(#clip1004)\" style=\"stroke:#000000; stroke-width:2; stroke-opacity:0.1; fill:none\" points=\"\n",
       "  140.517,1487.47 1152.76,1487.47 \n",
       "  \"/>\n",
       "<polyline clip-path=\"url(#clip1004)\" style=\"stroke:#000000; stroke-width:2; stroke-opacity:0.1; fill:none\" points=\"\n",
       "  140.517,1393.17 1152.76,1393.17 \n",
       "  \"/>\n",
       "<polyline clip-path=\"url(#clip1004)\" style=\"stroke:#000000; stroke-width:2; stroke-opacity:0.1; fill:none\" points=\"\n",
       "  140.517,1298.87 1152.76,1298.87 \n",
       "  \"/>\n",
       "<polyline clip-path=\"url(#clip1004)\" style=\"stroke:#000000; stroke-width:2; stroke-opacity:0.1; fill:none\" points=\"\n",
       "  140.517,1204.57 1152.76,1204.57 \n",
       "  \"/>\n",
       "<polyline clip-path=\"url(#clip1004)\" style=\"stroke:#000000; stroke-width:2; stroke-opacity:0.1; fill:none\" points=\"\n",
       "  140.517,1110.27 1152.76,1110.27 \n",
       "  \"/>\n",
       "<polyline clip-path=\"url(#clip1004)\" style=\"stroke:#000000; stroke-width:2; stroke-opacity:0.1; fill:none\" points=\"\n",
       "  140.517,1015.98 1152.76,1015.98 \n",
       "  \"/>\n",
       "<polyline clip-path=\"url(#clip1004)\" style=\"stroke:#000000; stroke-width:2; stroke-opacity:0.1; fill:none\" points=\"\n",
       "  140.517,921.675 1152.76,921.675 \n",
       "  \"/>\n",
       "<polyline clip-path=\"url(#clip1000)\" style=\"stroke:#000000; stroke-width:4; stroke-opacity:1; fill:none\" points=\"\n",
       "  140.517,1487.47 1152.76,1487.47 \n",
       "  \"/>\n",
       "<polyline clip-path=\"url(#clip1000)\" style=\"stroke:#000000; stroke-width:4; stroke-opacity:1; fill:none\" points=\"\n",
       "  140.517,1487.47 140.517,921.675 \n",
       "  \"/>\n",
       "<polyline clip-path=\"url(#clip1000)\" style=\"stroke:#000000; stroke-width:4; stroke-opacity:1; fill:none\" points=\"\n",
       "  309.223,1487.47 309.223,1478.99 \n",
       "  \"/>\n",
       "<polyline clip-path=\"url(#clip1000)\" style=\"stroke:#000000; stroke-width:4; stroke-opacity:1; fill:none\" points=\"\n",
       "  590.401,1487.47 590.401,1478.99 \n",
       "  \"/>\n",
       "<polyline clip-path=\"url(#clip1000)\" style=\"stroke:#000000; stroke-width:4; stroke-opacity:1; fill:none\" points=\"\n",
       "  871.578,1487.47 871.578,1478.99 \n",
       "  \"/>\n",
       "<polyline clip-path=\"url(#clip1000)\" style=\"stroke:#000000; stroke-width:4; stroke-opacity:1; fill:none\" points=\"\n",
       "  1152.76,1487.47 1152.76,1478.99 \n",
       "  \"/>\n",
       "<polyline clip-path=\"url(#clip1000)\" style=\"stroke:#000000; stroke-width:4; stroke-opacity:1; fill:none\" points=\"\n",
       "  140.517,1487.47 155.7,1487.47 \n",
       "  \"/>\n",
       "<polyline clip-path=\"url(#clip1000)\" style=\"stroke:#000000; stroke-width:4; stroke-opacity:1; fill:none\" points=\"\n",
       "  140.517,1393.17 155.7,1393.17 \n",
       "  \"/>\n",
       "<polyline clip-path=\"url(#clip1000)\" style=\"stroke:#000000; stroke-width:4; stroke-opacity:1; fill:none\" points=\"\n",
       "  140.517,1298.87 155.7,1298.87 \n",
       "  \"/>\n",
       "<polyline clip-path=\"url(#clip1000)\" style=\"stroke:#000000; stroke-width:4; stroke-opacity:1; fill:none\" points=\"\n",
       "  140.517,1204.57 155.7,1204.57 \n",
       "  \"/>\n",
       "<polyline clip-path=\"url(#clip1000)\" style=\"stroke:#000000; stroke-width:4; stroke-opacity:1; fill:none\" points=\"\n",
       "  140.517,1110.27 155.7,1110.27 \n",
       "  \"/>\n",
       "<polyline clip-path=\"url(#clip1000)\" style=\"stroke:#000000; stroke-width:4; stroke-opacity:1; fill:none\" points=\"\n",
       "  140.517,1015.98 155.7,1015.98 \n",
       "  \"/>\n",
       "<polyline clip-path=\"url(#clip1000)\" style=\"stroke:#000000; stroke-width:4; stroke-opacity:1; fill:none\" points=\"\n",
       "  140.517,921.675 155.7,921.675 \n",
       "  \"/>\n",
       "<g clip-path=\"url(#clip1000)\">\n",
       "<text style=\"fill:#000000; fill-opacity:1; font-family:Arial,Helvetica Neue,Helvetica,sans-serif; font-size:48px; text-anchor:middle;\" transform=\"rotate(0, 309.223, 1541.47)\" x=\"309.223\" y=\"1541.47\">5</text>\n",
       "</g>\n",
       "<g clip-path=\"url(#clip1000)\">\n",
       "<text style=\"fill:#000000; fill-opacity:1; font-family:Arial,Helvetica Neue,Helvetica,sans-serif; font-size:48px; text-anchor:middle;\" transform=\"rotate(0, 590.401, 1541.47)\" x=\"590.401\" y=\"1541.47\">10</text>\n",
       "</g>\n",
       "<g clip-path=\"url(#clip1000)\">\n",
       "<text style=\"fill:#000000; fill-opacity:1; font-family:Arial,Helvetica Neue,Helvetica,sans-serif; font-size:48px; text-anchor:middle;\" transform=\"rotate(0, 871.578, 1541.47)\" x=\"871.578\" y=\"1541.47\">15</text>\n",
       "</g>\n",
       "<g clip-path=\"url(#clip1000)\">\n",
       "<text style=\"fill:#000000; fill-opacity:1; font-family:Arial,Helvetica Neue,Helvetica,sans-serif; font-size:48px; text-anchor:middle;\" transform=\"rotate(0, 1152.76, 1541.47)\" x=\"1152.76\" y=\"1541.47\">20</text>\n",
       "</g>\n",
       "<g clip-path=\"url(#clip1000)\">\n",
       "<text style=\"fill:#000000; fill-opacity:1; font-family:Arial,Helvetica Neue,Helvetica,sans-serif; font-size:48px; text-anchor:end;\" transform=\"rotate(0, 116.517, 1504.97)\" x=\"116.517\" y=\"1504.97\">2</text>\n",
       "</g>\n",
       "<g clip-path=\"url(#clip1000)\">\n",
       "<text style=\"fill:#000000; fill-opacity:1; font-family:Arial,Helvetica Neue,Helvetica,sans-serif; font-size:48px; text-anchor:end;\" transform=\"rotate(0, 116.517, 1410.67)\" x=\"116.517\" y=\"1410.67\">4</text>\n",
       "</g>\n",
       "<g clip-path=\"url(#clip1000)\">\n",
       "<text style=\"fill:#000000; fill-opacity:1; font-family:Arial,Helvetica Neue,Helvetica,sans-serif; font-size:48px; text-anchor:end;\" transform=\"rotate(0, 116.517, 1316.37)\" x=\"116.517\" y=\"1316.37\">6</text>\n",
       "</g>\n",
       "<g clip-path=\"url(#clip1000)\">\n",
       "<text style=\"fill:#000000; fill-opacity:1; font-family:Arial,Helvetica Neue,Helvetica,sans-serif; font-size:48px; text-anchor:end;\" transform=\"rotate(0, 116.517, 1222.07)\" x=\"116.517\" y=\"1222.07\">8</text>\n",
       "</g>\n",
       "<g clip-path=\"url(#clip1000)\">\n",
       "<text style=\"fill:#000000; fill-opacity:1; font-family:Arial,Helvetica Neue,Helvetica,sans-serif; font-size:48px; text-anchor:end;\" transform=\"rotate(0, 116.517, 1127.77)\" x=\"116.517\" y=\"1127.77\">10</text>\n",
       "</g>\n",
       "<g clip-path=\"url(#clip1000)\">\n",
       "<text style=\"fill:#000000; fill-opacity:1; font-family:Arial,Helvetica Neue,Helvetica,sans-serif; font-size:48px; text-anchor:end;\" transform=\"rotate(0, 116.517, 1033.48)\" x=\"116.517\" y=\"1033.48\">12</text>\n",
       "</g>\n",
       "<g clip-path=\"url(#clip1000)\">\n",
       "<text style=\"fill:#000000; fill-opacity:1; font-family:Arial,Helvetica Neue,Helvetica,sans-serif; font-size:48px; text-anchor:end;\" transform=\"rotate(0, 116.517, 939.175)\" x=\"116.517\" y=\"939.175\">14</text>\n",
       "</g>\n",
       "<g clip-path=\"url(#clip1000)\">\n",
       "<text style=\"fill:#000000; fill-opacity:1; font-family:Arial,Helvetica Neue,Helvetica,sans-serif; font-size:84px; text-anchor:middle;\" transform=\"rotate(0, 646.636, 873.2)\" x=\"646.636\" y=\"873.2\">X3 vs Y3</text>\n",
       "</g>\n",
       "<circle clip-path=\"url(#clip1004)\" style=\"fill:#000000; stroke:none; fill-opacity:1\" cx=\"590.401\" cy=\"1230.04\" r=\"18\"/>\n",
       "<circle clip-path=\"url(#clip1004)\" style=\"fill:#009af9; stroke:none; fill-opacity:1\" cx=\"590.401\" cy=\"1230.04\" r=\"14\"/>\n",
       "<circle clip-path=\"url(#clip1004)\" style=\"fill:#000000; stroke:none; fill-opacity:1\" cx=\"477.93\" cy=\"1262.57\" r=\"18\"/>\n",
       "<circle clip-path=\"url(#clip1004)\" style=\"fill:#009af9; stroke:none; fill-opacity:1\" cx=\"477.93\" cy=\"1262.57\" r=\"14\"/>\n",
       "<circle clip-path=\"url(#clip1004)\" style=\"fill:#000000; stroke:none; fill-opacity:1\" cx=\"759.107\" cy=\"981.084\" r=\"18\"/>\n",
       "<circle clip-path=\"url(#clip1004)\" style=\"fill:#009af9; stroke:none; fill-opacity:1\" cx=\"759.107\" cy=\"981.084\" r=\"14\"/>\n",
       "<circle clip-path=\"url(#clip1004)\" style=\"fill:#000000; stroke:none; fill-opacity:1\" cx=\"534.165\" cy=\"1246.54\" r=\"18\"/>\n",
       "<circle clip-path=\"url(#clip1004)\" style=\"fill:#009af9; stroke:none; fill-opacity:1\" cx=\"534.165\" cy=\"1246.54\" r=\"14\"/>\n",
       "<circle clip-path=\"url(#clip1004)\" style=\"fill:#000000; stroke:none; fill-opacity:1\" cx=\"646.636\" cy=\"1213.53\" r=\"18\"/>\n",
       "<circle clip-path=\"url(#clip1004)\" style=\"fill:#009af9; stroke:none; fill-opacity:1\" cx=\"646.636\" cy=\"1213.53\" r=\"14\"/>\n",
       "<circle clip-path=\"url(#clip1004)\" style=\"fill:#000000; stroke:none; fill-opacity:1\" cx=\"815.343\" cy=\"1164.97\" r=\"18\"/>\n",
       "<circle clip-path=\"url(#clip1004)\" style=\"fill:#009af9; stroke:none; fill-opacity:1\" cx=\"815.343\" cy=\"1164.97\" r=\"14\"/>\n",
       "<circle clip-path=\"url(#clip1004)\" style=\"fill:#000000; stroke:none; fill-opacity:1\" cx=\"365.459\" cy=\"1295.1\" r=\"18\"/>\n",
       "<circle clip-path=\"url(#clip1004)\" style=\"fill:#009af9; stroke:none; fill-opacity:1\" cx=\"365.459\" cy=\"1295.1\" r=\"14\"/>\n",
       "<circle clip-path=\"url(#clip1004)\" style=\"fill:#000000; stroke:none; fill-opacity:1\" cx=\"252.988\" cy=\"1327.64\" r=\"18\"/>\n",
       "<circle clip-path=\"url(#clip1004)\" style=\"fill:#009af9; stroke:none; fill-opacity:1\" cx=\"252.988\" cy=\"1327.64\" r=\"14\"/>\n",
       "<circle clip-path=\"url(#clip1004)\" style=\"fill:#000000; stroke:none; fill-opacity:1\" cx=\"702.872\" cy=\"1197.5\" r=\"18\"/>\n",
       "<circle clip-path=\"url(#clip1004)\" style=\"fill:#009af9; stroke:none; fill-opacity:1\" cx=\"702.872\" cy=\"1197.5\" r=\"14\"/>\n",
       "<circle clip-path=\"url(#clip1004)\" style=\"fill:#000000; stroke:none; fill-opacity:1\" cx=\"421.694\" cy=\"1279.07\" r=\"18\"/>\n",
       "<circle clip-path=\"url(#clip1004)\" style=\"fill:#009af9; stroke:none; fill-opacity:1\" cx=\"421.694\" cy=\"1279.07\" r=\"14\"/>\n",
       "<circle clip-path=\"url(#clip1004)\" style=\"fill:#000000; stroke:none; fill-opacity:1\" cx=\"309.223\" cy=\"1311.61\" r=\"18\"/>\n",
       "<circle clip-path=\"url(#clip1004)\" style=\"fill:#009af9; stroke:none; fill-opacity:1\" cx=\"309.223\" cy=\"1311.61\" r=\"14\"/>\n",
       "<polyline clip-path=\"url(#clip1004)\" style=\"stroke:#ff0000; stroke-width:8; stroke-opacity:1; fill:none\" points=\"\n",
       "  252.988,1345.96 815.343,1110.34 \n",
       "  \"/>\n",
       "<polygon clip-path=\"url(#clip1000)\" points=\"\n",
       "1340.52,1487.47 2352.76,1487.47 2352.76,921.675 1340.52,921.675 \n",
       "  \" fill=\"#ffffff\" fill-rule=\"evenodd\" fill-opacity=\"1\"/>\n",
       "<defs>\n",
       "  <clipPath id=\"clip1005\">\n",
       "    <rect x=\"1340\" y=\"921\" width=\"1013\" height=\"567\"/>\n",
       "  </clipPath>\n",
       "</defs>\n",
       "<polyline clip-path=\"url(#clip1005)\" style=\"stroke:#000000; stroke-width:2; stroke-opacity:0.1; fill:none\" points=\"\n",
       "  1509.22,1487.47 1509.22,921.675 \n",
       "  \"/>\n",
       "<polyline clip-path=\"url(#clip1005)\" style=\"stroke:#000000; stroke-width:2; stroke-opacity:0.1; fill:none\" points=\"\n",
       "  1790.4,1487.47 1790.4,921.675 \n",
       "  \"/>\n",
       "<polyline clip-path=\"url(#clip1005)\" style=\"stroke:#000000; stroke-width:2; stroke-opacity:0.1; fill:none\" points=\"\n",
       "  2071.58,1487.47 2071.58,921.675 \n",
       "  \"/>\n",
       "<polyline clip-path=\"url(#clip1005)\" style=\"stroke:#000000; stroke-width:2; stroke-opacity:0.1; fill:none\" points=\"\n",
       "  2352.76,1487.47 2352.76,921.675 \n",
       "  \"/>\n",
       "<polyline clip-path=\"url(#clip1005)\" style=\"stroke:#000000; stroke-width:2; stroke-opacity:0.1; fill:none\" points=\"\n",
       "  1340.52,1487.47 2352.76,1487.47 \n",
       "  \"/>\n",
       "<polyline clip-path=\"url(#clip1005)\" style=\"stroke:#000000; stroke-width:2; stroke-opacity:0.1; fill:none\" points=\"\n",
       "  1340.52,1393.17 2352.76,1393.17 \n",
       "  \"/>\n",
       "<polyline clip-path=\"url(#clip1005)\" style=\"stroke:#000000; stroke-width:2; stroke-opacity:0.1; fill:none\" points=\"\n",
       "  1340.52,1298.87 2352.76,1298.87 \n",
       "  \"/>\n",
       "<polyline clip-path=\"url(#clip1005)\" style=\"stroke:#000000; stroke-width:2; stroke-opacity:0.1; fill:none\" points=\"\n",
       "  1340.52,1204.57 2352.76,1204.57 \n",
       "  \"/>\n",
       "<polyline clip-path=\"url(#clip1005)\" style=\"stroke:#000000; stroke-width:2; stroke-opacity:0.1; fill:none\" points=\"\n",
       "  1340.52,1110.27 2352.76,1110.27 \n",
       "  \"/>\n",
       "<polyline clip-path=\"url(#clip1005)\" style=\"stroke:#000000; stroke-width:2; stroke-opacity:0.1; fill:none\" points=\"\n",
       "  1340.52,1015.98 2352.76,1015.98 \n",
       "  \"/>\n",
       "<polyline clip-path=\"url(#clip1005)\" style=\"stroke:#000000; stroke-width:2; stroke-opacity:0.1; fill:none\" points=\"\n",
       "  1340.52,921.675 2352.76,921.675 \n",
       "  \"/>\n",
       "<polyline clip-path=\"url(#clip1000)\" style=\"stroke:#000000; stroke-width:4; stroke-opacity:1; fill:none\" points=\"\n",
       "  1340.52,1487.47 2352.76,1487.47 \n",
       "  \"/>\n",
       "<polyline clip-path=\"url(#clip1000)\" style=\"stroke:#000000; stroke-width:4; stroke-opacity:1; fill:none\" points=\"\n",
       "  1340.52,1487.47 1340.52,921.675 \n",
       "  \"/>\n",
       "<polyline clip-path=\"url(#clip1000)\" style=\"stroke:#000000; stroke-width:4; stroke-opacity:1; fill:none\" points=\"\n",
       "  1509.22,1487.47 1509.22,1478.99 \n",
       "  \"/>\n",
       "<polyline clip-path=\"url(#clip1000)\" style=\"stroke:#000000; stroke-width:4; stroke-opacity:1; fill:none\" points=\"\n",
       "  1790.4,1487.47 1790.4,1478.99 \n",
       "  \"/>\n",
       "<polyline clip-path=\"url(#clip1000)\" style=\"stroke:#000000; stroke-width:4; stroke-opacity:1; fill:none\" points=\"\n",
       "  2071.58,1487.47 2071.58,1478.99 \n",
       "  \"/>\n",
       "<polyline clip-path=\"url(#clip1000)\" style=\"stroke:#000000; stroke-width:4; stroke-opacity:1; fill:none\" points=\"\n",
       "  2352.76,1487.47 2352.76,1478.99 \n",
       "  \"/>\n",
       "<polyline clip-path=\"url(#clip1000)\" style=\"stroke:#000000; stroke-width:4; stroke-opacity:1; fill:none\" points=\"\n",
       "  1340.52,1487.47 1355.7,1487.47 \n",
       "  \"/>\n",
       "<polyline clip-path=\"url(#clip1000)\" style=\"stroke:#000000; stroke-width:4; stroke-opacity:1; fill:none\" points=\"\n",
       "  1340.52,1393.17 1355.7,1393.17 \n",
       "  \"/>\n",
       "<polyline clip-path=\"url(#clip1000)\" style=\"stroke:#000000; stroke-width:4; stroke-opacity:1; fill:none\" points=\"\n",
       "  1340.52,1298.87 1355.7,1298.87 \n",
       "  \"/>\n",
       "<polyline clip-path=\"url(#clip1000)\" style=\"stroke:#000000; stroke-width:4; stroke-opacity:1; fill:none\" points=\"\n",
       "  1340.52,1204.57 1355.7,1204.57 \n",
       "  \"/>\n",
       "<polyline clip-path=\"url(#clip1000)\" style=\"stroke:#000000; stroke-width:4; stroke-opacity:1; fill:none\" points=\"\n",
       "  1340.52,1110.27 1355.7,1110.27 \n",
       "  \"/>\n",
       "<polyline clip-path=\"url(#clip1000)\" style=\"stroke:#000000; stroke-width:4; stroke-opacity:1; fill:none\" points=\"\n",
       "  1340.52,1015.98 1355.7,1015.98 \n",
       "  \"/>\n",
       "<polyline clip-path=\"url(#clip1000)\" style=\"stroke:#000000; stroke-width:4; stroke-opacity:1; fill:none\" points=\"\n",
       "  1340.52,921.675 1355.7,921.675 \n",
       "  \"/>\n",
       "<g clip-path=\"url(#clip1000)\">\n",
       "<text style=\"fill:#000000; fill-opacity:1; font-family:Arial,Helvetica Neue,Helvetica,sans-serif; font-size:48px; text-anchor:middle;\" transform=\"rotate(0, 1509.22, 1541.47)\" x=\"1509.22\" y=\"1541.47\">5</text>\n",
       "</g>\n",
       "<g clip-path=\"url(#clip1000)\">\n",
       "<text style=\"fill:#000000; fill-opacity:1; font-family:Arial,Helvetica Neue,Helvetica,sans-serif; font-size:48px; text-anchor:middle;\" transform=\"rotate(0, 1790.4, 1541.47)\" x=\"1790.4\" y=\"1541.47\">10</text>\n",
       "</g>\n",
       "<g clip-path=\"url(#clip1000)\">\n",
       "<text style=\"fill:#000000; fill-opacity:1; font-family:Arial,Helvetica Neue,Helvetica,sans-serif; font-size:48px; text-anchor:middle;\" transform=\"rotate(0, 2071.58, 1541.47)\" x=\"2071.58\" y=\"1541.47\">15</text>\n",
       "</g>\n",
       "<g clip-path=\"url(#clip1000)\">\n",
       "<text style=\"fill:#000000; fill-opacity:1; font-family:Arial,Helvetica Neue,Helvetica,sans-serif; font-size:48px; text-anchor:middle;\" transform=\"rotate(0, 2352.76, 1541.47)\" x=\"2352.76\" y=\"1541.47\">20</text>\n",
       "</g>\n",
       "<g clip-path=\"url(#clip1000)\">\n",
       "<text style=\"fill:#000000; fill-opacity:1; font-family:Arial,Helvetica Neue,Helvetica,sans-serif; font-size:48px; text-anchor:end;\" transform=\"rotate(0, 1316.52, 1504.97)\" x=\"1316.52\" y=\"1504.97\">2</text>\n",
       "</g>\n",
       "<g clip-path=\"url(#clip1000)\">\n",
       "<text style=\"fill:#000000; fill-opacity:1; font-family:Arial,Helvetica Neue,Helvetica,sans-serif; font-size:48px; text-anchor:end;\" transform=\"rotate(0, 1316.52, 1410.67)\" x=\"1316.52\" y=\"1410.67\">4</text>\n",
       "</g>\n",
       "<g clip-path=\"url(#clip1000)\">\n",
       "<text style=\"fill:#000000; fill-opacity:1; font-family:Arial,Helvetica Neue,Helvetica,sans-serif; font-size:48px; text-anchor:end;\" transform=\"rotate(0, 1316.52, 1316.37)\" x=\"1316.52\" y=\"1316.37\">6</text>\n",
       "</g>\n",
       "<g clip-path=\"url(#clip1000)\">\n",
       "<text style=\"fill:#000000; fill-opacity:1; font-family:Arial,Helvetica Neue,Helvetica,sans-serif; font-size:48px; text-anchor:end;\" transform=\"rotate(0, 1316.52, 1222.07)\" x=\"1316.52\" y=\"1222.07\">8</text>\n",
       "</g>\n",
       "<g clip-path=\"url(#clip1000)\">\n",
       "<text style=\"fill:#000000; fill-opacity:1; font-family:Arial,Helvetica Neue,Helvetica,sans-serif; font-size:48px; text-anchor:end;\" transform=\"rotate(0, 1316.52, 1127.77)\" x=\"1316.52\" y=\"1127.77\">10</text>\n",
       "</g>\n",
       "<g clip-path=\"url(#clip1000)\">\n",
       "<text style=\"fill:#000000; fill-opacity:1; font-family:Arial,Helvetica Neue,Helvetica,sans-serif; font-size:48px; text-anchor:end;\" transform=\"rotate(0, 1316.52, 1033.48)\" x=\"1316.52\" y=\"1033.48\">12</text>\n",
       "</g>\n",
       "<g clip-path=\"url(#clip1000)\">\n",
       "<text style=\"fill:#000000; fill-opacity:1; font-family:Arial,Helvetica Neue,Helvetica,sans-serif; font-size:48px; text-anchor:end;\" transform=\"rotate(0, 1316.52, 939.175)\" x=\"1316.52\" y=\"939.175\">14</text>\n",
       "</g>\n",
       "<g clip-path=\"url(#clip1000)\">\n",
       "<text style=\"fill:#000000; fill-opacity:1; font-family:Arial,Helvetica Neue,Helvetica,sans-serif; font-size:84px; text-anchor:middle;\" transform=\"rotate(0, 1846.64, 873.2)\" x=\"1846.64\" y=\"873.2\">X4 vs Y4</text>\n",
       "</g>\n",
       "<circle clip-path=\"url(#clip1005)\" style=\"fill:#000000; stroke:none; fill-opacity:1\" cx=\"1677.93\" cy=\"1271.53\" r=\"18\"/>\n",
       "<circle clip-path=\"url(#clip1005)\" style=\"fill:#009af9; stroke:none; fill-opacity:1\" cx=\"1677.93\" cy=\"1271.53\" r=\"14\"/>\n",
       "<circle clip-path=\"url(#clip1005)\" style=\"fill:#000000; stroke:none; fill-opacity:1\" cx=\"1677.93\" cy=\"1310.19\" r=\"18\"/>\n",
       "<circle clip-path=\"url(#clip1005)\" style=\"fill:#009af9; stroke:none; fill-opacity:1\" cx=\"1677.93\" cy=\"1310.19\" r=\"14\"/>\n",
       "<circle clip-path=\"url(#clip1005)\" style=\"fill:#000000; stroke:none; fill-opacity:1\" cx=\"1677.93\" cy=\"1218.25\" r=\"18\"/>\n",
       "<circle clip-path=\"url(#clip1005)\" style=\"fill:#009af9; stroke:none; fill-opacity:1\" cx=\"1677.93\" cy=\"1218.25\" r=\"14\"/>\n",
       "<circle clip-path=\"url(#clip1005)\" style=\"fill:#000000; stroke:none; fill-opacity:1\" cx=\"1677.93\" cy=\"1164.97\" r=\"18\"/>\n",
       "<circle clip-path=\"url(#clip1005)\" style=\"fill:#009af9; stroke:none; fill-opacity:1\" cx=\"1677.93\" cy=\"1164.97\" r=\"14\"/>\n",
       "<circle clip-path=\"url(#clip1005)\" style=\"fill:#000000; stroke:none; fill-opacity:1\" cx=\"1677.93\" cy=\"1182.41\" r=\"18\"/>\n",
       "<circle clip-path=\"url(#clip1005)\" style=\"fill:#009af9; stroke:none; fill-opacity:1\" cx=\"1677.93\" cy=\"1182.41\" r=\"14\"/>\n",
       "<circle clip-path=\"url(#clip1005)\" style=\"fill:#000000; stroke:none; fill-opacity:1\" cx=\"1677.93\" cy=\"1249.84\" r=\"18\"/>\n",
       "<circle clip-path=\"url(#clip1005)\" style=\"fill:#009af9; stroke:none; fill-opacity:1\" cx=\"1677.93\" cy=\"1249.84\" r=\"14\"/>\n",
       "<circle clip-path=\"url(#clip1005)\" style=\"fill:#000000; stroke:none; fill-opacity:1\" cx=\"1677.93\" cy=\"1334.24\" r=\"18\"/>\n",
       "<circle clip-path=\"url(#clip1005)\" style=\"fill:#009af9; stroke:none; fill-opacity:1\" cx=\"1677.93\" cy=\"1334.24\" r=\"14\"/>\n",
       "<circle clip-path=\"url(#clip1005)\" style=\"fill:#000000; stroke:none; fill-opacity:1\" cx=\"2296.52\" cy=\"992.4\" r=\"18\"/>\n",
       "<circle clip-path=\"url(#clip1005)\" style=\"fill:#009af9; stroke:none; fill-opacity:1\" cx=\"2296.52\" cy=\"992.4\" r=\"14\"/>\n",
       "<circle clip-path=\"url(#clip1005)\" style=\"fill:#000000; stroke:none; fill-opacity:1\" cx=\"1677.93\" cy=\"1319.62\" r=\"18\"/>\n",
       "<circle clip-path=\"url(#clip1005)\" style=\"fill:#009af9; stroke:none; fill-opacity:1\" cx=\"1677.93\" cy=\"1319.62\" r=\"14\"/>\n",
       "<circle clip-path=\"url(#clip1005)\" style=\"fill:#000000; stroke:none; fill-opacity:1\" cx=\"1677.93\" cy=\"1208.82\" r=\"18\"/>\n",
       "<circle clip-path=\"url(#clip1005)\" style=\"fill:#009af9; stroke:none; fill-opacity:1\" cx=\"1677.93\" cy=\"1208.82\" r=\"14\"/>\n",
       "<circle clip-path=\"url(#clip1005)\" style=\"fill:#000000; stroke:none; fill-opacity:1\" cx=\"1677.93\" cy=\"1256.91\" r=\"18\"/>\n",
       "<circle clip-path=\"url(#clip1005)\" style=\"fill:#009af9; stroke:none; fill-opacity:1\" cx=\"1677.93\" cy=\"1256.91\" r=\"14\"/>\n",
       "<polyline clip-path=\"url(#clip1005)\" style=\"stroke:#ff0000; stroke-width:8; stroke-opacity:1; fill:none\" points=\"\n",
       "  1677.93,1251.68 2296.52,992.4 \n",
       "  \"/>\n",
       "</svg>\n"
      ]
     },
     "execution_count": 45,
     "metadata": {},
     "output_type": "execute_result"
    }
   ],
   "source": [
    "@df anscombe scatter(\n",
    "    [:X1 :X2 :X3 :X4], [:Y1 :Y2 :Y3 :Y4],\n",
    "    smooth=true,\n",
    "    line = :red,\n",
    "    linewidth = 2,\n",
    "    title= [\"X$i vs Y$i\" for i in (1:4)'],\n",
    "    legend = false,\n",
    "    layout = 4,\n",
    "    xlimits = (2, 20),\n",
    "    ylimits = (2, 14)\n",
    ")\n"
   ]
  },
  {
   "cell_type": "markdown",
   "metadata": {},
   "source": [
    "### Regression and Models"
   ]
  },
  {
   "cell_type": "code",
   "execution_count": 52,
   "metadata": {},
   "outputs": [],
   "source": [
    "using GLM, StatsModels"
   ]
  },
  {
   "cell_type": "code",
   "execution_count": 53,
   "metadata": {},
   "outputs": [
    {
     "data": {
      "text/plain": [
       "StatsModels.TableRegressionModel{LinearModel{GLM.LmResp{Array{Float64,1}},GLM.DensePredChol{Float64,LinearAlgebra.Cholesky{Float64,Array{Float64,2}}}},Array{Float64,2}}\n",
       "\n",
       "Y1 ~ 1 + X1\n",
       "\n",
       "Coefficients:\n",
       "──────────────────────────────────────────────────────────────────────────\n",
       "             Estimate  Std. Error  t value  Pr(>|t|)  Lower 95%  Upper 95%\n",
       "──────────────────────────────────────────────────────────────────────────\n",
       "(Intercept)  3.00009     1.12475   2.66735    0.0257   0.455737   5.54444 \n",
       "X1           0.500091    0.117906  4.24146    0.0022   0.23337    0.766812\n",
       "──────────────────────────────────────────────────────────────────────────"
      ]
     },
     "execution_count": 53,
     "metadata": {},
     "output_type": "execute_result"
    }
   ],
   "source": [
    "linearmodel = fit(LinearModel, @formula(Y1 ~ X1), anscombe)"
   ]
  },
  {
   "cell_type": "code",
   "execution_count": 54,
   "metadata": {},
   "outputs": [
    {
     "data": {
      "text/plain": [
       "\"StatsModels.TableRegressionModel{LinearModel{GLM.LmResp{Array{Float64,1}},GLM.DensePredChol{Float64,LinearAlgebra.Cholesky{Float64,Array{Float64,2}}}},Array{Float64,2}}\""
      ]
     },
     "execution_count": 54,
     "metadata": {},
     "output_type": "execute_result"
    }
   ],
   "source": [
    "summary(linearmodel)"
   ]
  },
  {
   "cell_type": "code",
   "execution_count": 55,
   "metadata": {},
   "outputs": [
    {
     "data": {
      "text/plain": [
       "2-element Array{Float64,1}:\n",
       " 3.0000909090909054\n",
       " 0.5000909090909096"
      ]
     },
     "execution_count": 55,
     "metadata": {},
     "output_type": "execute_result"
    }
   ],
   "source": [
    "coef(linearmodel)"
   ]
  },
  {
   "cell_type": "code",
   "execution_count": 59,
   "metadata": {},
   "outputs": [
    {
     "data": {
      "text/plain": [
       "f (generic function with 1 method)"
      ]
     },
     "execution_count": 59,
     "metadata": {},
     "output_type": "execute_result"
    }
   ],
   "source": [
    "f(x) = coef(linearmodel)[2] * x + coef(linearmodel)[1]"
   ]
  },
  {
   "cell_type": "code",
   "execution_count": 60,
   "metadata": {},
   "outputs": [
    {
     "data": {
      "image/svg+xml": [
       "<?xml version=\"1.0\" encoding=\"utf-8\"?>\n",
       "<svg xmlns=\"http://www.w3.org/2000/svg\" xmlns:xlink=\"http://www.w3.org/1999/xlink\" width=\"600\" height=\"400\" viewBox=\"0 0 2400 1600\">\n",
       "<defs>\n",
       "  <clipPath id=\"clip2200\">\n",
       "    <rect x=\"0\" y=\"0\" width=\"2400\" height=\"1600\"/>\n",
       "  </clipPath>\n",
       "</defs>\n",
       "<polygon clip-path=\"url(#clip2200)\" points=\"\n",
       "0,1600 2400,1600 2400,0 0,0 \n",
       "  \" fill=\"#ffffff\" fill-rule=\"evenodd\" fill-opacity=\"1\"/>\n",
       "<defs>\n",
       "  <clipPath id=\"clip2201\">\n",
       "    <rect x=\"480\" y=\"0\" width=\"1681\" height=\"1600\"/>\n",
       "  </clipPath>\n",
       "</defs>\n",
       "<polygon clip-path=\"url(#clip2200)\" points=\"\n",
       "140.517,1487.47 2352.76,1487.47 2352.76,121.675 140.517,121.675 \n",
       "  \" fill=\"#ffffff\" fill-rule=\"evenodd\" fill-opacity=\"1\"/>\n",
       "<defs>\n",
       "  <clipPath id=\"clip2202\">\n",
       "    <rect x=\"140\" y=\"121\" width=\"2213\" height=\"1367\"/>\n",
       "  </clipPath>\n",
       "</defs>\n",
       "<polyline clip-path=\"url(#clip2202)\" style=\"stroke:#000000; stroke-width:2; stroke-opacity:0.1; fill:none\" points=\"\n",
       "  538.111,1487.47 538.111,121.675 \n",
       "  \"/>\n",
       "<polyline clip-path=\"url(#clip2202)\" style=\"stroke:#000000; stroke-width:2; stroke-opacity:0.1; fill:none\" points=\"\n",
       "  1131.17,1487.47 1131.17,121.675 \n",
       "  \"/>\n",
       "<polyline clip-path=\"url(#clip2202)\" style=\"stroke:#000000; stroke-width:2; stroke-opacity:0.1; fill:none\" points=\"\n",
       "  1724.22,1487.47 1724.22,121.675 \n",
       "  \"/>\n",
       "<polyline clip-path=\"url(#clip2202)\" style=\"stroke:#000000; stroke-width:2; stroke-opacity:0.1; fill:none\" points=\"\n",
       "  2317.28,1487.47 2317.28,121.675 \n",
       "  \"/>\n",
       "<polyline clip-path=\"url(#clip2202)\" style=\"stroke:#000000; stroke-width:2; stroke-opacity:0.1; fill:none\" points=\"\n",
       "  140.517,1461.73 2352.76,1461.73 \n",
       "  \"/>\n",
       "<polyline clip-path=\"url(#clip2202)\" style=\"stroke:#000000; stroke-width:2; stroke-opacity:0.1; fill:none\" points=\"\n",
       "  140.517,1168.87 2352.76,1168.87 \n",
       "  \"/>\n",
       "<polyline clip-path=\"url(#clip2202)\" style=\"stroke:#000000; stroke-width:2; stroke-opacity:0.1; fill:none\" points=\"\n",
       "  140.517,876.01 2352.76,876.01 \n",
       "  \"/>\n",
       "<polyline clip-path=\"url(#clip2202)\" style=\"stroke:#000000; stroke-width:2; stroke-opacity:0.1; fill:none\" points=\"\n",
       "  140.517,583.149 2352.76,583.149 \n",
       "  \"/>\n",
       "<polyline clip-path=\"url(#clip2202)\" style=\"stroke:#000000; stroke-width:2; stroke-opacity:0.1; fill:none\" points=\"\n",
       "  140.517,290.288 2352.76,290.288 \n",
       "  \"/>\n",
       "<polyline clip-path=\"url(#clip2200)\" style=\"stroke:#000000; stroke-width:4; stroke-opacity:1; fill:none\" points=\"\n",
       "  140.517,1487.47 2352.76,1487.47 \n",
       "  \"/>\n",
       "<polyline clip-path=\"url(#clip2200)\" style=\"stroke:#000000; stroke-width:4; stroke-opacity:1; fill:none\" points=\"\n",
       "  140.517,1487.47 140.517,121.675 \n",
       "  \"/>\n",
       "<polyline clip-path=\"url(#clip2200)\" style=\"stroke:#000000; stroke-width:4; stroke-opacity:1; fill:none\" points=\"\n",
       "  538.111,1487.47 538.111,1466.99 \n",
       "  \"/>\n",
       "<polyline clip-path=\"url(#clip2200)\" style=\"stroke:#000000; stroke-width:4; stroke-opacity:1; fill:none\" points=\"\n",
       "  1131.17,1487.47 1131.17,1466.99 \n",
       "  \"/>\n",
       "<polyline clip-path=\"url(#clip2200)\" style=\"stroke:#000000; stroke-width:4; stroke-opacity:1; fill:none\" points=\"\n",
       "  1724.22,1487.47 1724.22,1466.99 \n",
       "  \"/>\n",
       "<polyline clip-path=\"url(#clip2200)\" style=\"stroke:#000000; stroke-width:4; stroke-opacity:1; fill:none\" points=\"\n",
       "  2317.28,1487.47 2317.28,1466.99 \n",
       "  \"/>\n",
       "<polyline clip-path=\"url(#clip2200)\" style=\"stroke:#000000; stroke-width:4; stroke-opacity:1; fill:none\" points=\"\n",
       "  140.517,1461.73 173.7,1461.73 \n",
       "  \"/>\n",
       "<polyline clip-path=\"url(#clip2200)\" style=\"stroke:#000000; stroke-width:4; stroke-opacity:1; fill:none\" points=\"\n",
       "  140.517,1168.87 173.7,1168.87 \n",
       "  \"/>\n",
       "<polyline clip-path=\"url(#clip2200)\" style=\"stroke:#000000; stroke-width:4; stroke-opacity:1; fill:none\" points=\"\n",
       "  140.517,876.01 173.7,876.01 \n",
       "  \"/>\n",
       "<polyline clip-path=\"url(#clip2200)\" style=\"stroke:#000000; stroke-width:4; stroke-opacity:1; fill:none\" points=\"\n",
       "  140.517,583.149 173.7,583.149 \n",
       "  \"/>\n",
       "<polyline clip-path=\"url(#clip2200)\" style=\"stroke:#000000; stroke-width:4; stroke-opacity:1; fill:none\" points=\"\n",
       "  140.517,290.288 173.7,290.288 \n",
       "  \"/>\n",
       "<g clip-path=\"url(#clip2200)\">\n",
       "<text style=\"fill:#000000; fill-opacity:1; font-family:Arial,Helvetica Neue,Helvetica,sans-serif; font-size:48px; text-anchor:middle;\" transform=\"rotate(0, 538.111, 1541.47)\" x=\"538.111\" y=\"1541.47\">5</text>\n",
       "</g>\n",
       "<g clip-path=\"url(#clip2200)\">\n",
       "<text style=\"fill:#000000; fill-opacity:1; font-family:Arial,Helvetica Neue,Helvetica,sans-serif; font-size:48px; text-anchor:middle;\" transform=\"rotate(0, 1131.17, 1541.47)\" x=\"1131.17\" y=\"1541.47\">10</text>\n",
       "</g>\n",
       "<g clip-path=\"url(#clip2200)\">\n",
       "<text style=\"fill:#000000; fill-opacity:1; font-family:Arial,Helvetica Neue,Helvetica,sans-serif; font-size:48px; text-anchor:middle;\" transform=\"rotate(0, 1724.22, 1541.47)\" x=\"1724.22\" y=\"1541.47\">15</text>\n",
       "</g>\n",
       "<g clip-path=\"url(#clip2200)\">\n",
       "<text style=\"fill:#000000; fill-opacity:1; font-family:Arial,Helvetica Neue,Helvetica,sans-serif; font-size:48px; text-anchor:middle;\" transform=\"rotate(0, 2317.28, 1541.47)\" x=\"2317.28\" y=\"1541.47\">20</text>\n",
       "</g>\n",
       "<g clip-path=\"url(#clip2200)\">\n",
       "<text style=\"fill:#000000; fill-opacity:1; font-family:Arial,Helvetica Neue,Helvetica,sans-serif; font-size:48px; text-anchor:end;\" transform=\"rotate(0, 116.517, 1479.23)\" x=\"116.517\" y=\"1479.23\">4</text>\n",
       "</g>\n",
       "<g clip-path=\"url(#clip2200)\">\n",
       "<text style=\"fill:#000000; fill-opacity:1; font-family:Arial,Helvetica Neue,Helvetica,sans-serif; font-size:48px; text-anchor:end;\" transform=\"rotate(0, 116.517, 1186.37)\" x=\"116.517\" y=\"1186.37\">6</text>\n",
       "</g>\n",
       "<g clip-path=\"url(#clip2200)\">\n",
       "<text style=\"fill:#000000; fill-opacity:1; font-family:Arial,Helvetica Neue,Helvetica,sans-serif; font-size:48px; text-anchor:end;\" transform=\"rotate(0, 116.517, 893.51)\" x=\"116.517\" y=\"893.51\">8</text>\n",
       "</g>\n",
       "<g clip-path=\"url(#clip2200)\">\n",
       "<text style=\"fill:#000000; fill-opacity:1; font-family:Arial,Helvetica Neue,Helvetica,sans-serif; font-size:48px; text-anchor:end;\" transform=\"rotate(0, 116.517, 600.649)\" x=\"116.517\" y=\"600.649\">10</text>\n",
       "</g>\n",
       "<g clip-path=\"url(#clip2200)\">\n",
       "<text style=\"fill:#000000; fill-opacity:1; font-family:Arial,Helvetica Neue,Helvetica,sans-serif; font-size:48px; text-anchor:end;\" transform=\"rotate(0, 116.517, 307.788)\" x=\"116.517\" y=\"307.788\">12</text>\n",
       "</g>\n",
       "<g clip-path=\"url(#clip2200)\">\n",
       "<text style=\"fill:#000000; fill-opacity:1; font-family:Arial,Helvetica Neue,Helvetica,sans-serif; font-size:84px; text-anchor:middle;\" transform=\"rotate(0, 1246.64, 73.2)\" x=\"1246.64\" y=\"73.2\">X1 vs Y1</text>\n",
       "</g>\n",
       "<circle clip-path=\"url(#clip2202)\" style=\"fill:#000000; stroke:none; fill-opacity:1\" cx=\"1131.17\" cy=\"870.153\" r=\"18\"/>\n",
       "<circle clip-path=\"url(#clip2202)\" style=\"fill:#009af9; stroke:none; fill-opacity:1\" cx=\"1131.17\" cy=\"870.153\" r=\"14\"/>\n",
       "<circle clip-path=\"url(#clip2202)\" style=\"fill:#000000; stroke:none; fill-opacity:1\" cx=\"893.945\" cy=\"1029.76\" r=\"18\"/>\n",
       "<circle clip-path=\"url(#clip2202)\" style=\"fill:#009af9; stroke:none; fill-opacity:1\" cx=\"893.945\" cy=\"1029.76\" r=\"14\"/>\n",
       "<circle clip-path=\"url(#clip2202)\" style=\"fill:#000000; stroke:none; fill-opacity:1\" cx=\"1487\" cy=\"937.511\" r=\"18\"/>\n",
       "<circle clip-path=\"url(#clip2202)\" style=\"fill:#009af9; stroke:none; fill-opacity:1\" cx=\"1487\" cy=\"937.511\" r=\"14\"/>\n",
       "<circle clip-path=\"url(#clip2202)\" style=\"fill:#000000; stroke:none; fill-opacity:1\" cx=\"1012.56\" cy=\"757.401\" r=\"18\"/>\n",
       "<circle clip-path=\"url(#clip2202)\" style=\"fill:#009af9; stroke:none; fill-opacity:1\" cx=\"1012.56\" cy=\"757.401\" r=\"14\"/>\n",
       "<circle clip-path=\"url(#clip2202)\" style=\"fill:#000000; stroke:none; fill-opacity:1\" cx=\"1249.78\" cy=\"827.688\" r=\"18\"/>\n",
       "<circle clip-path=\"url(#clip2202)\" style=\"fill:#009af9; stroke:none; fill-opacity:1\" cx=\"1249.78\" cy=\"827.688\" r=\"14\"/>\n",
       "<circle clip-path=\"url(#clip2202)\" style=\"fill:#000000; stroke:none; fill-opacity:1\" cx=\"1605.61\" cy=\"589.006\" r=\"18\"/>\n",
       "<circle clip-path=\"url(#clip2202)\" style=\"fill:#009af9; stroke:none; fill-opacity:1\" cx=\"1605.61\" cy=\"589.006\" r=\"14\"/>\n",
       "<circle clip-path=\"url(#clip2202)\" style=\"fill:#000000; stroke:none; fill-opacity:1\" cx=\"656.722\" cy=\"987.297\" r=\"18\"/>\n",
       "<circle clip-path=\"url(#clip2202)\" style=\"fill:#009af9; stroke:none; fill-opacity:1\" cx=\"656.722\" cy=\"987.297\" r=\"14\"/>\n",
       "<circle clip-path=\"url(#clip2202)\" style=\"fill:#000000; stroke:none; fill-opacity:1\" cx=\"419.5\" cy=\"1423.66\" r=\"18\"/>\n",
       "<circle clip-path=\"url(#clip2202)\" style=\"fill:#009af9; stroke:none; fill-opacity:1\" cx=\"419.5\" cy=\"1423.66\" r=\"14\"/>\n",
       "<circle clip-path=\"url(#clip2202)\" style=\"fill:#000000; stroke:none; fill-opacity:1\" cx=\"1368.39\" cy=\"460.147\" r=\"18\"/>\n",
       "<circle clip-path=\"url(#clip2202)\" style=\"fill:#009af9; stroke:none; fill-opacity:1\" cx=\"1368.39\" cy=\"460.147\" r=\"14\"/>\n",
       "<circle clip-path=\"url(#clip2202)\" style=\"fill:#000000; stroke:none; fill-opacity:1\" cx=\"775.333\" cy=\"1341.66\" r=\"18\"/>\n",
       "<circle clip-path=\"url(#clip2202)\" style=\"fill:#009af9; stroke:none; fill-opacity:1\" cx=\"775.333\" cy=\"1341.66\" r=\"14\"/>\n",
       "<circle clip-path=\"url(#clip2202)\" style=\"fill:#000000; stroke:none; fill-opacity:1\" cx=\"538.111\" cy=\"1215.73\" r=\"18\"/>\n",
       "<circle clip-path=\"url(#clip2202)\" style=\"fill:#009af9; stroke:none; fill-opacity:1\" cx=\"538.111\" cy=\"1215.73\" r=\"14\"/>\n",
       "<polyline clip-path=\"url(#clip2202)\" style=\"stroke:#009af9; stroke-width:32; stroke-opacity:0.5; fill:none\" points=\"\n",
       "  419.5,1315.24 1605.61,582.949 \n",
       "  \"/>\n",
       "<polyline clip-path=\"url(#clip2202)\" style=\"stroke:#e26f46; stroke-width:4; stroke-opacity:1; fill:none\" points=\"\n",
       "  203.127,1448.82 395.916,1329.8 511.774,1258.27 609.731,1197.79 716.139,1132.1 814.238,1071.53 919.41,1006.6 1041.26,931.369 1149.55,864.514 1244.51,805.888 \n",
       "  1348.04,741.97 1452.19,677.672 1567.33,606.582 1676.89,538.942 1790.81,468.612 1886.7,409.409 2003.78,337.129 2113.83,269.184 2290.15,160.33 \n",
       "  \"/>\n",
       "<polygon clip-path=\"url(#clip2200)\" points=\"\n",
       "1816.07,386.635 2280.76,386.635 2280.76,205.195 1816.07,205.195 \n",
       "  \" fill=\"#ffffff\" fill-rule=\"evenodd\" fill-opacity=\"1\"/>\n",
       "<polyline clip-path=\"url(#clip2200)\" style=\"stroke:#000000; stroke-width:4; stroke-opacity:1; fill:none\" points=\"\n",
       "  1816.07,386.635 2280.76,386.635 2280.76,205.195 1816.07,205.195 1816.07,386.635 \n",
       "  \"/>\n",
       "<circle clip-path=\"url(#clip2200)\" style=\"fill:#000000; stroke:none; fill-opacity:1\" cx=\"1924.07\" cy=\"265.675\" r=\"25\"/>\n",
       "<circle clip-path=\"url(#clip2200)\" style=\"fill:#009af9; stroke:none; fill-opacity:1\" cx=\"1924.07\" cy=\"265.675\" r=\"21\"/>\n",
       "<g clip-path=\"url(#clip2200)\">\n",
       "<text style=\"fill:#000000; fill-opacity:1; font-family:Arial,Helvetica Neue,Helvetica,sans-serif; font-size:48px; text-anchor:start;\" transform=\"rotate(0, 2008.07, 283.175)\" x=\"2008.07\" y=\"283.175\">data</text>\n",
       "</g>\n",
       "<polyline clip-path=\"url(#clip2200)\" style=\"stroke:#e26f46; stroke-width:4; stroke-opacity:1; fill:none\" points=\"\n",
       "  1840.07,326.155 1984.07,326.155 \n",
       "  \"/>\n",
       "<g clip-path=\"url(#clip2200)\">\n",
       "<text style=\"fill:#000000; fill-opacity:1; font-family:Arial,Helvetica Neue,Helvetica,sans-serif; font-size:48px; text-anchor:start;\" transform=\"rotate(0, 2008.07, 343.655)\" x=\"2008.07\" y=\"343.655\">correlation</text>\n",
       "</g>\n",
       "</svg>\n"
      ]
     },
     "execution_count": 60,
     "metadata": {},
     "output_type": "execute_result"
    }
   ],
   "source": [
    "p1 = plot(\n",
    "    anscombe[!, :X1], anscombe[!, :Y1], \n",
    "    smooth=true, \n",
    "    seriestype=:scatter, \n",
    "    title = \"X1 vs Y1\", \n",
    "    linewidth=8,\n",
    "    linealpha=0.5,\n",
    "    label=\"data\"\n",
    ")\n",
    "plot!(f, 2, 20, label=\"correlation\")"
   ]
  },
  {
   "cell_type": "markdown",
   "metadata": {},
   "source": [
    "### Working with DataFrames"
   ]
  },
  {
   "cell_type": "code",
   "execution_count": 61,
   "metadata": {},
   "outputs": [
    {
     "data": {
      "text/html": [
       "<table class=\"data-frame\"><thead><tr><th></th><th>Number</th><th>Name</th><th>AtomicWeight</th><th>Symbol</th><th>Discovered</th></tr><tr><th></th><th>Int64</th><th>String</th><th>Float64</th><th>String</th><th>Int64⍰</th></tr></thead><tbody><p>5 rows × 5 columns</p><tr><th>1</th><td>1</td><td>Hydrogen</td><td>1.0079</td><td>H</td><td>1776</td></tr><tr><th>2</th><td>2</td><td>Helium</td><td>4.0026</td><td>He</td><td>1895</td></tr><tr><th>3</th><td>6</td><td>Carbon</td><td>12.0107</td><td>C</td><td>0</td></tr><tr><th>4</th><td>8</td><td>Oxygen</td><td>15.9994</td><td>O</td><td>1774</td></tr><tr><th>5</th><td>26</td><td>Iron</td><td>55.845</td><td>Fe</td><td>missing</td></tr></tbody></table>"
      ],
      "text/latex": [
       "\\begin{tabular}{r|ccccc}\n",
       "\t& Number & Name & AtomicWeight & Symbol & Discovered\\\\\n",
       "\t\\hline\n",
       "\t& Int64 & String & Float64 & String & Int64⍰\\\\\n",
       "\t\\hline\n",
       "\t1 & 1 & Hydrogen & 1.0079 & H & 1776 \\\\\n",
       "\t2 & 2 & Helium & 4.0026 & He & 1895 \\\\\n",
       "\t3 & 6 & Carbon & 12.0107 & C & 0 \\\\\n",
       "\t4 & 8 & Oxygen & 15.9994 & O & 1774 \\\\\n",
       "\t5 & 26 & Iron & 55.845 & Fe &  \\\\\n",
       "\\end{tabular}\n"
      ],
      "text/plain": [
       "5×5 DataFrame\n",
       "│ Row │ Number │ Name     │ AtomicWeight │ Symbol │ Discovered │\n",
       "│     │ \u001b[90mInt64\u001b[39m  │ \u001b[90mString\u001b[39m   │ \u001b[90mFloat64\u001b[39m      │ \u001b[90mString\u001b[39m │ \u001b[90mInt64⍰\u001b[39m     │\n",
       "├─────┼────────┼──────────┼──────────────┼────────┼────────────┤\n",
       "│ 1   │ 1      │ Hydrogen │ 1.0079       │ H      │ 1776       │\n",
       "│ 2   │ 2      │ Helium   │ 4.0026       │ He     │ 1895       │\n",
       "│ 3   │ 6      │ Carbon   │ 12.0107      │ C      │ 0          │\n",
       "│ 4   │ 8      │ Oxygen   │ 15.9994      │ O      │ 1774       │\n",
       "│ 5   │ 26     │ Iron     │ 55.845       │ Fe     │ \u001b[90mmissing\u001b[39m    │"
      ]
     },
     "execution_count": 61,
     "metadata": {},
     "output_type": "execute_result"
    }
   ],
   "source": [
    "ptable = DataFrame(\n",
    "    Number       =   [1,   2,    6,    8,    26    ],\n",
    "    Name         =   [\"Hydrogen\",   \"Helium\",   \"Carbon\",   \"Oxygen\",   \"Iron\"   ],\n",
    "    AtomicWeight =   [1.0079,    4.0026,  12.0107, 15.9994, 55.845   ],\n",
    "    Symbol       =   [\"H\",    \"He\",    \"C\",    \"O\",  \"Fe\"  ],\n",
    "    Discovered   =   [1776,   1895,    0,    1774,    missing    ]\n",
    ")"
   ]
  },
  {
   "cell_type": "code",
   "execution_count": 63,
   "metadata": {},
   "outputs": [
    {
     "data": {
      "text/html": [
       "<table class=\"data-frame\"><thead><tr><th></th><th>variable</th><th>mean</th><th>min</th><th>median</th><th>max</th><th>nunique</th><th>nmissing</th><th>eltype</th></tr><tr><th></th><th>Symbol</th><th>Union…</th><th>Any</th><th>Union…</th><th>Any</th><th>Union…</th><th>Union…</th><th>DataType</th></tr></thead><tbody><p>5 rows × 8 columns</p><tr><th>1</th><td>Number</td><td>8.6</td><td>1</td><td>6.0</td><td>26</td><td></td><td></td><td>Int64</td></tr><tr><th>2</th><td>Name</td><td></td><td>Carbon</td><td></td><td>Oxygen</td><td>5</td><td></td><td>String</td></tr><tr><th>3</th><td>AtomicWeight</td><td>17.7731</td><td>1.0079</td><td>12.0107</td><td>55.845</td><td></td><td></td><td>Float64</td></tr><tr><th>4</th><td>Symbol</td><td></td><td>C</td><td></td><td>O</td><td>5</td><td></td><td>String</td></tr><tr><th>5</th><td>Discovered</td><td>1361.25</td><td>0</td><td>1775.0</td><td>1895</td><td></td><td>1</td><td>Int64</td></tr></tbody></table>"
      ],
      "text/latex": [
       "\\begin{tabular}{r|cccccccc}\n",
       "\t& variable & mean & min & median & max & nunique & nmissing & eltype\\\\\n",
       "\t\\hline\n",
       "\t& Symbol & Union… & Any & Union… & Any & Union… & Union… & DataType\\\\\n",
       "\t\\hline\n",
       "\t1 & Number & 8.6 & 1 & 6.0 & 26 &  &  & Int64 \\\\\n",
       "\t2 & Name &  & Carbon &  & Oxygen & 5 &  & String \\\\\n",
       "\t3 & AtomicWeight & 17.7731 & 1.0079 & 12.0107 & 55.845 &  &  & Float64 \\\\\n",
       "\t4 & Symbol &  & C &  & O & 5 &  & String \\\\\n",
       "\t5 & Discovered & 1361.25 & 0 & 1775.0 & 1895 &  & 1 & Int64 \\\\\n",
       "\\end{tabular}\n"
      ],
      "text/plain": [
       "5×8 DataFrame. Omitted printing of 2 columns\n",
       "│ Row │ variable     │ mean    │ min    │ median  │ max    │ nunique │\n",
       "│     │ \u001b[90mSymbol\u001b[39m       │ \u001b[90mUnion…\u001b[39m  │ \u001b[90mAny\u001b[39m    │ \u001b[90mUnion…\u001b[39m  │ \u001b[90mAny\u001b[39m    │ \u001b[90mUnion…\u001b[39m  │\n",
       "├─────┼──────────────┼─────────┼────────┼─────────┼────────┼─────────┤\n",
       "│ 1   │ Number       │ 8.6     │ 1      │ 6.0     │ 26     │         │\n",
       "│ 2   │ Name         │         │ Carbon │         │ Oxygen │ 5       │\n",
       "│ 3   │ AtomicWeight │ 17.7731 │ 1.0079 │ 12.0107 │ 55.845 │         │\n",
       "│ 4   │ Symbol       │         │ C      │         │ O      │ 5       │\n",
       "│ 5   │ Discovered   │ 1361.25 │ 0      │ 1775.0  │ 1895   │         │"
      ]
     },
     "execution_count": 63,
     "metadata": {},
     "output_type": "execute_result"
    }
   ],
   "source": [
    "describe(ptable)"
   ]
  },
  {
   "cell_type": "code",
   "execution_count": 64,
   "metadata": {},
   "outputs": [
    {
     "data": {
      "text/plain": [
       "17.77312"
      ]
     },
     "execution_count": 64,
     "metadata": {},
     "output_type": "execute_result"
    }
   ],
   "source": [
    "mean(ptable[:, :AtomicWeight])"
   ]
  },
  {
   "cell_type": "code",
   "execution_count": 65,
   "metadata": {},
   "outputs": [
    {
     "data": {
      "text/plain": [
       "missing"
      ]
     },
     "execution_count": 65,
     "metadata": {},
     "output_type": "execute_result"
    }
   ],
   "source": [
    "mean(ptable[:, :Discovered])"
   ]
  },
  {
   "cell_type": "code",
   "execution_count": 69,
   "metadata": {},
   "outputs": [
    {
     "name": "stdout",
     "output_type": "stream",
     "text": [
      "Discovered value for Iron is missing!\n"
     ]
    }
   ],
   "source": [
    "nrows, ncols = size(ptable)\n",
    "for row in 1:nrows\n",
    "    for col in 1:ncols\n",
    "        if ismissing(ptable[row,col])  # used to check for missing values\n",
    "            println(\"$(names(ptable)[col]) value for $(ptable[row,:Name]) is missing!\")\n",
    "        end\n",
    "    end\n",
    "end"
   ]
  },
  {
   "cell_type": "code",
   "execution_count": 70,
   "metadata": {},
   "outputs": [
    {
     "name": "stdout",
     "output_type": "stream",
     "text": [
      "the value is 1776\n",
      "the value is 1895\n",
      "the value is 0\n",
      "the value is 1774\n",
      "skipping missing values\n"
     ]
    }
   ],
   "source": [
    "for row in 1:nrows\n",
    "    if ismissing(ptable[row, :Discovered])\n",
    "        # cannot compare missing and int\n",
    "        println(\"skipping missing values\")\n",
    "    else\n",
    "        println(\"the value is $(ptable[row, :Discovered])\")\n",
    "    end\n",
    "end"
   ]
  },
  {
   "cell_type": "code",
   "execution_count": 82,
   "metadata": {},
   "outputs": [
    {
     "data": {
      "text/plain": [
       "2-element Array{Int64,1}:\n",
       " 3\n",
       " 5"
      ]
     },
     "execution_count": 82,
     "metadata": {},
     "output_type": "execute_result"
    }
   ],
   "source": [
    "findall(ismissing.(ptable[:, :Discovered]))"
   ]
  },
  {
   "cell_type": "code",
   "execution_count": 83,
   "metadata": {},
   "outputs": [
    {
     "data": {
      "text/html": [
       "<table class=\"data-frame\"><thead><tr><th></th><th>Number</th><th>Name</th><th>AtomicWeight</th><th>Symbol</th><th>Discovered</th></tr><tr><th></th><th>Int64</th><th>String</th><th>Float64</th><th>String</th><th>Int64⍰</th></tr></thead><tbody><p>2 rows × 5 columns</p><tr><th>1</th><td>6</td><td>Carbon</td><td>12.0107</td><td>C</td><td>missing</td></tr><tr><th>2</th><td>26</td><td>Iron</td><td>55.845</td><td>Fe</td><td>missing</td></tr></tbody></table>"
      ],
      "text/latex": [
       "\\begin{tabular}{r|ccccc}\n",
       "\t& Number & Name & AtomicWeight & Symbol & Discovered\\\\\n",
       "\t\\hline\n",
       "\t& Int64 & String & Float64 & String & Int64⍰\\\\\n",
       "\t\\hline\n",
       "\t1 & 6 & Carbon & 12.0107 & C &  \\\\\n",
       "\t2 & 26 & Iron & 55.845 & Fe &  \\\\\n",
       "\\end{tabular}\n"
      ],
      "text/plain": [
       "2×5 DataFrame\n",
       "│ Row │ Number │ Name   │ AtomicWeight │ Symbol │ Discovered │\n",
       "│     │ \u001b[90mInt64\u001b[39m  │ \u001b[90mString\u001b[39m │ \u001b[90mFloat64\u001b[39m      │ \u001b[90mString\u001b[39m │ \u001b[90mInt64⍰\u001b[39m     │\n",
       "├─────┼────────┼────────┼──────────────┼────────┼────────────┤\n",
       "│ 1   │ 6      │ Carbon │ 12.0107      │ C      │ \u001b[90mmissing\u001b[39m    │\n",
       "│ 2   │ 26     │ Iron   │ 55.845       │ Fe     │ \u001b[90mmissing\u001b[39m    │"
      ]
     },
     "execution_count": 83,
     "metadata": {},
     "output_type": "execute_result"
    }
   ],
   "source": [
    "ptable[findall(ismissing.(ptable[:, :Discovered])), :]"
   ]
  },
  {
   "cell_type": "code",
   "execution_count": 73,
   "metadata": {},
   "outputs": [
    {
     "data": {
      "text/plain": [
       "1-element view(::Array{Union{Missing, Int64},1}, [5]) with eltype Union{Missing, Int64}:\n",
       " 0"
      ]
     },
     "execution_count": 73,
     "metadata": {},
     "output_type": "execute_result"
    }
   ],
   "source": [
    "ptable[ismissing.(ptable[:, :Discovered]), :Discovered] .= 0"
   ]
  },
  {
   "cell_type": "code",
   "execution_count": 74,
   "metadata": {},
   "outputs": [
    {
     "data": {
      "text/html": [
       "<table class=\"data-frame\"><thead><tr><th></th><th>Number</th><th>Name</th><th>AtomicWeight</th><th>Symbol</th><th>Discovered</th></tr><tr><th></th><th>Int64</th><th>String</th><th>Float64</th><th>String</th><th>Int64⍰</th></tr></thead><tbody><p>5 rows × 5 columns</p><tr><th>1</th><td>1</td><td>Hydrogen</td><td>1.0079</td><td>H</td><td>1776</td></tr><tr><th>2</th><td>2</td><td>Helium</td><td>4.0026</td><td>He</td><td>1895</td></tr><tr><th>3</th><td>6</td><td>Carbon</td><td>12.0107</td><td>C</td><td>0</td></tr><tr><th>4</th><td>8</td><td>Oxygen</td><td>15.9994</td><td>O</td><td>1774</td></tr><tr><th>5</th><td>26</td><td>Iron</td><td>55.845</td><td>Fe</td><td>0</td></tr></tbody></table>"
      ],
      "text/latex": [
       "\\begin{tabular}{r|ccccc}\n",
       "\t& Number & Name & AtomicWeight & Symbol & Discovered\\\\\n",
       "\t\\hline\n",
       "\t& Int64 & String & Float64 & String & Int64⍰\\\\\n",
       "\t\\hline\n",
       "\t1 & 1 & Hydrogen & 1.0079 & H & 1776 \\\\\n",
       "\t2 & 2 & Helium & 4.0026 & He & 1895 \\\\\n",
       "\t3 & 6 & Carbon & 12.0107 & C & 0 \\\\\n",
       "\t4 & 8 & Oxygen & 15.9994 & O & 1774 \\\\\n",
       "\t5 & 26 & Iron & 55.845 & Fe & 0 \\\\\n",
       "\\end{tabular}\n"
      ],
      "text/plain": [
       "5×5 DataFrame\n",
       "│ Row │ Number │ Name     │ AtomicWeight │ Symbol │ Discovered │\n",
       "│     │ \u001b[90mInt64\u001b[39m  │ \u001b[90mString\u001b[39m   │ \u001b[90mFloat64\u001b[39m      │ \u001b[90mString\u001b[39m │ \u001b[90mInt64⍰\u001b[39m     │\n",
       "├─────┼────────┼──────────┼──────────────┼────────┼────────────┤\n",
       "│ 1   │ 1      │ Hydrogen │ 1.0079       │ H      │ 1776       │\n",
       "│ 2   │ 2      │ Helium   │ 4.0026       │ He     │ 1895       │\n",
       "│ 3   │ 6      │ Carbon   │ 12.0107      │ C      │ 0          │\n",
       "│ 4   │ 8      │ Oxygen   │ 15.9994      │ O      │ 1774       │\n",
       "│ 5   │ 26     │ Iron     │ 55.845       │ Fe     │ 0          │"
      ]
     },
     "execution_count": 74,
     "metadata": {},
     "output_type": "execute_result"
    }
   ],
   "source": [
    "ptable"
   ]
  },
  {
   "cell_type": "markdown",
   "metadata": {},
   "source": [
    "### Repairing DataFrames"
   ]
  },
  {
   "cell_type": "code",
   "execution_count": 75,
   "metadata": {},
   "outputs": [
    {
     "name": "stdout",
     "output_type": "stream",
     "text": [
      "processing row 1 column 1 \n",
      "processing row 1 column 2 \n",
      "processing row 1 column 3 \n",
      "processing row 1 column 4 \n",
      "processing row 1 column 5 \n",
      "processing row 2 column 1 \n",
      "processing row 2 column 2 \n",
      "processing row 2 column 3 \n",
      "processing row 2 column 4 \n",
      "processing row 2 column 5 \n",
      "processing row 3 column 1 \n",
      "processing row 3 column 2 \n",
      "processing row 3 column 3 \n",
      "processing row 3 column 4 \n",
      "processing row 3 column 5 \n",
      "changed row 3 column 5 \n",
      "processing row 4 column 1 \n",
      "processing row 4 column 2 \n",
      "processing row 4 column 3 \n",
      "processing row 4 column 4 \n",
      "processing row 4 column 5 \n",
      "processing row 5 column 1 \n",
      "processing row 5 column 2 \n",
      "processing row 5 column 3 \n",
      "processing row 5 column 4 \n",
      "processing row 5 column 5 \n",
      "changed row 5 column 5 \n"
     ]
    }
   ],
   "source": [
    "for row in 1:size(ptable, 1) # or nrow(ptable)\n",
    "   for col in 1:size(ptable, 2) # or ncol(ptable)\n",
    "       println(\"processing row $row column $col \")\n",
    "       temp = ptable[row,col]\n",
    "       if ismissing(temp)\n",
    "          println(\"skipping missing\")\n",
    "       elseif temp == \"n/a\" || temp == \"0\" || temp == 0\n",
    "          ptable[row, col] = missing\n",
    "          println(\"changed row $row column $col \")\n",
    "       end\n",
    "    end\n",
    "end"
   ]
  },
  {
   "cell_type": "code",
   "execution_count": 77,
   "metadata": {},
   "outputs": [
    {
     "data": {
      "text/html": [
       "<table class=\"data-frame\"><thead><tr><th></th><th>Number</th><th>Name</th><th>AtomicWeight</th><th>Symbol</th><th>Discovered</th></tr><tr><th></th><th>Int64</th><th>String</th><th>Float64</th><th>String</th><th>Int64⍰</th></tr></thead><tbody><p>5 rows × 5 columns</p><tr><th>1</th><td>1</td><td>Hydrogen</td><td>1.0079</td><td>H</td><td>1776</td></tr><tr><th>2</th><td>2</td><td>Helium</td><td>4.0026</td><td>He</td><td>1895</td></tr><tr><th>3</th><td>6</td><td>Carbon</td><td>12.0107</td><td>C</td><td>missing</td></tr><tr><th>4</th><td>8</td><td>Oxygen</td><td>15.9994</td><td>O</td><td>1774</td></tr><tr><th>5</th><td>26</td><td>Iron</td><td>55.845</td><td>Fe</td><td>missing</td></tr></tbody></table>"
      ],
      "text/latex": [
       "\\begin{tabular}{r|ccccc}\n",
       "\t& Number & Name & AtomicWeight & Symbol & Discovered\\\\\n",
       "\t\\hline\n",
       "\t& Int64 & String & Float64 & String & Int64⍰\\\\\n",
       "\t\\hline\n",
       "\t1 & 1 & Hydrogen & 1.0079 & H & 1776 \\\\\n",
       "\t2 & 2 & Helium & 4.0026 & He & 1895 \\\\\n",
       "\t3 & 6 & Carbon & 12.0107 & C &  \\\\\n",
       "\t4 & 8 & Oxygen & 15.9994 & O & 1774 \\\\\n",
       "\t5 & 26 & Iron & 55.845 & Fe &  \\\\\n",
       "\\end{tabular}\n"
      ],
      "text/plain": [
       "5×5 DataFrame\n",
       "│ Row │ Number │ Name     │ AtomicWeight │ Symbol │ Discovered │\n",
       "│     │ \u001b[90mInt64\u001b[39m  │ \u001b[90mString\u001b[39m   │ \u001b[90mFloat64\u001b[39m      │ \u001b[90mString\u001b[39m │ \u001b[90mInt64⍰\u001b[39m     │\n",
       "├─────┼────────┼──────────┼──────────────┼────────┼────────────┤\n",
       "│ 1   │ 1      │ Hydrogen │ 1.0079       │ H      │ 1776       │\n",
       "│ 2   │ 2      │ Helium   │ 4.0026       │ He     │ 1895       │\n",
       "│ 3   │ 6      │ Carbon   │ 12.0107      │ C      │ \u001b[90mmissing\u001b[39m    │\n",
       "│ 4   │ 8      │ Oxygen   │ 15.9994      │ O      │ 1774       │\n",
       "│ 5   │ 26     │ Iron     │ 55.845       │ Fe     │ \u001b[90mmissing\u001b[39m    │"
      ]
     },
     "execution_count": 77,
     "metadata": {},
     "output_type": "execute_result"
    }
   ],
   "source": [
    "ptable"
   ]
  },
  {
   "cell_type": "markdown",
   "metadata": {},
   "source": [
    "### Working with Missing Values\n",
    "\n",
    "`completecases()` and `dropmissing()`"
   ]
  },
  {
   "cell_type": "code",
   "execution_count": 78,
   "metadata": {},
   "outputs": [
    {
     "data": {
      "text/plain": [
       "1895"
      ]
     },
     "execution_count": 78,
     "metadata": {},
     "output_type": "execute_result"
    }
   ],
   "source": [
    "maximum(ptable[completecases(ptable), :Discovered])"
   ]
  },
  {
   "cell_type": "code",
   "execution_count": 79,
   "metadata": {},
   "outputs": [
    {
     "data": {
      "text/html": [
       "<table class=\"data-frame\"><thead><tr><th></th><th>Number</th><th>Name</th><th>AtomicWeight</th><th>Symbol</th><th>Discovered</th></tr><tr><th></th><th>Int64</th><th>String</th><th>Float64</th><th>String</th><th>Int64</th></tr></thead><tbody><p>3 rows × 5 columns</p><tr><th>1</th><td>1</td><td>Hydrogen</td><td>1.0079</td><td>H</td><td>1776</td></tr><tr><th>2</th><td>2</td><td>Helium</td><td>4.0026</td><td>He</td><td>1895</td></tr><tr><th>3</th><td>8</td><td>Oxygen</td><td>15.9994</td><td>O</td><td>1774</td></tr></tbody></table>"
      ],
      "text/latex": [
       "\\begin{tabular}{r|ccccc}\n",
       "\t& Number & Name & AtomicWeight & Symbol & Discovered\\\\\n",
       "\t\\hline\n",
       "\t& Int64 & String & Float64 & String & Int64\\\\\n",
       "\t\\hline\n",
       "\t1 & 1 & Hydrogen & 1.0079 & H & 1776 \\\\\n",
       "\t2 & 2 & Helium & 4.0026 & He & 1895 \\\\\n",
       "\t3 & 8 & Oxygen & 15.9994 & O & 1774 \\\\\n",
       "\\end{tabular}\n"
      ],
      "text/plain": [
       "3×5 DataFrame\n",
       "│ Row │ Number │ Name     │ AtomicWeight │ Symbol │ Discovered │\n",
       "│     │ \u001b[90mInt64\u001b[39m  │ \u001b[90mString\u001b[39m   │ \u001b[90mFloat64\u001b[39m      │ \u001b[90mString\u001b[39m │ \u001b[90mInt64\u001b[39m      │\n",
       "├─────┼────────┼──────────┼──────────────┼────────┼────────────┤\n",
       "│ 1   │ 1      │ Hydrogen │ 1.0079       │ H      │ 1776       │\n",
       "│ 2   │ 2      │ Helium   │ 4.0026       │ He     │ 1895       │\n",
       "│ 3   │ 8      │ Oxygen   │ 15.9994      │ O      │ 1774       │"
      ]
     },
     "execution_count": 79,
     "metadata": {},
     "output_type": "execute_result"
    }
   ],
   "source": [
    "dropmissing(ptable)"
   ]
  },
  {
   "cell_type": "markdown",
   "metadata": {},
   "source": [
    "### Modifying DataFrames"
   ]
  },
  {
   "cell_type": "code",
   "execution_count": 81,
   "metadata": {},
   "outputs": [
    {
     "data": {
      "text/html": [
       "<table class=\"data-frame\"><thead><tr><th></th><th>Number</th><th>Name</th><th>AtomicWeight</th><th>Symbol</th><th>Discovered</th><th>x1</th></tr><tr><th></th><th>Int64</th><th>String</th><th>Float64</th><th>String</th><th>Int64⍰</th><th>Int64</th></tr></thead><tbody><p>5 rows × 6 columns</p><tr><th>1</th><td>1</td><td>Hydrogen</td><td>1.0079</td><td>H</td><td>1776</td><td>1</td></tr><tr><th>2</th><td>2</td><td>Helium</td><td>4.0026</td><td>He</td><td>1895</td><td>2</td></tr><tr><th>3</th><td>6</td><td>Carbon</td><td>12.0107</td><td>C</td><td>missing</td><td>3</td></tr><tr><th>4</th><td>8</td><td>Oxygen</td><td>15.9994</td><td>O</td><td>1774</td><td>4</td></tr><tr><th>5</th><td>26</td><td>Iron</td><td>55.845</td><td>Fe</td><td>missing</td><td>5</td></tr></tbody></table>"
      ],
      "text/latex": [
       "\\begin{tabular}{r|cccccc}\n",
       "\t& Number & Name & AtomicWeight & Symbol & Discovered & x1\\\\\n",
       "\t\\hline\n",
       "\t& Int64 & String & Float64 & String & Int64⍰ & Int64\\\\\n",
       "\t\\hline\n",
       "\t1 & 1 & Hydrogen & 1.0079 & H & 1776 & 1 \\\\\n",
       "\t2 & 2 & Helium & 4.0026 & He & 1895 & 2 \\\\\n",
       "\t3 & 6 & Carbon & 12.0107 & C &  & 3 \\\\\n",
       "\t4 & 8 & Oxygen & 15.9994 & O & 1774 & 4 \\\\\n",
       "\t5 & 26 & Iron & 55.845 & Fe &  & 5 \\\\\n",
       "\\end{tabular}\n"
      ],
      "text/plain": [
       "5×6 DataFrame\n",
       "│ Row │ Number │ Name     │ AtomicWeight │ Symbol │ Discovered │ x1    │\n",
       "│     │ \u001b[90mInt64\u001b[39m  │ \u001b[90mString\u001b[39m   │ \u001b[90mFloat64\u001b[39m      │ \u001b[90mString\u001b[39m │ \u001b[90mInt64⍰\u001b[39m     │ \u001b[90mInt64\u001b[39m │\n",
       "├─────┼────────┼──────────┼──────────────┼────────┼────────────┼───────┤\n",
       "│ 1   │ 1      │ Hydrogen │ 1.0079       │ H      │ 1776       │ 1     │\n",
       "│ 2   │ 2      │ Helium   │ 4.0026       │ He     │ 1895       │ 2     │\n",
       "│ 3   │ 6      │ Carbon   │ 12.0107      │ C      │ \u001b[90mmissing\u001b[39m    │ 3     │\n",
       "│ 4   │ 8      │ Oxygen   │ 15.9994      │ O      │ 1774       │ 4     │\n",
       "│ 5   │ 26     │ Iron     │ 55.845       │ Fe     │ \u001b[90mmissing\u001b[39m    │ 5     │"
      ]
     },
     "execution_count": 81,
     "metadata": {},
     "output_type": "execute_result"
    }
   ],
   "source": [
    "hcat(ptable, axes(ptable, 1))"
   ]
  },
  {
   "cell_type": "code",
   "execution_count": 84,
   "metadata": {},
   "outputs": [
    {
     "data": {
      "text/html": [
       "<table class=\"data-frame\"><thead><tr><th></th><th>Number</th><th>Name</th><th>AtomicWeight</th><th>Symbol</th><th>Discovered</th><th>MP</th><th>BP</th></tr><tr><th></th><th>Int64</th><th>String</th><th>Float64</th><th>String</th><th>Int64⍰</th><th>Int64</th><th>Int64</th></tr></thead><tbody><p>5 rows × 7 columns</p><tr><th>1</th><td>1</td><td>Hydrogen</td><td>1.0079</td><td>H</td><td>1776</td><td>-259</td><td>-253</td></tr><tr><th>2</th><td>2</td><td>Helium</td><td>4.0026</td><td>He</td><td>1895</td><td>-272</td><td>-269</td></tr><tr><th>3</th><td>6</td><td>Carbon</td><td>12.0107</td><td>C</td><td>missing</td><td>3500</td><td>4827</td></tr><tr><th>4</th><td>8</td><td>Oxygen</td><td>15.9994</td><td>O</td><td>1774</td><td>-218</td><td>-183</td></tr><tr><th>5</th><td>26</td><td>Iron</td><td>55.845</td><td>Fe</td><td>missing</td><td>1535</td><td>2750</td></tr></tbody></table>"
      ],
      "text/latex": [
       "\\begin{tabular}{r|ccccccc}\n",
       "\t& Number & Name & AtomicWeight & Symbol & Discovered & MP & BP\\\\\n",
       "\t\\hline\n",
       "\t& Int64 & String & Float64 & String & Int64⍰ & Int64 & Int64\\\\\n",
       "\t\\hline\n",
       "\t1 & 1 & Hydrogen & 1.0079 & H & 1776 & -259 & -253 \\\\\n",
       "\t2 & 2 & Helium & 4.0026 & He & 1895 & -272 & -269 \\\\\n",
       "\t3 & 6 & Carbon & 12.0107 & C &  & 3500 & 4827 \\\\\n",
       "\t4 & 8 & Oxygen & 15.9994 & O & 1774 & -218 & -183 \\\\\n",
       "\t5 & 26 & Iron & 55.845 & Fe &  & 1535 & 2750 \\\\\n",
       "\\end{tabular}\n"
      ],
      "text/plain": [
       "5×7 DataFrame\n",
       "│ Row │ Number │ Name     │ AtomicWeight │ Symbol │ Discovered │ MP    │ BP    │\n",
       "│     │ \u001b[90mInt64\u001b[39m  │ \u001b[90mString\u001b[39m   │ \u001b[90mFloat64\u001b[39m      │ \u001b[90mString\u001b[39m │ \u001b[90mInt64⍰\u001b[39m     │ \u001b[90mInt64\u001b[39m │ \u001b[90mInt64\u001b[39m │\n",
       "├─────┼────────┼──────────┼──────────────┼────────┼────────────┼───────┼───────┤\n",
       "│ 1   │ 1      │ Hydrogen │ 1.0079       │ H      │ 1776       │ -259  │ -253  │\n",
       "│ 2   │ 2      │ Helium   │ 4.0026       │ He     │ 1895       │ -272  │ -269  │\n",
       "│ 3   │ 6      │ Carbon   │ 12.0107      │ C      │ \u001b[90mmissing\u001b[39m    │ 3500  │ 4827  │\n",
       "│ 4   │ 8      │ Oxygen   │ 15.9994      │ O      │ 1774       │ -218  │ -183  │\n",
       "│ 5   │ 26     │ Iron     │ 55.845       │ Fe     │ \u001b[90mmissing\u001b[39m    │ 1535  │ 2750  │"
      ]
     },
     "execution_count": 84,
     "metadata": {},
     "output_type": "execute_result"
    }
   ],
   "source": [
    "ptable[!, :MP] = [-259, -272, 3500, -218, 1535] # notice the !\n",
    "ptable[!, :BP] = [-253, -269, 4827, -183, 2750]\n",
    "ptable"
   ]
  },
  {
   "cell_type": "code",
   "execution_count": 85,
   "metadata": {},
   "outputs": [],
   "source": [
    "# ptable[:, :MP] is a read-only view\n",
    "# ptable[!, :MP] is a writeable view"
   ]
  },
  {
   "cell_type": "code",
   "execution_count": 86,
   "metadata": {},
   "outputs": [
    {
     "data": {
      "text/plain": [
       "5-element Array{Int64,1}:\n",
       "    6\n",
       "    3\n",
       " 1327\n",
       "   35\n",
       " 1215"
      ]
     },
     "execution_count": 86,
     "metadata": {},
     "output_type": "execute_result"
    }
   ],
   "source": [
    "ptable[!, :Liquid] = map((x, y) -> y - x, ptable[:, :MP], ptable[:, :BP])\n"
   ]
  },
  {
   "cell_type": "code",
   "execution_count": 87,
   "metadata": {},
   "outputs": [
    {
     "data": {
      "text/html": [
       "<table class=\"data-frame\"><thead><tr><th></th><th>Number</th><th>Name</th><th>AtomicWeight</th><th>Symbol</th><th>Discovered</th><th>MP</th><th>BP</th><th>Liquid</th></tr><tr><th></th><th>Int64</th><th>String</th><th>Float64</th><th>String</th><th>Int64⍰</th><th>Int64</th><th>Int64</th><th>Int64</th></tr></thead><tbody><p>5 rows × 8 columns</p><tr><th>1</th><td>1</td><td>Hydrogen</td><td>1.0079</td><td>H</td><td>1776</td><td>-259</td><td>-253</td><td>6</td></tr><tr><th>2</th><td>2</td><td>Helium</td><td>4.0026</td><td>He</td><td>1895</td><td>-272</td><td>-269</td><td>3</td></tr><tr><th>3</th><td>6</td><td>Carbon</td><td>12.0107</td><td>C</td><td>missing</td><td>3500</td><td>4827</td><td>1327</td></tr><tr><th>4</th><td>8</td><td>Oxygen</td><td>15.9994</td><td>O</td><td>1774</td><td>-218</td><td>-183</td><td>35</td></tr><tr><th>5</th><td>26</td><td>Iron</td><td>55.845</td><td>Fe</td><td>missing</td><td>1535</td><td>2750</td><td>1215</td></tr></tbody></table>"
      ],
      "text/latex": [
       "\\begin{tabular}{r|cccccccc}\n",
       "\t& Number & Name & AtomicWeight & Symbol & Discovered & MP & BP & Liquid\\\\\n",
       "\t\\hline\n",
       "\t& Int64 & String & Float64 & String & Int64⍰ & Int64 & Int64 & Int64\\\\\n",
       "\t\\hline\n",
       "\t1 & 1 & Hydrogen & 1.0079 & H & 1776 & -259 & -253 & 6 \\\\\n",
       "\t2 & 2 & Helium & 4.0026 & He & 1895 & -272 & -269 & 3 \\\\\n",
       "\t3 & 6 & Carbon & 12.0107 & C &  & 3500 & 4827 & 1327 \\\\\n",
       "\t4 & 8 & Oxygen & 15.9994 & O & 1774 & -218 & -183 & 35 \\\\\n",
       "\t5 & 26 & Iron & 55.845 & Fe &  & 1535 & 2750 & 1215 \\\\\n",
       "\\end{tabular}\n"
      ],
      "text/plain": [
       "5×8 DataFrame. Omitted printing of 1 columns\n",
       "│ Row │ Number │ Name     │ AtomicWeight │ Symbol │ Discovered │ MP    │ BP    │\n",
       "│     │ \u001b[90mInt64\u001b[39m  │ \u001b[90mString\u001b[39m   │ \u001b[90mFloat64\u001b[39m      │ \u001b[90mString\u001b[39m │ \u001b[90mInt64⍰\u001b[39m     │ \u001b[90mInt64\u001b[39m │ \u001b[90mInt64\u001b[39m │\n",
       "├─────┼────────┼──────────┼──────────────┼────────┼────────────┼───────┼───────┤\n",
       "│ 1   │ 1      │ Hydrogen │ 1.0079       │ H      │ 1776       │ -259  │ -253  │\n",
       "│ 2   │ 2      │ Helium   │ 4.0026       │ He     │ 1895       │ -272  │ -269  │\n",
       "│ 3   │ 6      │ Carbon   │ 12.0107      │ C      │ \u001b[90mmissing\u001b[39m    │ 3500  │ 4827  │\n",
       "│ 4   │ 8      │ Oxygen   │ 15.9994      │ O      │ 1774       │ -218  │ -183  │\n",
       "│ 5   │ 26     │ Iron     │ 55.845       │ Fe     │ \u001b[90mmissing\u001b[39m    │ 1535  │ 2750  │"
      ]
     },
     "execution_count": 87,
     "metadata": {},
     "output_type": "execute_result"
    }
   ],
   "source": [
    "ptable"
   ]
  },
  {
   "cell_type": "code",
   "execution_count": 88,
   "metadata": {},
   "outputs": [
    {
     "data": {
      "text/plain": [
       "5-element Array{Float64,1}:\n",
       "     6.0474\n",
       "    12.0078\n",
       " 15938.1989\n",
       "   559.979 \n",
       " 67851.675 "
      ]
     },
     "execution_count": 88,
     "metadata": {},
     "output_type": "execute_result"
    }
   ],
   "source": [
    "ptable[!, :Temp] = map((x, y) -> y * x, ptable[:, :Liquid], ptable[:, :AtomicWeight])"
   ]
  },
  {
   "cell_type": "code",
   "execution_count": 89,
   "metadata": {},
   "outputs": [
    {
     "data": {
      "text/html": [
       "<table class=\"data-frame\"><thead><tr><th></th><th>Number</th><th>Name</th><th>AtomicWeight</th><th>Symbol</th><th>Discovered</th><th>MP</th><th>BP</th><th>Liquid</th><th>Temp</th></tr><tr><th></th><th>Int64</th><th>String</th><th>Float64</th><th>String</th><th>Int64⍰</th><th>Int64</th><th>Int64</th><th>Int64</th><th>Float64</th></tr></thead><tbody><p>5 rows × 9 columns</p><tr><th>1</th><td>1</td><td>Hydrogen</td><td>1.0079</td><td>H</td><td>1776</td><td>-259</td><td>-253</td><td>6</td><td>6.0474</td></tr><tr><th>2</th><td>2</td><td>Helium</td><td>4.0026</td><td>He</td><td>1895</td><td>-272</td><td>-269</td><td>3</td><td>12.0078</td></tr><tr><th>3</th><td>6</td><td>Carbon</td><td>12.0107</td><td>C</td><td>missing</td><td>3500</td><td>4827</td><td>1327</td><td>15938.2</td></tr><tr><th>4</th><td>8</td><td>Oxygen</td><td>15.9994</td><td>O</td><td>1774</td><td>-218</td><td>-183</td><td>35</td><td>559.979</td></tr><tr><th>5</th><td>26</td><td>Iron</td><td>55.845</td><td>Fe</td><td>missing</td><td>1535</td><td>2750</td><td>1215</td><td>67851.7</td></tr></tbody></table>"
      ],
      "text/latex": [
       "\\begin{tabular}{r|ccccccccc}\n",
       "\t& Number & Name & AtomicWeight & Symbol & Discovered & MP & BP & Liquid & Temp\\\\\n",
       "\t\\hline\n",
       "\t& Int64 & String & Float64 & String & Int64⍰ & Int64 & Int64 & Int64 & Float64\\\\\n",
       "\t\\hline\n",
       "\t1 & 1 & Hydrogen & 1.0079 & H & 1776 & -259 & -253 & 6 & 6.0474 \\\\\n",
       "\t2 & 2 & Helium & 4.0026 & He & 1895 & -272 & -269 & 3 & 12.0078 \\\\\n",
       "\t3 & 6 & Carbon & 12.0107 & C &  & 3500 & 4827 & 1327 & 15938.2 \\\\\n",
       "\t4 & 8 & Oxygen & 15.9994 & O & 1774 & -218 & -183 & 35 & 559.979 \\\\\n",
       "\t5 & 26 & Iron & 55.845 & Fe &  & 1535 & 2750 & 1215 & 67851.7 \\\\\n",
       "\\end{tabular}\n"
      ],
      "text/plain": [
       "5×9 DataFrame. Omitted printing of 2 columns\n",
       "│ Row │ Number │ Name     │ AtomicWeight │ Symbol │ Discovered │ MP    │ BP    │\n",
       "│     │ \u001b[90mInt64\u001b[39m  │ \u001b[90mString\u001b[39m   │ \u001b[90mFloat64\u001b[39m      │ \u001b[90mString\u001b[39m │ \u001b[90mInt64⍰\u001b[39m     │ \u001b[90mInt64\u001b[39m │ \u001b[90mInt64\u001b[39m │\n",
       "├─────┼────────┼──────────┼──────────────┼────────┼────────────┼───────┼───────┤\n",
       "│ 1   │ 1      │ Hydrogen │ 1.0079       │ H      │ 1776       │ -259  │ -253  │\n",
       "│ 2   │ 2      │ Helium   │ 4.0026       │ He     │ 1895       │ -272  │ -269  │\n",
       "│ 3   │ 6      │ Carbon   │ 12.0107      │ C      │ \u001b[90mmissing\u001b[39m    │ 3500  │ 4827  │\n",
       "│ 4   │ 8      │ Oxygen   │ 15.9994      │ O      │ 1774       │ -218  │ -183  │\n",
       "│ 5   │ 26     │ Iron     │ 55.845       │ Fe     │ \u001b[90mmissing\u001b[39m    │ 1535  │ 2750  │"
      ]
     },
     "execution_count": 89,
     "metadata": {},
     "output_type": "execute_result"
    }
   ],
   "source": [
    "ptable"
   ]
  },
  {
   "cell_type": "code",
   "execution_count": 91,
   "metadata": {},
   "outputs": [
    {
     "data": {
      "text/html": [
       "<table class=\"data-frame\"><thead><tr><th></th><th>Number</th><th>Name</th><th>AtomicWeight</th><th>Symbol</th><th>Discovered</th><th>MP</th><th>BP</th><th>Liquid</th><th>Temp</th></tr><tr><th></th><th>Int64</th><th>String</th><th>Float64</th><th>String</th><th>Int64⍰</th><th>Int64</th><th>Int64</th><th>Int64</th><th>Float64</th></tr></thead><tbody><p>5 rows × 10 columns (omitted printing of 1 columns)</p><tr><th>1</th><td>1</td><td>Hydrogen</td><td>1.0079</td><td>H</td><td>1776</td><td>-259</td><td>-253</td><td>6</td><td>6.0474</td></tr><tr><th>2</th><td>2</td><td>Helium</td><td>4.0026</td><td>He</td><td>1895</td><td>-272</td><td>-269</td><td>3</td><td>12.0078</td></tr><tr><th>3</th><td>6</td><td>Carbon</td><td>12.0107</td><td>C</td><td>missing</td><td>3500</td><td>4827</td><td>1327</td><td>15938.2</td></tr><tr><th>4</th><td>8</td><td>Oxygen</td><td>15.9994</td><td>O</td><td>1774</td><td>-218</td><td>-183</td><td>35</td><td>559.979</td></tr><tr><th>5</th><td>26</td><td>Iron</td><td>55.845</td><td>Fe</td><td>missing</td><td>1535</td><td>2750</td><td>1215</td><td>67851.7</td></tr></tbody></table>"
      ],
      "text/latex": [
       "\\begin{tabular}{r|cccccccccc}\n",
       "\t& Number & Name & AtomicWeight & Symbol & Discovered & MP & BP & Liquid & Temp & \\\\\n",
       "\t\\hline\n",
       "\t& Int64 & String & Float64 & String & Int64⍰ & Int64 & Int64 & Int64 & Float64 & \\\\\n",
       "\t\\hline\n",
       "\t1 & 1 & Hydrogen & 1.0079 & H & 1776 & -259 & -253 & 6 & 6.0474 & $\\dots$ \\\\\n",
       "\t2 & 2 & Helium & 4.0026 & He & 1895 & -272 & -269 & 3 & 12.0078 & $\\dots$ \\\\\n",
       "\t3 & 6 & Carbon & 12.0107 & C &  & 3500 & 4827 & 1327 & 15938.2 & $\\dots$ \\\\\n",
       "\t4 & 8 & Oxygen & 15.9994 & O & 1774 & -218 & -183 & 35 & 559.979 & $\\dots$ \\\\\n",
       "\t5 & 26 & Iron & 55.845 & Fe &  & 1535 & 2750 & 1215 & 67851.7 & $\\dots$ \\\\\n",
       "\\end{tabular}\n"
      ],
      "text/plain": [
       "5×10 DataFrame. Omitted printing of 3 columns\n",
       "│ Row │ Number │ Name     │ AtomicWeight │ Symbol │ Discovered │ MP    │ BP    │\n",
       "│     │ \u001b[90mInt64\u001b[39m  │ \u001b[90mString\u001b[39m   │ \u001b[90mFloat64\u001b[39m      │ \u001b[90mString\u001b[39m │ \u001b[90mInt64⍰\u001b[39m     │ \u001b[90mInt64\u001b[39m │ \u001b[90mInt64\u001b[39m │\n",
       "├─────┼────────┼──────────┼──────────────┼────────┼────────────┼───────┼───────┤\n",
       "│ 1   │ 1      │ Hydrogen │ 1.0079       │ H      │ 1776       │ -259  │ -253  │\n",
       "│ 2   │ 2      │ Helium   │ 4.0026       │ He     │ 1895       │ -272  │ -269  │\n",
       "│ 3   │ 6      │ Carbon   │ 12.0107      │ C      │ \u001b[90mmissing\u001b[39m    │ 3500  │ 4827  │\n",
       "│ 4   │ 8      │ Oxygen   │ 15.9994      │ O      │ 1774       │ -218  │ -183  │\n",
       "│ 5   │ 26     │ Iron     │ 55.845       │ Fe     │ \u001b[90mmissing\u001b[39m    │ 1535  │ 2750  │"
      ]
     },
     "execution_count": 91,
     "metadata": {},
     "output_type": "execute_result"
    }
   ],
   "source": [
    "ptable[!, :MP_in_F] = map(deg -> 32 + (deg * 1.8), ptable[:, :MP])\n",
    "ptable"
   ]
  },
  {
   "cell_type": "code",
   "execution_count": 92,
   "metadata": {},
   "outputs": [
    {
     "data": {
      "text/html": [
       "<table class=\"data-frame\"><thead><tr><th></th><th>Number</th><th>Name</th><th>AtomicWeight</th><th>Symbol</th><th>Discovered</th><th>MP</th><th>BP</th><th>Liquid</th><th>Junk</th></tr><tr><th></th><th>Int64</th><th>String</th><th>Float64</th><th>String</th><th>Int64⍰</th><th>Int64</th><th>Int64</th><th>Int64</th><th>Float64</th></tr></thead><tbody><p>5 rows × 10 columns (omitted printing of 1 columns)</p><tr><th>1</th><td>1</td><td>Hydrogen</td><td>1.0079</td><td>H</td><td>1776</td><td>-259</td><td>-253</td><td>6</td><td>6.0474</td></tr><tr><th>2</th><td>2</td><td>Helium</td><td>4.0026</td><td>He</td><td>1895</td><td>-272</td><td>-269</td><td>3</td><td>12.0078</td></tr><tr><th>3</th><td>6</td><td>Carbon</td><td>12.0107</td><td>C</td><td>missing</td><td>3500</td><td>4827</td><td>1327</td><td>15938.2</td></tr><tr><th>4</th><td>8</td><td>Oxygen</td><td>15.9994</td><td>O</td><td>1774</td><td>-218</td><td>-183</td><td>35</td><td>559.979</td></tr><tr><th>5</th><td>26</td><td>Iron</td><td>55.845</td><td>Fe</td><td>missing</td><td>1535</td><td>2750</td><td>1215</td><td>67851.7</td></tr></tbody></table>"
      ],
      "text/latex": [
       "\\begin{tabular}{r|cccccccccc}\n",
       "\t& Number & Name & AtomicWeight & Symbol & Discovered & MP & BP & Liquid & Junk & \\\\\n",
       "\t\\hline\n",
       "\t& Int64 & String & Float64 & String & Int64⍰ & Int64 & Int64 & Int64 & Float64 & \\\\\n",
       "\t\\hline\n",
       "\t1 & 1 & Hydrogen & 1.0079 & H & 1776 & -259 & -253 & 6 & 6.0474 & $\\dots$ \\\\\n",
       "\t2 & 2 & Helium & 4.0026 & He & 1895 & -272 & -269 & 3 & 12.0078 & $\\dots$ \\\\\n",
       "\t3 & 6 & Carbon & 12.0107 & C &  & 3500 & 4827 & 1327 & 15938.2 & $\\dots$ \\\\\n",
       "\t4 & 8 & Oxygen & 15.9994 & O & 1774 & -218 & -183 & 35 & 559.979 & $\\dots$ \\\\\n",
       "\t5 & 26 & Iron & 55.845 & Fe &  & 1535 & 2750 & 1215 & 67851.7 & $\\dots$ \\\\\n",
       "\\end{tabular}\n"
      ],
      "text/plain": [
       "5×10 DataFrame. Omitted printing of 3 columns\n",
       "│ Row │ Number │ Name     │ AtomicWeight │ Symbol │ Discovered │ MP    │ BP    │\n",
       "│     │ \u001b[90mInt64\u001b[39m  │ \u001b[90mString\u001b[39m   │ \u001b[90mFloat64\u001b[39m      │ \u001b[90mString\u001b[39m │ \u001b[90mInt64⍰\u001b[39m     │ \u001b[90mInt64\u001b[39m │ \u001b[90mInt64\u001b[39m │\n",
       "├─────┼────────┼──────────┼──────────────┼────────┼────────────┼───────┼───────┤\n",
       "│ 1   │ 1      │ Hydrogen │ 1.0079       │ H      │ 1776       │ -259  │ -253  │\n",
       "│ 2   │ 2      │ Helium   │ 4.0026       │ He     │ 1895       │ -272  │ -269  │\n",
       "│ 3   │ 6      │ Carbon   │ 12.0107      │ C      │ \u001b[90mmissing\u001b[39m    │ 3500  │ 4827  │\n",
       "│ 4   │ 8      │ Oxygen   │ 15.9994      │ O      │ 1774       │ -218  │ -183  │\n",
       "│ 5   │ 26     │ Iron     │ 55.845       │ Fe     │ \u001b[90mmissing\u001b[39m    │ 1535  │ 2750  │"
      ]
     },
     "execution_count": 92,
     "metadata": {},
     "output_type": "execute_result"
    }
   ],
   "source": [
    "rename!(ptable, :Temp => :Junk)"
   ]
  },
  {
   "cell_type": "code",
   "execution_count": 93,
   "metadata": {},
   "outputs": [
    {
     "data": {
      "text/html": [
       "<table class=\"data-frame\"><thead><tr><th></th><th>Number</th><th>Name</th><th>AtomicWeight</th><th>Symbol</th><th>Discovered</th><th>Melt</th><th>Boil</th><th>Liquid</th><th>Junk</th></tr><tr><th></th><th>Int64</th><th>String</th><th>Float64</th><th>String</th><th>Int64⍰</th><th>Int64</th><th>Int64</th><th>Int64</th><th>Float64</th></tr></thead><tbody><p>5 rows × 10 columns (omitted printing of 1 columns)</p><tr><th>1</th><td>1</td><td>Hydrogen</td><td>1.0079</td><td>H</td><td>1776</td><td>-259</td><td>-253</td><td>6</td><td>6.0474</td></tr><tr><th>2</th><td>2</td><td>Helium</td><td>4.0026</td><td>He</td><td>1895</td><td>-272</td><td>-269</td><td>3</td><td>12.0078</td></tr><tr><th>3</th><td>6</td><td>Carbon</td><td>12.0107</td><td>C</td><td>missing</td><td>3500</td><td>4827</td><td>1327</td><td>15938.2</td></tr><tr><th>4</th><td>8</td><td>Oxygen</td><td>15.9994</td><td>O</td><td>1774</td><td>-218</td><td>-183</td><td>35</td><td>559.979</td></tr><tr><th>5</th><td>26</td><td>Iron</td><td>55.845</td><td>Fe</td><td>missing</td><td>1535</td><td>2750</td><td>1215</td><td>67851.7</td></tr></tbody></table>"
      ],
      "text/latex": [
       "\\begin{tabular}{r|cccccccccc}\n",
       "\t& Number & Name & AtomicWeight & Symbol & Discovered & Melt & Boil & Liquid & Junk & \\\\\n",
       "\t\\hline\n",
       "\t& Int64 & String & Float64 & String & Int64⍰ & Int64 & Int64 & Int64 & Float64 & \\\\\n",
       "\t\\hline\n",
       "\t1 & 1 & Hydrogen & 1.0079 & H & 1776 & -259 & -253 & 6 & 6.0474 & $\\dots$ \\\\\n",
       "\t2 & 2 & Helium & 4.0026 & He & 1895 & -272 & -269 & 3 & 12.0078 & $\\dots$ \\\\\n",
       "\t3 & 6 & Carbon & 12.0107 & C &  & 3500 & 4827 & 1327 & 15938.2 & $\\dots$ \\\\\n",
       "\t4 & 8 & Oxygen & 15.9994 & O & 1774 & -218 & -183 & 35 & 559.979 & $\\dots$ \\\\\n",
       "\t5 & 26 & Iron & 55.845 & Fe &  & 1535 & 2750 & 1215 & 67851.7 & $\\dots$ \\\\\n",
       "\\end{tabular}\n"
      ],
      "text/plain": [
       "5×10 DataFrame. Omitted printing of 3 columns\n",
       "│ Row │ Number │ Name     │ AtomicWeight │ Symbol │ Discovered │ Melt  │ Boil  │\n",
       "│     │ \u001b[90mInt64\u001b[39m  │ \u001b[90mString\u001b[39m   │ \u001b[90mFloat64\u001b[39m      │ \u001b[90mString\u001b[39m │ \u001b[90mInt64⍰\u001b[39m     │ \u001b[90mInt64\u001b[39m │ \u001b[90mInt64\u001b[39m │\n",
       "├─────┼────────┼──────────┼──────────────┼────────┼────────────┼───────┼───────┤\n",
       "│ 1   │ 1      │ Hydrogen │ 1.0079       │ H      │ 1776       │ -259  │ -253  │\n",
       "│ 2   │ 2      │ Helium   │ 4.0026       │ He     │ 1895       │ -272  │ -269  │\n",
       "│ 3   │ 6      │ Carbon   │ 12.0107      │ C      │ \u001b[90mmissing\u001b[39m    │ 3500  │ 4827  │\n",
       "│ 4   │ 8      │ Oxygen   │ 15.9994      │ O      │ 1774       │ -218  │ -183  │\n",
       "│ 5   │ 26     │ Iron     │ 55.845       │ Fe     │ \u001b[90mmissing\u001b[39m    │ 1535  │ 2750  │"
      ]
     },
     "execution_count": 93,
     "metadata": {},
     "output_type": "execute_result"
    }
   ],
   "source": [
    "rename!(ptable, f => t for (f, t) = zip([:MP, :BP], [:Melt, :Boil]))"
   ]
  },
  {
   "cell_type": "code",
   "execution_count": 94,
   "metadata": {},
   "outputs": [
    {
     "data": {
      "text/html": [
       "<table class=\"data-frame\"><thead><tr><th></th><th>Number</th><th>Name</th><th>AtomicWeight</th><th>Symbol</th><th>Discovered</th><th>Melt</th><th>Boil</th><th>Liquid</th><th>MP_in_F</th></tr><tr><th></th><th>Int64</th><th>String</th><th>Float64</th><th>String</th><th>Int64⍰</th><th>Int64</th><th>Int64</th><th>Int64</th><th>Float64</th></tr></thead><tbody><p>5 rows × 9 columns</p><tr><th>1</th><td>1</td><td>Hydrogen</td><td>1.0079</td><td>H</td><td>1776</td><td>-259</td><td>-253</td><td>6</td><td>-434.2</td></tr><tr><th>2</th><td>2</td><td>Helium</td><td>4.0026</td><td>He</td><td>1895</td><td>-272</td><td>-269</td><td>3</td><td>-457.6</td></tr><tr><th>3</th><td>6</td><td>Carbon</td><td>12.0107</td><td>C</td><td>missing</td><td>3500</td><td>4827</td><td>1327</td><td>6332.0</td></tr><tr><th>4</th><td>8</td><td>Oxygen</td><td>15.9994</td><td>O</td><td>1774</td><td>-218</td><td>-183</td><td>35</td><td>-360.4</td></tr><tr><th>5</th><td>26</td><td>Iron</td><td>55.845</td><td>Fe</td><td>missing</td><td>1535</td><td>2750</td><td>1215</td><td>2795.0</td></tr></tbody></table>"
      ],
      "text/latex": [
       "\\begin{tabular}{r|ccccccccc}\n",
       "\t& Number & Name & AtomicWeight & Symbol & Discovered & Melt & Boil & Liquid & MP\\_in\\_F\\\\\n",
       "\t\\hline\n",
       "\t& Int64 & String & Float64 & String & Int64⍰ & Int64 & Int64 & Int64 & Float64\\\\\n",
       "\t\\hline\n",
       "\t1 & 1 & Hydrogen & 1.0079 & H & 1776 & -259 & -253 & 6 & -434.2 \\\\\n",
       "\t2 & 2 & Helium & 4.0026 & He & 1895 & -272 & -269 & 3 & -457.6 \\\\\n",
       "\t3 & 6 & Carbon & 12.0107 & C &  & 3500 & 4827 & 1327 & 6332.0 \\\\\n",
       "\t4 & 8 & Oxygen & 15.9994 & O & 1774 & -218 & -183 & 35 & -360.4 \\\\\n",
       "\t5 & 26 & Iron & 55.845 & Fe &  & 1535 & 2750 & 1215 & 2795.0 \\\\\n",
       "\\end{tabular}\n"
      ],
      "text/plain": [
       "5×9 DataFrame. Omitted printing of 2 columns\n",
       "│ Row │ Number │ Name     │ AtomicWeight │ Symbol │ Discovered │ Melt  │ Boil  │\n",
       "│     │ \u001b[90mInt64\u001b[39m  │ \u001b[90mString\u001b[39m   │ \u001b[90mFloat64\u001b[39m      │ \u001b[90mString\u001b[39m │ \u001b[90mInt64⍰\u001b[39m     │ \u001b[90mInt64\u001b[39m │ \u001b[90mInt64\u001b[39m │\n",
       "├─────┼────────┼──────────┼──────────────┼────────┼────────────┼───────┼───────┤\n",
       "│ 1   │ 1      │ Hydrogen │ 1.0079       │ H      │ 1776       │ -259  │ -253  │\n",
       "│ 2   │ 2      │ Helium   │ 4.0026       │ He     │ 1895       │ -272  │ -269  │\n",
       "│ 3   │ 6      │ Carbon   │ 12.0107      │ C      │ \u001b[90mmissing\u001b[39m    │ 3500  │ 4827  │\n",
       "│ 4   │ 8      │ Oxygen   │ 15.9994      │ O      │ 1774       │ -218  │ -183  │\n",
       "│ 5   │ 26     │ Iron     │ 55.845       │ Fe     │ \u001b[90mmissing\u001b[39m    │ 1535  │ 2750  │"
      ]
     },
     "execution_count": 94,
     "metadata": {},
     "output_type": "execute_result"
    }
   ],
   "source": [
    "select!(ptable, Not(:Junk))"
   ]
  },
  {
   "cell_type": "markdown",
   "metadata": {},
   "source": [
    "### Adding and Deleting Rows"
   ]
  },
  {
   "cell_type": "code",
   "execution_count": 95,
   "metadata": {},
   "outputs": [
    {
     "data": {
      "text/html": [
       "<table class=\"data-frame\"><thead><tr><th></th><th>Number</th><th>Name</th><th>AtomicWeight</th><th>Symbol</th><th>Discovered</th><th>Melt</th><th>Boil</th><th>Liquid</th><th>MP_in_F</th></tr><tr><th></th><th>Int64</th><th>String</th><th>Float64</th><th>String</th><th>Int64⍰</th><th>Int64</th><th>Int64</th><th>Int64</th><th>Float64</th></tr></thead><tbody><p>6 rows × 9 columns</p><tr><th>1</th><td>1</td><td>Hydrogen</td><td>1.0079</td><td>H</td><td>1776</td><td>-259</td><td>-253</td><td>6</td><td>-434.2</td></tr><tr><th>2</th><td>2</td><td>Helium</td><td>4.0026</td><td>He</td><td>1895</td><td>-272</td><td>-269</td><td>3</td><td>-457.6</td></tr><tr><th>3</th><td>6</td><td>Carbon</td><td>12.0107</td><td>C</td><td>missing</td><td>3500</td><td>4827</td><td>1327</td><td>6332.0</td></tr><tr><th>4</th><td>8</td><td>Oxygen</td><td>15.9994</td><td>O</td><td>1774</td><td>-218</td><td>-183</td><td>35</td><td>-360.4</td></tr><tr><th>5</th><td>26</td><td>Iron</td><td>55.845</td><td>Fe</td><td>missing</td><td>1535</td><td>2750</td><td>1215</td><td>2795.0</td></tr><tr><th>6</th><td>29</td><td>Copper</td><td>63.546</td><td>Cu</td><td>missing</td><td>1083</td><td>2567</td><td>1484</td><td>1981.4</td></tr></tbody></table>"
      ],
      "text/latex": [
       "\\begin{tabular}{r|ccccccccc}\n",
       "\t& Number & Name & AtomicWeight & Symbol & Discovered & Melt & Boil & Liquid & MP\\_in\\_F\\\\\n",
       "\t\\hline\n",
       "\t& Int64 & String & Float64 & String & Int64⍰ & Int64 & Int64 & Int64 & Float64\\\\\n",
       "\t\\hline\n",
       "\t1 & 1 & Hydrogen & 1.0079 & H & 1776 & -259 & -253 & 6 & -434.2 \\\\\n",
       "\t2 & 2 & Helium & 4.0026 & He & 1895 & -272 & -269 & 3 & -457.6 \\\\\n",
       "\t3 & 6 & Carbon & 12.0107 & C &  & 3500 & 4827 & 1327 & 6332.0 \\\\\n",
       "\t4 & 8 & Oxygen & 15.9994 & O & 1774 & -218 & -183 & 35 & -360.4 \\\\\n",
       "\t5 & 26 & Iron & 55.845 & Fe &  & 1535 & 2750 & 1215 & 2795.0 \\\\\n",
       "\t6 & 29 & Copper & 63.546 & Cu &  & 1083 & 2567 & 1484 & 1981.4 \\\\\n",
       "\\end{tabular}\n"
      ],
      "text/plain": [
       "6×9 DataFrame. Omitted printing of 2 columns\n",
       "│ Row │ Number │ Name     │ AtomicWeight │ Symbol │ Discovered │ Melt  │ Boil  │\n",
       "│     │ \u001b[90mInt64\u001b[39m  │ \u001b[90mString\u001b[39m   │ \u001b[90mFloat64\u001b[39m      │ \u001b[90mString\u001b[39m │ \u001b[90mInt64⍰\u001b[39m     │ \u001b[90mInt64\u001b[39m │ \u001b[90mInt64\u001b[39m │\n",
       "├─────┼────────┼──────────┼──────────────┼────────┼────────────┼───────┼───────┤\n",
       "│ 1   │ 1      │ Hydrogen │ 1.0079       │ H      │ 1776       │ -259  │ -253  │\n",
       "│ 2   │ 2      │ Helium   │ 4.0026       │ He     │ 1895       │ -272  │ -269  │\n",
       "│ 3   │ 6      │ Carbon   │ 12.0107      │ C      │ \u001b[90mmissing\u001b[39m    │ 3500  │ 4827  │\n",
       "│ 4   │ 8      │ Oxygen   │ 15.9994      │ O      │ 1774       │ -218  │ -183  │\n",
       "│ 5   │ 26     │ Iron     │ 55.845       │ Fe     │ \u001b[90mmissing\u001b[39m    │ 1535  │ 2750  │\n",
       "│ 6   │ 29     │ Copper   │ 63.546       │ Cu     │ \u001b[90mmissing\u001b[39m    │ 1083  │ 2567  │"
      ]
     },
     "execution_count": 95,
     "metadata": {},
     "output_type": "execute_result"
    }
   ],
   "source": [
    "push!(ptable, [29, \"Copper\", 63.546, \"Cu\", missing, 1083, 2567, 2567-1083, map(deg -> 32 + (deg * 1.8), 1083)])"
   ]
  },
  {
   "cell_type": "markdown",
   "metadata": {},
   "source": [
    "### Subsets and Groups"
   ]
  },
  {
   "cell_type": "code",
   "execution_count": 96,
   "metadata": {},
   "outputs": [
    {
     "data": {
      "text/plain": [
       "6-element Array{Symbol,1}:\n",
       " :Gas  \n",
       " :Gas  \n",
       " :Solid\n",
       " :Gas  \n",
       " :Solid\n",
       " :Solid"
      ]
     },
     "execution_count": 96,
     "metadata": {},
     "output_type": "execute_result"
    }
   ],
   "source": [
    "ptable[!, :Room] = [:Gas, :Gas, :Solid, :Gas, :Solid, :Solid]"
   ]
  },
  {
   "cell_type": "code",
   "execution_count": 97,
   "metadata": {},
   "outputs": [
    {
     "data": {
      "text/html": [
       "<p><b>GroupedDataFrame with 2 groups based on key: Room</b></p><p><i>First Group (3 rows): Room = :Gas</i></p><table class=\"data-frame\"><thead><tr><th></th><th>Number</th><th>Name</th><th>AtomicWeight</th><th>Symbol</th><th>Discovered</th><th>Melt</th><th>Boil</th><th>Liquid</th><th>MP_in_F</th></tr><tr><th></th><th>Int64</th><th>String</th><th>Float64</th><th>String</th><th>Int64⍰</th><th>Int64</th><th>Int64</th><th>Int64</th><th>Float64</th></tr></thead><tbody><tr><th>1</th><td>1</td><td>Hydrogen</td><td>1.0079</td><td>H</td><td>1776</td><td>-259</td><td>-253</td><td>6</td><td>-434.2</td></tr><tr><th>2</th><td>2</td><td>Helium</td><td>4.0026</td><td>He</td><td>1895</td><td>-272</td><td>-269</td><td>3</td><td>-457.6</td></tr><tr><th>3</th><td>8</td><td>Oxygen</td><td>15.9994</td><td>O</td><td>1774</td><td>-218</td><td>-183</td><td>35</td><td>-360.4</td></tr></tbody></table><p>&vellip;</p><p><i>Last Group (3 rows): Room = :Solid</i></p><table class=\"data-frame\"><thead><tr><th></th><th>Number</th><th>Name</th><th>AtomicWeight</th><th>Symbol</th><th>Discovered</th><th>Melt</th><th>Boil</th><th>Liquid</th><th>MP_in_F</th></tr><tr><th></th><th>Int64</th><th>String</th><th>Float64</th><th>String</th><th>Int64⍰</th><th>Int64</th><th>Int64</th><th>Int64</th><th>Float64</th></tr></thead><tbody><tr><th>1</th><td>6</td><td>Carbon</td><td>12.0107</td><td>C</td><td>missing</td><td>3500</td><td>4827</td><td>1327</td><td>6332.0</td></tr><tr><th>2</th><td>26</td><td>Iron</td><td>55.845</td><td>Fe</td><td>missing</td><td>1535</td><td>2750</td><td>1215</td><td>2795.0</td></tr><tr><th>3</th><td>29</td><td>Copper</td><td>63.546</td><td>Cu</td><td>missing</td><td>1083</td><td>2567</td><td>1484</td><td>1981.4</td></tr></tbody></table>"
      ],
      "text/latex": [
       "GroupedDataFrame with 2 groups based on key: Room\n",
       "\n",
       "First Group (3 rows): Room = :Gas\n",
       "\n",
       "\\begin{tabular}{r|cccccccccc}\n",
       "\t& Number & Name & AtomicWeight & Symbol & Discovered & Melt & Boil & Liquid & MP\\_in\\_F & \\\\\n",
       "\t\\hline\n",
       "\t& Int64 & String & Float64 & String & Int64⍰ & Int64 & Int64 & Int64 & Float64 & \\\\\n",
       "\t\\hline\n",
       "\t1 & 1 & Hydrogen & 1.0079 & H & 1776 & -259 & -253 & 6 & -434.2 & $\\dots$ \\\\\n",
       "\t2 & 2 & Helium & 4.0026 & He & 1895 & -272 & -269 & 3 & -457.6 & $\\dots$ \\\\\n",
       "\t3 & 8 & Oxygen & 15.9994 & O & 1774 & -218 & -183 & 35 & -360.4 & $\\dots$ \\\\\n",
       "\\end{tabular}\n",
       "\n",
       "$\\dots$\n",
       "\n",
       "Last Group (3 rows): Room = :Solid\n",
       "\n",
       "\\begin{tabular}{r|cccccccccc}\n",
       "\t& Number & Name & AtomicWeight & Symbol & Discovered & Melt & Boil & Liquid & MP\\_in\\_F & \\\\\n",
       "\t\\hline\n",
       "\t& Int64 & String & Float64 & String & Int64⍰ & Int64 & Int64 & Int64 & Float64 & \\\\\n",
       "\t\\hline\n",
       "\t1 & 6 & Carbon & 12.0107 & C &  & 3500 & 4827 & 1327 & 6332.0 & $\\dots$ \\\\\n",
       "\t2 & 26 & Iron & 55.845 & Fe &  & 1535 & 2750 & 1215 & 2795.0 & $\\dots$ \\\\\n",
       "\t3 & 29 & Copper & 63.546 & Cu &  & 1083 & 2567 & 1484 & 1981.4 & $\\dots$ \\\\\n",
       "\\end{tabular}\n"
      ],
      "text/plain": [
       "GroupedDataFrame with 2 groups based on key: Room\n",
       "First Group (3 rows): Room = :Gas. Omitted printing of 3 columns\n",
       "│ Row │ Number │ Name     │ AtomicWeight │ Symbol │ Discovered │ Melt  │ Boil  │\n",
       "│     │ \u001b[90mInt64\u001b[39m  │ \u001b[90mString\u001b[39m   │ \u001b[90mFloat64\u001b[39m      │ \u001b[90mString\u001b[39m │ \u001b[90mInt64⍰\u001b[39m     │ \u001b[90mInt64\u001b[39m │ \u001b[90mInt64\u001b[39m │\n",
       "├─────┼────────┼──────────┼──────────────┼────────┼────────────┼───────┼───────┤\n",
       "│ 1   │ 1      │ Hydrogen │ 1.0079       │ H      │ 1776       │ -259  │ -253  │\n",
       "│ 2   │ 2      │ Helium   │ 4.0026       │ He     │ 1895       │ -272  │ -269  │\n",
       "│ 3   │ 8      │ Oxygen   │ 15.9994      │ O      │ 1774       │ -218  │ -183  │\n",
       "⋮\n",
       "Last Group (3 rows): Room = :Solid. Omitted printing of 3 columns\n",
       "│ Row │ Number │ Name   │ AtomicWeight │ Symbol │ Discovered │ Melt  │ Boil  │\n",
       "│     │ \u001b[90mInt64\u001b[39m  │ \u001b[90mString\u001b[39m │ \u001b[90mFloat64\u001b[39m      │ \u001b[90mString\u001b[39m │ \u001b[90mInt64⍰\u001b[39m     │ \u001b[90mInt64\u001b[39m │ \u001b[90mInt64\u001b[39m │\n",
       "├─────┼────────┼────────┼──────────────┼────────┼────────────┼───────┼───────┤\n",
       "│ 1   │ 6      │ Carbon │ 12.0107      │ C      │ \u001b[90mmissing\u001b[39m    │ 3500  │ 4827  │\n",
       "│ 2   │ 26     │ Iron   │ 55.845       │ Fe     │ \u001b[90mmissing\u001b[39m    │ 1535  │ 2750  │\n",
       "│ 3   │ 29     │ Copper │ 63.546       │ Cu     │ \u001b[90mmissing\u001b[39m    │ 1083  │ 2567  │"
      ]
     },
     "execution_count": 97,
     "metadata": {},
     "output_type": "execute_result"
    }
   ],
   "source": [
    "groupby(ptable, [:Room])"
   ]
  },
  {
   "cell_type": "code",
   "execution_count": 98,
   "metadata": {},
   "outputs": [
    {
     "data": {
      "text/html": [
       "<table class=\"data-frame\"><thead><tr><th></th><th>Room</th><th>x1</th></tr><tr><th></th><th>Symbol</th><th>Float64</th></tr></thead><tbody><p>2 rows × 2 columns</p><tr><th>1</th><td>Gas</td><td>-249.667</td></tr><tr><th>2</th><td>Solid</td><td>2039.33</td></tr></tbody></table>"
      ],
      "text/latex": [
       "\\begin{tabular}{r|cc}\n",
       "\t& Room & x1\\\\\n",
       "\t\\hline\n",
       "\t& Symbol & Float64\\\\\n",
       "\t\\hline\n",
       "\t1 & Gas & -249.667 \\\\\n",
       "\t2 & Solid & 2039.33 \\\\\n",
       "\\end{tabular}\n"
      ],
      "text/plain": [
       "2×2 DataFrame\n",
       "│ Row │ Room   │ x1       │\n",
       "│     │ \u001b[90mSymbol\u001b[39m │ \u001b[90mFloat64\u001b[39m  │\n",
       "├─────┼────────┼──────────┤\n",
       "│ 1   │ Gas    │ -249.667 │\n",
       "│ 2   │ Solid  │ 2039.33  │"
      ]
     },
     "execution_count": 98,
     "metadata": {},
     "output_type": "execute_result"
    }
   ],
   "source": [
    "by(ptable, [:Room], df -> mean(df[:, :Melt]))"
   ]
  },
  {
   "cell_type": "markdown",
   "metadata": {},
   "source": [
    "### Counting and Sorting"
   ]
  },
  {
   "cell_type": "code",
   "execution_count": 99,
   "metadata": {},
   "outputs": [
    {
     "data": {
      "text/html": [
       "<table class=\"data-frame\"><thead><tr><th></th><th>Room</th><th>x1</th></tr><tr><th></th><th>Symbol</th><th>Int64</th></tr></thead><tbody><p>2 rows × 2 columns</p><tr><th>1</th><td>Gas</td><td>3</td></tr><tr><th>2</th><td>Solid</td><td>3</td></tr></tbody></table>"
      ],
      "text/latex": [
       "\\begin{tabular}{r|cc}\n",
       "\t& Room & x1\\\\\n",
       "\t\\hline\n",
       "\t& Symbol & Int64\\\\\n",
       "\t\\hline\n",
       "\t1 & Gas & 3 \\\\\n",
       "\t2 & Solid & 3 \\\\\n",
       "\\end{tabular}\n"
      ],
      "text/plain": [
       "2×2 DataFrame\n",
       "│ Row │ Room   │ x1    │\n",
       "│     │ \u001b[90mSymbol\u001b[39m │ \u001b[90mInt64\u001b[39m │\n",
       "├─────┼────────┼───────┤\n",
       "│ 1   │ Gas    │ 3     │\n",
       "│ 2   │ Solid  │ 3     │"
      ]
     },
     "execution_count": 99,
     "metadata": {},
     "output_type": "execute_result"
    }
   ],
   "source": [
    "by(ptable, [:Room], nrow)  # apply `nrow` to each group df"
   ]
  },
  {
   "cell_type": "code",
   "execution_count": 100,
   "metadata": {},
   "outputs": [
    {
     "data": {
      "text/html": [
       "<table class=\"data-frame\"><thead><tr><th></th><th>Number</th><th>Name</th><th>AtomicWeight</th><th>Symbol</th><th>Discovered</th><th>Melt</th><th>Boil</th><th>Liquid</th><th>MP_in_F</th></tr><tr><th></th><th>Int64</th><th>String</th><th>Float64</th><th>String</th><th>Int64⍰</th><th>Int64</th><th>Int64</th><th>Int64</th><th>Float64</th></tr></thead><tbody><p>6 rows × 10 columns (omitted printing of 1 columns)</p><tr><th>1</th><td>1</td><td>Hydrogen</td><td>1.0079</td><td>H</td><td>1776</td><td>-259</td><td>-253</td><td>6</td><td>-434.2</td></tr><tr><th>2</th><td>2</td><td>Helium</td><td>4.0026</td><td>He</td><td>1895</td><td>-272</td><td>-269</td><td>3</td><td>-457.6</td></tr><tr><th>3</th><td>8</td><td>Oxygen</td><td>15.9994</td><td>O</td><td>1774</td><td>-218</td><td>-183</td><td>35</td><td>-360.4</td></tr><tr><th>4</th><td>6</td><td>Carbon</td><td>12.0107</td><td>C</td><td>missing</td><td>3500</td><td>4827</td><td>1327</td><td>6332.0</td></tr><tr><th>5</th><td>26</td><td>Iron</td><td>55.845</td><td>Fe</td><td>missing</td><td>1535</td><td>2750</td><td>1215</td><td>2795.0</td></tr><tr><th>6</th><td>29</td><td>Copper</td><td>63.546</td><td>Cu</td><td>missing</td><td>1083</td><td>2567</td><td>1484</td><td>1981.4</td></tr></tbody></table>"
      ],
      "text/latex": [
       "\\begin{tabular}{r|cccccccccc}\n",
       "\t& Number & Name & AtomicWeight & Symbol & Discovered & Melt & Boil & Liquid & MP\\_in\\_F & \\\\\n",
       "\t\\hline\n",
       "\t& Int64 & String & Float64 & String & Int64⍰ & Int64 & Int64 & Int64 & Float64 & \\\\\n",
       "\t\\hline\n",
       "\t1 & 1 & Hydrogen & 1.0079 & H & 1776 & -259 & -253 & 6 & -434.2 & $\\dots$ \\\\\n",
       "\t2 & 2 & Helium & 4.0026 & He & 1895 & -272 & -269 & 3 & -457.6 & $\\dots$ \\\\\n",
       "\t3 & 8 & Oxygen & 15.9994 & O & 1774 & -218 & -183 & 35 & -360.4 & $\\dots$ \\\\\n",
       "\t4 & 6 & Carbon & 12.0107 & C &  & 3500 & 4827 & 1327 & 6332.0 & $\\dots$ \\\\\n",
       "\t5 & 26 & Iron & 55.845 & Fe &  & 1535 & 2750 & 1215 & 2795.0 & $\\dots$ \\\\\n",
       "\t6 & 29 & Copper & 63.546 & Cu &  & 1083 & 2567 & 1484 & 1981.4 & $\\dots$ \\\\\n",
       "\\end{tabular}\n"
      ],
      "text/plain": [
       "6×10 DataFrame. Omitted printing of 3 columns\n",
       "│ Row │ Number │ Name     │ AtomicWeight │ Symbol │ Discovered │ Melt  │ Boil  │\n",
       "│     │ \u001b[90mInt64\u001b[39m  │ \u001b[90mString\u001b[39m   │ \u001b[90mFloat64\u001b[39m      │ \u001b[90mString\u001b[39m │ \u001b[90mInt64⍰\u001b[39m     │ \u001b[90mInt64\u001b[39m │ \u001b[90mInt64\u001b[39m │\n",
       "├─────┼────────┼──────────┼──────────────┼────────┼────────────┼───────┼───────┤\n",
       "│ 1   │ 1      │ Hydrogen │ 1.0079       │ H      │ 1776       │ -259  │ -253  │\n",
       "│ 2   │ 2      │ Helium   │ 4.0026       │ He     │ 1895       │ -272  │ -269  │\n",
       "│ 3   │ 8      │ Oxygen   │ 15.9994      │ O      │ 1774       │ -218  │ -183  │\n",
       "│ 4   │ 6      │ Carbon   │ 12.0107      │ C      │ \u001b[90mmissing\u001b[39m    │ 3500  │ 4827  │\n",
       "│ 5   │ 26     │ Iron     │ 55.845       │ Fe     │ \u001b[90mmissing\u001b[39m    │ 1535  │ 2750  │\n",
       "│ 6   │ 29     │ Copper   │ 63.546       │ Cu     │ \u001b[90mmissing\u001b[39m    │ 1083  │ 2567  │"
      ]
     },
     "execution_count": 100,
     "metadata": {},
     "output_type": "execute_result"
    }
   ],
   "source": [
    "sort!(ptable, [order(:Room), order(:AtomicWeight)])"
   ]
  },
  {
   "cell_type": "code",
   "execution_count": 101,
   "metadata": {},
   "outputs": [
    {
     "name": "stdout",
     "output_type": "stream",
     "text": [
      "search: \u001b[0m\u001b[1mo\u001b[22m\u001b[0m\u001b[1mr\u001b[22m\u001b[0m\u001b[1md\u001b[22m\u001b[0m\u001b[1me\u001b[22m\u001b[0m\u001b[1mr\u001b[22m \u001b[0m\u001b[1mo\u001b[22m\u001b[0m\u001b[1mr\u001b[22m\u001b[0m\u001b[1md\u001b[22m\u001b[0m\u001b[1me\u001b[22m\u001b[0m\u001b[1mr\u001b[22med \u001b[0m\u001b[1mo\u001b[22m\u001b[0m\u001b[1mr\u001b[22m\u001b[0m\u001b[1md\u001b[22m\u001b[0m\u001b[1me\u001b[22m\u001b[0m\u001b[1mr\u001b[22med! \u001b[0m\u001b[1mO\u001b[22m\u001b[0m\u001b[1mr\u001b[22m\u001b[0m\u001b[1md\u001b[22m\u001b[0m\u001b[1me\u001b[22m\u001b[0m\u001b[1mr\u001b[22medLevelsException is\u001b[0m\u001b[1mo\u001b[22m\u001b[0m\u001b[1mr\u001b[22m\u001b[0m\u001b[1md\u001b[22m\u001b[0m\u001b[1me\u001b[22m\u001b[0m\u001b[1mr\u001b[22med\n",
      "\n"
     ]
    },
    {
     "data": {
      "text/latex": [
       "No documentation found.\n",
       "\n",
       "\\texttt{DataFrames.order} is a \\texttt{Function}.\n",
       "\n",
       "\\begin{verbatim}\n",
       "# 1 method for generic function \"order\":\n",
       "[1] order(col::T; kwargs...) where T<:Union{Signed, Symbol, Unsigned} in DataFrames at /home/kyle/.julia/packages/DataFrames/VrZOl/src/abstractdataframe/sort.jl:23\n",
       "\\end{verbatim}\n"
      ],
      "text/markdown": [
       "No documentation found.\n",
       "\n",
       "`DataFrames.order` is a `Function`.\n",
       "\n",
       "```\n",
       "# 1 method for generic function \"order\":\n",
       "[1] order(col::T; kwargs...) where T<:Union{Signed, Symbol, Unsigned} in DataFrames at /home/kyle/.julia/packages/DataFrames/VrZOl/src/abstractdataframe/sort.jl:23\n",
       "```\n"
      ],
      "text/plain": [
       "  No documentation found.\n",
       "\n",
       "  \u001b[36mDataFrames.order\u001b[39m is a \u001b[36mFunction\u001b[39m.\n",
       "\n",
       "\u001b[36m  # 1 method for generic function \"order\":\u001b[39m\n",
       "\u001b[36m  [1] order(col::T; kwargs...) where T<:Union{Signed, Symbol, Unsigned} in DataFrames at /home/kyle/.julia/packages/DataFrames/VrZOl/src/abstractdataframe/sort.jl:23\u001b[39m"
      ]
     },
     "execution_count": 101,
     "metadata": {},
     "output_type": "execute_result"
    }
   ],
   "source": [
    "?order"
   ]
  }
 ],
 "metadata": {
  "kernelspec": {
   "display_name": "Julia 1.1.1",
   "language": "julia",
   "name": "julia-1.1"
  },
  "language_info": {
   "file_extension": ".jl",
   "mimetype": "application/julia",
   "name": "julia",
   "version": "1.1.1"
  }
 },
 "nbformat": 4,
 "nbformat_minor": 2
}
