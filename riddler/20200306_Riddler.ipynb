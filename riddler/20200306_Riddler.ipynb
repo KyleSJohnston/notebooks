{
 "cells": [
  {
   "cell_type": "markdown",
   "metadata": {},
   "source": [
    "https://fivethirtyeight.com/features/how-good-are-you-at-guess-who/\n",
    "\n",
    "Rule Summary:\n",
    "- The board has `N` characters.\n",
    "- Players choose a character as their own.\n",
    "- Players alternate turns.\n",
    "- At each turn, a player may:\n",
    "  - Make a specific guess about the opponent's character (correct = win, incorrect = lose).\n",
    "  - Ask a yes/no question to reduce the possible characters."
   ]
  },
  {
   "cell_type": "code",
   "execution_count": 1,
   "metadata": {},
   "outputs": [
    {
     "name": "stdout",
     "output_type": "stream",
     "text": [
      "\u001b[32m\u001b[1mActivating\u001b[22m\u001b[39m environment at `~/vcs/notebooks/Project.toml`\n"
     ]
    }
   ],
   "source": [
    "import Pkg; Pkg.activate(\"..\")"
   ]
  },
  {
   "cell_type": "code",
   "execution_count": 2,
   "metadata": {},
   "outputs": [
    {
     "data": {
      "text/plain": [
       "Main.GuessWho"
      ]
     },
     "execution_count": 2,
     "metadata": {},
     "output_type": "execute_result"
    }
   ],
   "source": [
    "\"\"\"\n",
    "Defines the environment, policy, and state for reinforcement learning.\n",
    "\"\"\"\n",
    "module GuessWho\n",
    "\n",
    "import Reinforce: \n",
    "    AbstractEnvironment, AbstractPolicy, action, actions, finished, maxsteps, state, step!, reset!, reward  # action\n",
    "\n",
    "export GuessWhoEnvironment, GuessWhoPolicy, GuessWhoState\n",
    "\n",
    "struct GuessWhoState\n",
    "    ownchars::Int\n",
    "    oppchars::Int\n",
    "end\n",
    "\n",
    "GuessWhoState(n) = GuessWhoState(n, n)\n",
    "\n",
    "flipstate(s::GuessWhoState) = GuessWhoState(s.oppchars, s.ownchars)\n",
    "\n",
    "abstract type GuessWhoPolicy <: AbstractPolicy end\n",
    "\n",
    "mutable struct GuessWhoEnvironment <: AbstractEnvironment\n",
    "    n::Int  # number of characters\n",
    "    s::GuessWhoState  # state\n",
    "    r::Int  # reward\n",
    "    o::GuessWhoPolicy  # opponent policy\n",
    "    GuessWhoEnvironment(n, o) = new(n, GuessWhoState(n), 0, o)\n",
    "end\n",
    "\n",
    "reset!(env::GuessWhoEnvironment) = (env.s = GuessWhoState(env.n); env.r = 0; env)\n",
    "\n",
    "function makestep(s::GuessWhoState, a::Int)\n",
    "    if a == 0\n",
    "        # Guess and end game\n",
    "        r = rand() < (1 / s.ownchars) ? 1 : -1\n",
    "        s = GuessWhoState(0, 0)\n",
    "    else\n",
    "        r = 0\n",
    "        remaining = rand() < (a / s.ownchars) ? a : (s.ownchars - a)\n",
    "        s = GuessWhoState(remaining, s.oppchars)\n",
    "    end\n",
    "    return r, s\n",
    "end\n",
    "\n",
    "function step!(env::GuessWhoEnvironment, s::GuessWhoState, a::Int)\n",
    "    r, s = makestep(s, a)\n",
    "    if !finished(env, s)\n",
    "        # take random step as opponent\n",
    "        os = flipstate(s)\n",
    "        A = actions(env, os)\n",
    "        oa = action(env.o, 0, os, A)\n",
    "        or, os = makestep(os, oa)\n",
    "        r = -1 * or\n",
    "        s = flipstate(os)\n",
    "    end\n",
    "    env.r = r\n",
    "    env.s = s\n",
    "    return (env.r, env.s)\n",
    "end\n",
    "state(env::GuessWhoEnvironment) = env.s\n",
    "reward(env::GuessWhoEnvironment) = env.r\n",
    "maxsteps(env::GuessWhoEnvironment) = env.n + 1\n",
    "actions(env::GuessWhoEnvironment, s::GuessWhoState) = collect(0:(s.ownchars ÷ 2))\n",
    "finished(env::GuessWhoEnvironment, s′::GuessWhoState) = (s′.ownchars == 0 || s′.oppchars == 0)\n",
    "\n",
    "end  # module"
   ]
  },
  {
   "cell_type": "code",
   "execution_count": 3,
   "metadata": {},
   "outputs": [
    {
     "data": {
      "text/plain": [
       "Main.RandomGuessWho"
      ]
     },
     "execution_count": 3,
     "metadata": {},
     "output_type": "execute_result"
    }
   ],
   "source": [
    "\"\"\"\n",
    "Defines a GuessWho policy of playing randomly\n",
    "\"\"\"\n",
    "module RandomGuessWho\n",
    "\n",
    "import Reinforce: action\n",
    "import Main.GuessWho: GuessWhoPolicy, GuessWhoState\n",
    "\n",
    "export RandomGuessWhoPolicy\n",
    "\n",
    "# define random policy\n",
    "struct RandomGuessWhoPolicy <: GuessWhoPolicy end\n",
    "action(p::RandomGuessWhoPolicy, r::Int, s::GuessWhoState, A) = rand(A)\n",
    "\n",
    "end # module"
   ]
  },
  {
   "cell_type": "code",
   "execution_count": 4,
   "metadata": {},
   "outputs": [
    {
     "data": {
      "text/plain": [
       "Main.LearningGuessWho"
      ]
     },
     "execution_count": 4,
     "metadata": {},
     "output_type": "execute_result"
    }
   ],
   "source": [
    "\"\"\"\n",
    "Defines a policy that can learn from prior game play\n",
    "\"\"\"\n",
    "module LearningGuessWho\n",
    "\n",
    "import OnlineStats: fit!, Mean, value\n",
    "import Reinforce: action\n",
    "import Main.GuessWho: GuessWhoPolicy, GuessWhoState\n",
    "\n",
    "export LearningGuessWhoPolicy, learn!\n",
    "\n",
    "# define learning policy\n",
    "struct LearningGuessWhoPolicy <: GuessWhoPolicy\n",
    "    ε::Float64\n",
    "    states::Dict\n",
    "end\n",
    "\n",
    "LearningGuessWhoPolicy(ε) = LearningGuessWhoPolicy(ε, Dict())\n",
    "LearningGuessWhoPolicy(p::LearningGuessWhoPolicy, ε) = LearningGuessWhoPolicy(ε, p.states)\n",
    "\n",
    "function action(p::LearningGuessWhoPolicy, r::Int, s::GuessWhoState, A)\n",
    "    if rand() < p.ε || !haskey(p.states, s)\n",
    "        return rand(A)\n",
    "    else\n",
    "        best_a = 0\n",
    "        exp_r = 0.0\n",
    "        for (a, r) in pairs(p.states[s])\n",
    "            if value(r) >= exp_r\n",
    "                best_a = a\n",
    "                exp_r = value(r)\n",
    "            end\n",
    "        end\n",
    "        return best_a\n",
    "    end\n",
    "end\n",
    "\n",
    "function learn!(p::LearningGuessWhoPolicy, r, states, actions)\n",
    "    for (s, a) in Iterators.zip(states, actions)\n",
    "        if !haskey(p.states, s)\n",
    "            p.states[s] = Dict()\n",
    "        end\n",
    "        if !haskey(p.states[s], a)\n",
    "            p.states[s][a] = Mean()\n",
    "        end\n",
    "        fit!(p.states[s][a], max(r, 0.0))\n",
    "    end\n",
    "end\n",
    "\n",
    "end  # module"
   ]
  },
  {
   "cell_type": "markdown",
   "metadata": {},
   "source": [
    "### Run Episode"
   ]
  },
  {
   "cell_type": "code",
   "execution_count": 5,
   "metadata": {},
   "outputs": [],
   "source": [
    "import Reinforce: action, Episode, run_episode\n",
    "using  Main.GuessWho\n",
    "using  Main.RandomGuessWho\n",
    "using  Main.LearningGuessWho"
   ]
  },
  {
   "cell_type": "code",
   "execution_count": 6,
   "metadata": {},
   "outputs": [
    {
     "data": {
      "text/plain": [
       "Episode{GuessWhoEnvironment,LearningGuessWhoPolicy,Float64}(GuessWhoEnvironment(4, GuessWhoState(4, 4), 0, RandomGuessWhoPolicy()), LearningGuessWhoPolicy(0.1, Dict{Any,Any}()), 0.0, 0.0, 1, 1, 5)"
      ]
     },
     "execution_count": 6,
     "metadata": {},
     "output_type": "execute_result"
    }
   ],
   "source": [
    "env = GuessWhoEnvironment(4, RandomGuessWhoPolicy())\n",
    "p = LearningGuessWhoPolicy(0.1)\n",
    "ep = Episode(env, p)"
   ]
  },
  {
   "cell_type": "code",
   "execution_count": 7,
   "metadata": {},
   "outputs": [
    {
     "name": "stdout",
     "output_type": "stream",
     "text": [
      "Initial state: GuessWhoState(4, 4)\n",
      "Action taken : 2\n",
      "Result       : -1\n",
      "Final state  : GuessWhoState(0, 0)\n",
      "\n",
      "Performed 1 iterations with a result of -1.0\n"
     ]
    }
   ],
   "source": [
    "state_array = GuessWhoState[]\n",
    "action_array = Int[]\n",
    "for (s, a, r, s′) in ep\n",
    "    # do some custom processing of the sars-tuple\n",
    "    push!(state_array, s)\n",
    "    println(\"Initial state: $s\")\n",
    "    push!(action_array, a)\n",
    "    println(\"Action taken : $a\")\n",
    "    println(\"Result       : $r\")\n",
    "    println(\"Final state  : $s′\")\n",
    "    println()\n",
    "end\n",
    "println(\"Performed $(ep.niter) iterations with a result of $(ep.total_reward)\");"
   ]
  },
  {
   "cell_type": "code",
   "execution_count": 8,
   "metadata": {},
   "outputs": [],
   "source": [
    "# learn from the episode\n",
    "learn!(p, ep.total_reward, state_array, action_array)"
   ]
  },
  {
   "cell_type": "markdown",
   "metadata": {},
   "source": [
    "### Train Policy"
   ]
  },
  {
   "cell_type": "code",
   "execution_count": 9,
   "metadata": {},
   "outputs": [
    {
     "data": {
      "text/plain": [
       "train! (generic function with 1 method)"
      ]
     },
     "execution_count": 9,
     "metadata": {},
     "output_type": "execute_result"
    }
   ],
   "source": [
    "function train!(p::LearningGuessWhoPolicy, env::GuessWhoEnvironment, num_episodes::Int)\n",
    "    for i in 1:num_episodes\n",
    "        state_array = GuessWhoState[]\n",
    "        action_array = Int[]\n",
    "        R = run_episode(env, p) do (s, a, r, s′)\n",
    "            # called after each step\n",
    "            push!(state_array, s)\n",
    "            push!(action_array, a)\n",
    "        end\n",
    "        learn!(p, R, state_array, action_array)\n",
    "    end\n",
    "end"
   ]
  },
  {
   "cell_type": "code",
   "execution_count": 17,
   "metadata": {},
   "outputs": [
    {
     "data": {
      "text/plain": [
       "training (generic function with 1 method)"
      ]
     },
     "execution_count": 17,
     "metadata": {},
     "output_type": "execute_result"
    }
   ],
   "source": [
    "function training(num_policies::Int, policy_episodes::Int, ε::Float64)\n",
    "    opponent = RandomGuessWhoPolicy()\n",
    "    policies = [LearningGuessWhoPolicy(ε) for i in 1:num_policies]\n",
    "    for i in 1:num_policies\n",
    "        println(\"Training policy $i\")\n",
    "        opponent = (i == 1 ? RandomGuessWhoPolicy() : policies[i-1])\n",
    "        env = GuessWhoEnvironment(4, opponent)\n",
    "        train!(policies[i], env, policy_episodes)\n",
    "    end\n",
    "    return policies\n",
    "end"
   ]
  },
  {
   "cell_type": "code",
   "execution_count": 23,
   "metadata": {},
   "outputs": [
    {
     "name": "stdout",
     "output_type": "stream",
     "text": [
      "Training policy 1\n",
      "Training policy 2\n",
      "Training policy 3\n",
      "Training policy 4\n",
      "Training policy 5\n",
      "Training policy 6\n",
      "Training policy 7\n",
      "Training policy 8\n",
      "Training policy 9\n",
      "Training policy 10\n"
     ]
    }
   ],
   "source": [
    "policies = training(10, 100_000, 0.1);"
   ]
  },
  {
   "cell_type": "code",
   "execution_count": 24,
   "metadata": {},
   "outputs": [],
   "source": [
    "p = policies[end];"
   ]
  },
  {
   "cell_type": "code",
   "execution_count": 26,
   "metadata": {},
   "outputs": [
    {
     "data": {
      "text/plain": [
       "Dict{Any,Any} with 3 entries:\n",
       "  0 => Mean: n=3354 | value=0.238819\n",
       "  2 => Mean: n=3368 | value=0.637173\n",
       "  1 => Mean: n=93278 | value=0.660027"
      ]
     },
     "execution_count": 26,
     "metadata": {},
     "output_type": "execute_result"
    }
   ],
   "source": [
    "p.states[GuessWhoState(4, 4)]"
   ]
  },
  {
   "cell_type": "code",
   "execution_count": 29,
   "metadata": {},
   "outputs": [
    {
     "data": {
      "text/plain": [
       "Dict{Any,Any} with 2 entries:\n",
       "  0 => Mean: n=17231 | value=0.491382\n",
       "  1 => Mean: n=859 | value=0.0"
      ]
     },
     "execution_count": 29,
     "metadata": {},
     "output_type": "execute_result"
    }
   ],
   "source": [
    "p.states[GuessWhoState(2, 1)]  # always guess if your opponent will win on the next turn"
   ]
  },
  {
   "cell_type": "code",
   "execution_count": 30,
   "metadata": {},
   "outputs": [
    {
     "data": {
      "text/plain": [
       "Dict{Any,Any} with 2 entries:\n",
       "  0 => Mean: n=2422 | value=0.50578\n",
       "  1 => Mean: n=5667 | value=0.526204"
      ]
     },
     "execution_count": 30,
     "metadata": {},
     "output_type": "execute_result"
    }
   ],
   "source": [
    "p.states[GuessWhoState(2, 2)]"
   ]
  },
  {
   "cell_type": "code",
   "execution_count": null,
   "metadata": {},
   "outputs": [],
   "source": []
  }
 ],
 "metadata": {
  "kernelspec": {
   "display_name": "Julia 1.3.0",
   "language": "julia",
   "name": "julia-1.3"
  },
  "language_info": {
   "file_extension": ".jl",
   "mimetype": "application/julia",
   "name": "julia",
   "version": "1.3.0"
  }
 },
 "nbformat": 4,
 "nbformat_minor": 4
}
