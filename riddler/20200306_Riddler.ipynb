{
 "cells": [
  {
   "cell_type": "markdown",
   "metadata": {},
   "source": [
    "https://fivethirtyeight.com/features/how-good-are-you-at-guess-who/\n",
    "\n",
    "Rule Summary:\n",
    "- The board has `N` characters.\n",
    "- Players choose a character as their own.\n",
    "- Players alternate turns.\n",
    "- At each turn, a player may:\n",
    "  - Make a specific guess about the opponent's character (correct = win, incorrect = lose).\n",
    "  - Ask a yes/no question to reduce the possible characters.\n",
    "\n",
    "Simple Example:\n",
    "- The board has 4 characters.\n",
    "- Player one chooses to eliminate 2 characters; player two does the same.\n",
    "  - Bisecting the board should produce the fastest game.\n",
    "- Player one has two characters remaining. Player one can:\n",
    "  1. Choose to eliminate 1 character, then guess correctly on the next turn.\n",
    "  1. Guess a character at random, with a 50% chance of winning and a 50% chance of losing.\n",
    "- If player one chooses option #1, player two can:\n",
    "  1. Choose to eliminate 1 character, and lose when player one guesses correctly.\n",
    "  1. Guess a character at random, with a 50% chance of winning and a 50% chance of losing.\n",
    "- From player two's perspective, option #2 is clearly better.\n",
    "- Therefore, from player one's perspective, option #1 and option #2 have the same win probability.\n",
    "\n",
    "Any other approach besides bisecting the board should be inferior. For instance, let's assume that\n",
    "the player chooses to divide the board into `1` and `N-1` players. `1/N` of the time, the player can guess correctly on the next move. `(N-1)/N` of the time, the player has only eliminated one character.\n",
    "\n",
    "Alternative Example:\n",
    "- The board has 4 characters.\n",
    "- Player one chooses to eliminate 2 characters.\n",
    "- Player two choose to divide the board into 1, 3 characters\n",
    "  - 1/4 of the time, there will be 1 character left, and player two can guess correctly on the next turn.\n",
    "    - This forces player one into guessing one of the two remaining characters, winning 50% of the time.\n",
    "  - 3/4 of the time, there will be 3 characters left.\n",
    "    - Player one can proceed to eliminate 1 character, leaving only one remaining.\n",
    "    - To avoid losing, player two has to guess, with a 1/3 chance of winning.\n",
    "\n",
    "Looking at the alternative example, player two has a (1/4) * (1/2) + (3/4) * (1/3), or 3/8 chance of winning. This is less than the 50% from the first example.\n",
    "\n",
    "Extended Example:\n",
    "- The board has 24 characters.\n",
    "- The first turn for each player reduces this to 12.\n",
    "- The second turn for each player reduces this to 6.\n",
    "- The third turn for each player reduces this to 3.\n",
    "- Player one then has a:\n",
    "  - 1/3 chance of forcing player two into a 1/3 guess: 1/3 * 2/3 = 2/9\n",
    "  - 2/3 chance of leaving player two a choice:\n",
    "    - Eliminate a character, leaving a (1/3 * 1/2 + 2/3 * 1/2"
   ]
  },
  {
   "cell_type": "code",
   "execution_count": 1,
   "metadata": {},
   "outputs": [
    {
     "name": "stdout",
     "output_type": "stream",
     "text": [
      "\u001b[32m\u001b[1mActivating\u001b[22m\u001b[39m environment at `~/vcs/notebooks/Project.toml`\n"
     ]
    }
   ],
   "source": [
    "import Pkg; Pkg.activate(\"..\")"
   ]
  },
  {
   "cell_type": "code",
   "execution_count": 2,
   "metadata": {},
   "outputs": [],
   "source": [
    "using  Reinforce"
   ]
  },
  {
   "cell_type": "code",
   "execution_count": 3,
   "metadata": {},
   "outputs": [],
   "source": [
    "import Reinforce: action, actions, finished, ismdp, maxsteps, reset!, reward, state, step!\n",
    "\n",
    "struct GuessWhoState\n",
    "    c₁::Int\n",
    "    c₂::Int\n",
    "end\n",
    "\n",
    "GuessWhoState(n) = GuessWhoState(n, n)\n",
    "\n",
    "flip(s::GuessWhoState) = GuessWhoState(s.c₂, s.c₁)\n",
    "\n",
    "mutable struct GuessWhoEnvironment <: AbstractEnvironment\n",
    "    n::Int  # number of characters\n",
    "    s::GuessWhoState  # state\n",
    "    r::Int  # reward\n",
    "    GuessWhoEnvironment(n) = new(n, GuessWhoState(n), 0)\n",
    "end\n",
    "\n",
    "reset!(env::GuessWhoEnvironment) = (env.s = GuessWhoState(env.n); env.r = 0; env)\n",
    "\n",
    "function makestep(s, a)\n",
    "    # always step for player 1\n",
    "    if a == 0\n",
    "        # Guess and end game\n",
    "        r = rand() < (1 / s.c₁) ? 1 : -1\n",
    "        s = GuessWhoState(0, 0)\n",
    "    else\n",
    "        r = 0\n",
    "        remaining = rand() < (a / s.c₁) ? a : (s.c₁ - a)\n",
    "        s = GuessWhoState(remaining, s.c₂)\n",
    "    end\n",
    "    return r, s\n",
    "end\n",
    "\n",
    "function step!(env::GuessWhoEnvironment, s, a)\n",
    "    r, s = makestep(s, a)\n",
    "    if !finished(env, s)\n",
    "        # take random step as opponent\n",
    "        os = flip(s)\n",
    "        A = actions(env, os)\n",
    "        or, os = makestep(os, rand(A))\n",
    "        r = -1.0 * or\n",
    "        s = flip(os)\n",
    "    end\n",
    "    env.r = r\n",
    "    env.s = s\n",
    "    return (env.r, env.s)\n",
    "end\n",
    "state(env::GuessWhoEnvironment) = env.s\n",
    "reward(env::GuessWhoEnvironment) = env.r\n",
    "maxsteps(env::GuessWhoEnvironment) = env.n + 1\n",
    "actions(env::GuessWhoEnvironment, s) = collect(0:(s.c₁ ÷ 2))\n",
    "finished(env::GuessWhoEnvironment, s′) = (s′.c₁ == 0 || s′.c₂ == 0)\n",
    "\n",
    "struct RandomGuessWhoPolicy <: Reinforce.AbstractPolicy end\n",
    "Reinforce.action(p::RandomGuessWhoPolicy, r, s, A) = rand(A)"
   ]
  },
  {
   "cell_type": "markdown",
   "metadata": {},
   "source": [
    "### Run Episode"
   ]
  },
  {
   "cell_type": "code",
   "execution_count": 4,
   "metadata": {},
   "outputs": [
    {
     "data": {
      "text/plain": [
       "GuessWhoEnvironment(4, GuessWhoState(4, 4), 0)"
      ]
     },
     "execution_count": 4,
     "metadata": {},
     "output_type": "execute_result"
    }
   ],
   "source": [
    "env = GuessWhoEnvironment(4)"
   ]
  },
  {
   "cell_type": "code",
   "execution_count": 5,
   "metadata": {},
   "outputs": [
    {
     "data": {
      "text/plain": [
       "RandomGuessWhoPolicy()"
      ]
     },
     "execution_count": 5,
     "metadata": {},
     "output_type": "execute_result"
    }
   ],
   "source": [
    "p = RandomGuessWhoPolicy()"
   ]
  },
  {
   "cell_type": "code",
   "execution_count": 6,
   "metadata": {},
   "outputs": [
    {
     "data": {
      "text/plain": [
       "Episode{GuessWhoEnvironment,RandomGuessWhoPolicy,Float64}(GuessWhoEnvironment(4, GuessWhoState(4, 4), 0), RandomGuessWhoPolicy(), 0.0, 0.0, 1, 1, 5)"
      ]
     },
     "execution_count": 6,
     "metadata": {},
     "output_type": "execute_result"
    }
   ],
   "source": [
    "ep = Episode(env, p)"
   ]
  },
  {
   "cell_type": "code",
   "execution_count": 7,
   "metadata": {},
   "outputs": [
    {
     "name": "stdout",
     "output_type": "stream",
     "text": [
      "Initial state: GuessWhoState(4, 4)\n",
      "Action taken : 1\n",
      "Result       : 0\n",
      "Final state  : GuessWhoState(3, 2)\n",
      "\n",
      "Initial state: GuessWhoState(3, 2)\n",
      "Action taken : 0\n",
      "Result       : 1\n",
      "Final state  : GuessWhoState(0, 0)\n",
      "\n",
      "Performed 2 iterations with a result of 1.0\n"
     ]
    }
   ],
   "source": [
    "for (s, a, r, s′) in ep\n",
    "    # do some custom processing of the sars-tuple\n",
    "    println(\"Initial state: $s\")\n",
    "    println(\"Action taken : $a\")\n",
    "    println(\"Result       : $r\")\n",
    "    println(\"Final state  : $s′\")\n",
    "    println()\n",
    "end\n",
    "println(\"Performed $(ep.niter) iterations with a result of $(ep.total_reward)\");"
   ]
  },
  {
   "cell_type": "code",
   "execution_count": 8,
   "metadata": {},
   "outputs": [
    {
     "name": "stdout",
     "output_type": "stream",
     "text": [
      "Initial state: GuessWhoState(4, 4)\n",
      "Action taken : 2\n",
      "Result       : 0\n",
      "Final state  : GuessWhoState(2, 3)\n",
      "\n",
      "Initial state: GuessWhoState(2, 3)\n",
      "Action taken : 1\n",
      "Result       : 0\n",
      "Final state  : GuessWhoState(1, 2)\n",
      "\n",
      "Initial state: GuessWhoState(1, 2)\n",
      "Action taken : 0\n",
      "Result       : 1\n",
      "Final state  : GuessWhoState(0, 0)\n",
      "\n"
     ]
    },
    {
     "data": {
      "text/plain": [
       "1.0"
      ]
     },
     "execution_count": 8,
     "metadata": {},
     "output_type": "execute_result"
    }
   ],
   "source": [
    "R = Reinforce.run_episode(env, p) do (s, a, r, s′)\n",
    "    # anything you want... this section is called after each step\n",
    "    println(\"Initial state: $s\")\n",
    "    println(\"Action taken : $a\")\n",
    "    println(\"Result       : $r\")\n",
    "    println(\"Final state  : $s′\")\n",
    "    println()\n",
    "end"
   ]
  },
  {
   "cell_type": "code",
   "execution_count": null,
   "metadata": {},
   "outputs": [],
   "source": []
  }
 ],
 "metadata": {
  "kernelspec": {
   "display_name": "Julia 1.3.0",
   "language": "julia",
   "name": "julia-1.3"
  },
  "language_info": {
   "file_extension": ".jl",
   "mimetype": "application/julia",
   "name": "julia",
   "version": "1.3.0"
  }
 },
 "nbformat": 4,
 "nbformat_minor": 4
}
